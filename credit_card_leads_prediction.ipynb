{
  "nbformat": 4,
  "nbformat_minor": 0,
  "metadata": {
    "colab": {
      "name": "final_credit_card.ipynb",
      "provenance": [],
      "collapsed_sections": [
        "0t4EF9gK-17L",
        "Hv2nZLAX-7pG",
        "3n-bPyCW_ETf",
        "HY3sqcPk_Kr-",
        "SPS7ol3VZ3Vc",
        "mCoI-ZTvZ3Vc",
        "82Gkdw-2c9XS",
        "eCfXPAEpdDlf",
        "pwLsrH0gdGVB",
        "ygI9jJ5RdLFN",
        "9q6URXSCepsj",
        "EinkY0-oer40",
        "60k6yedDeuFB",
        "V0N4g_khfeqD",
        "Yv_C2uQrgAh2",
        "CXubZfWWAWHq",
        "neI-gD9VgUxm",
        "nMkNb98_gZXu",
        "T1iUBdCGger8",
        "WU9JsMvdg4Mw"
      ]
    },
    "kernelspec": {
      "display_name": "Python 3",
      "language": "python",
      "name": "python3"
    },
    "language_info": {
      "codemirror_mode": {
        "name": "ipython",
        "version": 3
      },
      "file_extension": ".py",
      "mimetype": "text/x-python",
      "name": "python",
      "nbconvert_exporter": "python",
      "pygments_lexer": "ipython3",
      "version": "3.7.1"
    }
  },
  "cells": [
    {
      "cell_type": "markdown",
      "metadata": {
        "id": "0t4EF9gK-17L"
      },
      "source": [
        "# Installing required libraries"
      ]
    },
    {
      "cell_type": "code",
      "metadata": {
        "colab": {
          "base_uri": "https://localhost:8080/"
        },
        "id": "sV2Qa1J42OdL",
        "outputId": "a1345dd5-a4a0-40b8-a9fe-ea4216a6b412"
      },
      "source": [
        "!pip install catboost"
      ],
      "execution_count": 1,
      "outputs": [
        {
          "output_type": "stream",
          "text": [
            "Requirement already satisfied: catboost in /usr/local/lib/python3.7/dist-packages (0.25.1)\n",
            "Requirement already satisfied: scipy in /usr/local/lib/python3.7/dist-packages (from catboost) (1.4.1)\n",
            "Requirement already satisfied: pandas>=0.24.0 in /usr/local/lib/python3.7/dist-packages (from catboost) (1.1.5)\n",
            "Requirement already satisfied: six in /usr/local/lib/python3.7/dist-packages (from catboost) (1.15.0)\n",
            "Requirement already satisfied: matplotlib in /usr/local/lib/python3.7/dist-packages (from catboost) (3.2.2)\n",
            "Requirement already satisfied: plotly in /usr/local/lib/python3.7/dist-packages (from catboost) (4.4.1)\n",
            "Requirement already satisfied: numpy>=1.16.0 in /usr/local/lib/python3.7/dist-packages (from catboost) (1.19.5)\n",
            "Requirement already satisfied: graphviz in /usr/local/lib/python3.7/dist-packages (from catboost) (0.10.1)\n",
            "Requirement already satisfied: pytz>=2017.2 in /usr/local/lib/python3.7/dist-packages (from pandas>=0.24.0->catboost) (2018.9)\n",
            "Requirement already satisfied: python-dateutil>=2.7.3 in /usr/local/lib/python3.7/dist-packages (from pandas>=0.24.0->catboost) (2.8.1)\n",
            "Requirement already satisfied: cycler>=0.10 in /usr/local/lib/python3.7/dist-packages (from matplotlib->catboost) (0.10.0)\n",
            "Requirement already satisfied: kiwisolver>=1.0.1 in /usr/local/lib/python3.7/dist-packages (from matplotlib->catboost) (1.3.1)\n",
            "Requirement already satisfied: pyparsing!=2.0.4,!=2.1.2,!=2.1.6,>=2.0.1 in /usr/local/lib/python3.7/dist-packages (from matplotlib->catboost) (2.4.7)\n",
            "Requirement already satisfied: retrying>=1.3.3 in /usr/local/lib/python3.7/dist-packages (from plotly->catboost) (1.3.3)\n"
          ],
          "name": "stdout"
        }
      ]
    },
    {
      "cell_type": "markdown",
      "metadata": {
        "id": "Hv2nZLAX-7pG"
      },
      "source": [
        "# Imports section"
      ]
    },
    {
      "cell_type": "code",
      "metadata": {
        "id": "Y0sCjEuKJP26",
        "colab": {
          "base_uri": "https://localhost:8080/"
        },
        "outputId": "37894c61-6287-44ef-f848-8a7e75a071c0"
      },
      "source": [
        "import pandas as pd\n",
        "import numpy as np\n",
        "import seaborn as sns\n",
        "import matplotlib.pyplot as plt\n",
        "import warnings\n",
        "from sklearn import preprocessing \n",
        "from sklearn.preprocessing import OneHotEncoder, MinMaxScaler\n",
        "from datetime import datetime\n",
        "from sklearn.model_selection import train_test_split\n",
        "from sklearn.metrics import roc_curve, auc,recall_score,precision_score,accuracy_score,roc_auc_score\n",
        "from xgboost import XGBClassifier\n",
        "from imblearn.over_sampling import RandomOverSampler\n",
        "from catboost import CatBoostClassifier\n",
        "from sklearn.ensemble import StackingClassifier\n",
        "from sklearn.linear_model import LogisticRegression\n",
        "warnings.filterwarnings(\"ignore\")"
      ],
      "execution_count": 2,
      "outputs": [
        {
          "output_type": "stream",
          "text": [
            "/usr/local/lib/python3.7/dist-packages/sklearn/externals/six.py:31: FutureWarning: The module is deprecated in version 0.21 and will be removed in version 0.23 since we've dropped support for Python 2.7. Please rely on the official version of six (https://pypi.org/project/six/).\n",
            "  \"(https://pypi.org/project/six/).\", FutureWarning)\n",
            "/usr/local/lib/python3.7/dist-packages/sklearn/utils/deprecation.py:144: FutureWarning: The sklearn.neighbors.base module is  deprecated in version 0.22 and will be removed in version 0.24. The corresponding classes / functions should instead be imported from sklearn.neighbors. Anything that cannot be imported from sklearn.neighbors is now part of the private API.\n",
            "  warnings.warn(message, FutureWarning)\n"
          ],
          "name": "stderr"
        }
      ]
    },
    {
      "cell_type": "markdown",
      "metadata": {
        "id": "3n-bPyCW_ETf"
      },
      "source": [
        "# Reading data"
      ]
    },
    {
      "cell_type": "code",
      "metadata": {
        "id": "1_Ee9SVo5z9y"
      },
      "source": [
        "data_train = pd.read_csv('train.csv')\n",
        "test_data = pd.read_csv('test.csv')\n",
        "\n",
        "train_data_id_list = data_train['ID']\n",
        "test_data_id_list = test_data['ID']\n",
        "\n",
        "del data_train['ID']\n",
        "del test_data['ID']\n",
        "\n",
        "train_data = data_train.copy()\n"
      ],
      "execution_count": 3,
      "outputs": []
    },
    {
      "cell_type": "markdown",
      "metadata": {
        "id": "HY3sqcPk_Kr-"
      },
      "source": [
        "# Data Understanding"
      ]
    },
    {
      "cell_type": "code",
      "metadata": {
        "colab": {
          "base_uri": "https://localhost:8080/",
          "height": 222
        },
        "id": "ZDVq9K_bP4Ew",
        "outputId": "0cf1adf3-b557-4fb8-c8ef-d650ab2f5190"
      },
      "source": [
        "train_data.head()"
      ],
      "execution_count": 4,
      "outputs": [
        {
          "output_type": "execute_result",
          "data": {
            "text/html": [
              "<div>\n",
              "<style scoped>\n",
              "    .dataframe tbody tr th:only-of-type {\n",
              "        vertical-align: middle;\n",
              "    }\n",
              "\n",
              "    .dataframe tbody tr th {\n",
              "        vertical-align: top;\n",
              "    }\n",
              "\n",
              "    .dataframe thead th {\n",
              "        text-align: right;\n",
              "    }\n",
              "</style>\n",
              "<table border=\"1\" class=\"dataframe\">\n",
              "  <thead>\n",
              "    <tr style=\"text-align: right;\">\n",
              "      <th></th>\n",
              "      <th>Gender</th>\n",
              "      <th>Age</th>\n",
              "      <th>Region_Code</th>\n",
              "      <th>Occupation</th>\n",
              "      <th>Channel_Code</th>\n",
              "      <th>Vintage</th>\n",
              "      <th>Credit_Product</th>\n",
              "      <th>Avg_Account_Balance</th>\n",
              "      <th>Is_Active</th>\n",
              "      <th>Is_Lead</th>\n",
              "    </tr>\n",
              "  </thead>\n",
              "  <tbody>\n",
              "    <tr>\n",
              "      <th>0</th>\n",
              "      <td>Female</td>\n",
              "      <td>73</td>\n",
              "      <td>RG268</td>\n",
              "      <td>Other</td>\n",
              "      <td>X3</td>\n",
              "      <td>43</td>\n",
              "      <td>No</td>\n",
              "      <td>1045696</td>\n",
              "      <td>No</td>\n",
              "      <td>0</td>\n",
              "    </tr>\n",
              "    <tr>\n",
              "      <th>1</th>\n",
              "      <td>Female</td>\n",
              "      <td>30</td>\n",
              "      <td>RG277</td>\n",
              "      <td>Salaried</td>\n",
              "      <td>X1</td>\n",
              "      <td>32</td>\n",
              "      <td>No</td>\n",
              "      <td>581988</td>\n",
              "      <td>No</td>\n",
              "      <td>0</td>\n",
              "    </tr>\n",
              "    <tr>\n",
              "      <th>2</th>\n",
              "      <td>Female</td>\n",
              "      <td>56</td>\n",
              "      <td>RG268</td>\n",
              "      <td>Self_Employed</td>\n",
              "      <td>X3</td>\n",
              "      <td>26</td>\n",
              "      <td>No</td>\n",
              "      <td>1484315</td>\n",
              "      <td>Yes</td>\n",
              "      <td>0</td>\n",
              "    </tr>\n",
              "    <tr>\n",
              "      <th>3</th>\n",
              "      <td>Male</td>\n",
              "      <td>34</td>\n",
              "      <td>RG270</td>\n",
              "      <td>Salaried</td>\n",
              "      <td>X1</td>\n",
              "      <td>19</td>\n",
              "      <td>No</td>\n",
              "      <td>470454</td>\n",
              "      <td>No</td>\n",
              "      <td>0</td>\n",
              "    </tr>\n",
              "    <tr>\n",
              "      <th>4</th>\n",
              "      <td>Female</td>\n",
              "      <td>30</td>\n",
              "      <td>RG282</td>\n",
              "      <td>Salaried</td>\n",
              "      <td>X1</td>\n",
              "      <td>33</td>\n",
              "      <td>No</td>\n",
              "      <td>886787</td>\n",
              "      <td>No</td>\n",
              "      <td>0</td>\n",
              "    </tr>\n",
              "  </tbody>\n",
              "</table>\n",
              "</div>"
            ],
            "text/plain": [
              "   Gender  Age Region_Code  ... Avg_Account_Balance Is_Active  Is_Lead\n",
              "0  Female   73       RG268  ...             1045696        No        0\n",
              "1  Female   30       RG277  ...              581988        No        0\n",
              "2  Female   56       RG268  ...             1484315       Yes        0\n",
              "3    Male   34       RG270  ...              470454        No        0\n",
              "4  Female   30       RG282  ...              886787        No        0\n",
              "\n",
              "[5 rows x 10 columns]"
            ]
          },
          "metadata": {
            "tags": []
          },
          "execution_count": 4
        }
      ]
    },
    {
      "cell_type": "code",
      "metadata": {
        "colab": {
          "base_uri": "https://localhost:8080/",
          "height": 202
        },
        "id": "jGtCMKl9P9Uv",
        "outputId": "7f6ccca4-34c7-4726-99fa-73e6fb6287c1"
      },
      "source": [
        "test_data.head()"
      ],
      "execution_count": 5,
      "outputs": [
        {
          "output_type": "execute_result",
          "data": {
            "text/html": [
              "<div>\n",
              "<style scoped>\n",
              "    .dataframe tbody tr th:only-of-type {\n",
              "        vertical-align: middle;\n",
              "    }\n",
              "\n",
              "    .dataframe tbody tr th {\n",
              "        vertical-align: top;\n",
              "    }\n",
              "\n",
              "    .dataframe thead th {\n",
              "        text-align: right;\n",
              "    }\n",
              "</style>\n",
              "<table border=\"1\" class=\"dataframe\">\n",
              "  <thead>\n",
              "    <tr style=\"text-align: right;\">\n",
              "      <th></th>\n",
              "      <th>Gender</th>\n",
              "      <th>Age</th>\n",
              "      <th>Region_Code</th>\n",
              "      <th>Occupation</th>\n",
              "      <th>Channel_Code</th>\n",
              "      <th>Vintage</th>\n",
              "      <th>Credit_Product</th>\n",
              "      <th>Avg_Account_Balance</th>\n",
              "      <th>Is_Active</th>\n",
              "    </tr>\n",
              "  </thead>\n",
              "  <tbody>\n",
              "    <tr>\n",
              "      <th>0</th>\n",
              "      <td>Male</td>\n",
              "      <td>29</td>\n",
              "      <td>RG254</td>\n",
              "      <td>Other</td>\n",
              "      <td>X1</td>\n",
              "      <td>25</td>\n",
              "      <td>Yes</td>\n",
              "      <td>742366</td>\n",
              "      <td>No</td>\n",
              "    </tr>\n",
              "    <tr>\n",
              "      <th>1</th>\n",
              "      <td>Male</td>\n",
              "      <td>43</td>\n",
              "      <td>RG268</td>\n",
              "      <td>Other</td>\n",
              "      <td>X2</td>\n",
              "      <td>49</td>\n",
              "      <td>NaN</td>\n",
              "      <td>925537</td>\n",
              "      <td>No</td>\n",
              "    </tr>\n",
              "    <tr>\n",
              "      <th>2</th>\n",
              "      <td>Male</td>\n",
              "      <td>31</td>\n",
              "      <td>RG270</td>\n",
              "      <td>Salaried</td>\n",
              "      <td>X1</td>\n",
              "      <td>14</td>\n",
              "      <td>No</td>\n",
              "      <td>215949</td>\n",
              "      <td>No</td>\n",
              "    </tr>\n",
              "    <tr>\n",
              "      <th>3</th>\n",
              "      <td>Male</td>\n",
              "      <td>29</td>\n",
              "      <td>RG272</td>\n",
              "      <td>Other</td>\n",
              "      <td>X1</td>\n",
              "      <td>33</td>\n",
              "      <td>No</td>\n",
              "      <td>868070</td>\n",
              "      <td>No</td>\n",
              "    </tr>\n",
              "    <tr>\n",
              "      <th>4</th>\n",
              "      <td>Female</td>\n",
              "      <td>29</td>\n",
              "      <td>RG270</td>\n",
              "      <td>Other</td>\n",
              "      <td>X1</td>\n",
              "      <td>19</td>\n",
              "      <td>No</td>\n",
              "      <td>657087</td>\n",
              "      <td>No</td>\n",
              "    </tr>\n",
              "  </tbody>\n",
              "</table>\n",
              "</div>"
            ],
            "text/plain": [
              "   Gender  Age Region_Code  ... Credit_Product Avg_Account_Balance  Is_Active\n",
              "0    Male   29       RG254  ...            Yes              742366         No\n",
              "1    Male   43       RG268  ...            NaN              925537         No\n",
              "2    Male   31       RG270  ...             No              215949         No\n",
              "3    Male   29       RG272  ...             No              868070         No\n",
              "4  Female   29       RG270  ...             No              657087         No\n",
              "\n",
              "[5 rows x 9 columns]"
            ]
          },
          "metadata": {
            "tags": []
          },
          "execution_count": 5
        }
      ]
    },
    {
      "cell_type": "code",
      "metadata": {
        "colab": {
          "base_uri": "https://localhost:8080/"
        },
        "id": "6nr3jzkDKbpH",
        "outputId": "c81131c2-7d31-4b00-d65e-54a0172ac59d"
      },
      "source": [
        "print(train_data.shape)\n",
        "print(test_data.shape)"
      ],
      "execution_count": 6,
      "outputs": [
        {
          "output_type": "stream",
          "text": [
            "(245725, 10)\n",
            "(105312, 9)\n"
          ],
          "name": "stdout"
        }
      ]
    },
    {
      "cell_type": "code",
      "metadata": {
        "colab": {
          "base_uri": "https://localhost:8080/"
        },
        "id": "ENJ89swBKol3",
        "outputId": "05280a25-c4be-4dc6-daa2-3f813cec270b"
      },
      "source": [
        "train_data.info()"
      ],
      "execution_count": 7,
      "outputs": [
        {
          "output_type": "stream",
          "text": [
            "<class 'pandas.core.frame.DataFrame'>\n",
            "RangeIndex: 245725 entries, 0 to 245724\n",
            "Data columns (total 10 columns):\n",
            " #   Column               Non-Null Count   Dtype \n",
            "---  ------               --------------   ----- \n",
            " 0   Gender               245725 non-null  object\n",
            " 1   Age                  245725 non-null  int64 \n",
            " 2   Region_Code          245725 non-null  object\n",
            " 3   Occupation           245725 non-null  object\n",
            " 4   Channel_Code         245725 non-null  object\n",
            " 5   Vintage              245725 non-null  int64 \n",
            " 6   Credit_Product       216400 non-null  object\n",
            " 7   Avg_Account_Balance  245725 non-null  int64 \n",
            " 8   Is_Active            245725 non-null  object\n",
            " 9   Is_Lead              245725 non-null  int64 \n",
            "dtypes: int64(4), object(6)\n",
            "memory usage: 18.7+ MB\n"
          ],
          "name": "stdout"
        }
      ]
    },
    {
      "cell_type": "code",
      "metadata": {
        "colab": {
          "base_uri": "https://localhost:8080/",
          "height": 294
        },
        "id": "yHD9NQB4Kto-",
        "outputId": "d099fb3f-274f-4bbb-da6d-2a5aeb8cd197"
      },
      "source": [
        "train_data.describe()"
      ],
      "execution_count": 8,
      "outputs": [
        {
          "output_type": "execute_result",
          "data": {
            "text/html": [
              "<div>\n",
              "<style scoped>\n",
              "    .dataframe tbody tr th:only-of-type {\n",
              "        vertical-align: middle;\n",
              "    }\n",
              "\n",
              "    .dataframe tbody tr th {\n",
              "        vertical-align: top;\n",
              "    }\n",
              "\n",
              "    .dataframe thead th {\n",
              "        text-align: right;\n",
              "    }\n",
              "</style>\n",
              "<table border=\"1\" class=\"dataframe\">\n",
              "  <thead>\n",
              "    <tr style=\"text-align: right;\">\n",
              "      <th></th>\n",
              "      <th>Age</th>\n",
              "      <th>Vintage</th>\n",
              "      <th>Avg_Account_Balance</th>\n",
              "      <th>Is_Lead</th>\n",
              "    </tr>\n",
              "  </thead>\n",
              "  <tbody>\n",
              "    <tr>\n",
              "      <th>count</th>\n",
              "      <td>245725.000000</td>\n",
              "      <td>245725.000000</td>\n",
              "      <td>2.457250e+05</td>\n",
              "      <td>245725.000000</td>\n",
              "    </tr>\n",
              "    <tr>\n",
              "      <th>mean</th>\n",
              "      <td>43.856307</td>\n",
              "      <td>46.959141</td>\n",
              "      <td>1.128403e+06</td>\n",
              "      <td>0.237208</td>\n",
              "    </tr>\n",
              "    <tr>\n",
              "      <th>std</th>\n",
              "      <td>14.828672</td>\n",
              "      <td>32.353136</td>\n",
              "      <td>8.529364e+05</td>\n",
              "      <td>0.425372</td>\n",
              "    </tr>\n",
              "    <tr>\n",
              "      <th>min</th>\n",
              "      <td>23.000000</td>\n",
              "      <td>7.000000</td>\n",
              "      <td>2.079000e+04</td>\n",
              "      <td>0.000000</td>\n",
              "    </tr>\n",
              "    <tr>\n",
              "      <th>25%</th>\n",
              "      <td>30.000000</td>\n",
              "      <td>20.000000</td>\n",
              "      <td>6.043100e+05</td>\n",
              "      <td>0.000000</td>\n",
              "    </tr>\n",
              "    <tr>\n",
              "      <th>50%</th>\n",
              "      <td>43.000000</td>\n",
              "      <td>32.000000</td>\n",
              "      <td>8.946010e+05</td>\n",
              "      <td>0.000000</td>\n",
              "    </tr>\n",
              "    <tr>\n",
              "      <th>75%</th>\n",
              "      <td>54.000000</td>\n",
              "      <td>73.000000</td>\n",
              "      <td>1.366666e+06</td>\n",
              "      <td>0.000000</td>\n",
              "    </tr>\n",
              "    <tr>\n",
              "      <th>max</th>\n",
              "      <td>85.000000</td>\n",
              "      <td>135.000000</td>\n",
              "      <td>1.035201e+07</td>\n",
              "      <td>1.000000</td>\n",
              "    </tr>\n",
              "  </tbody>\n",
              "</table>\n",
              "</div>"
            ],
            "text/plain": [
              "                 Age        Vintage  Avg_Account_Balance        Is_Lead\n",
              "count  245725.000000  245725.000000         2.457250e+05  245725.000000\n",
              "mean       43.856307      46.959141         1.128403e+06       0.237208\n",
              "std        14.828672      32.353136         8.529364e+05       0.425372\n",
              "min        23.000000       7.000000         2.079000e+04       0.000000\n",
              "25%        30.000000      20.000000         6.043100e+05       0.000000\n",
              "50%        43.000000      32.000000         8.946010e+05       0.000000\n",
              "75%        54.000000      73.000000         1.366666e+06       0.000000\n",
              "max        85.000000     135.000000         1.035201e+07       1.000000"
            ]
          },
          "metadata": {
            "tags": []
          },
          "execution_count": 8
        }
      ]
    },
    {
      "cell_type": "code",
      "metadata": {
        "colab": {
          "base_uri": "https://localhost:8080/"
        },
        "id": "FFoyXPhh4MSq",
        "outputId": "f64e74c2-e25c-4387-b117-5fc2e0ceaa7c"
      },
      "source": [
        "train_data.columns"
      ],
      "execution_count": 9,
      "outputs": [
        {
          "output_type": "execute_result",
          "data": {
            "text/plain": [
              "Index(['Gender', 'Age', 'Region_Code', 'Occupation', 'Channel_Code', 'Vintage',\n",
              "       'Credit_Product', 'Avg_Account_Balance', 'Is_Active', 'Is_Lead'],\n",
              "      dtype='object')"
            ]
          },
          "metadata": {
            "tags": []
          },
          "execution_count": 9
        }
      ]
    },
    {
      "cell_type": "code",
      "metadata": {
        "colab": {
          "base_uri": "https://localhost:8080/"
        },
        "id": "ueAgnHE9KzoD",
        "outputId": "2b3e2cd1-c4a4-4d52-aabf-9563f5ec8e26"
      },
      "source": [
        "train_data.isna().sum()"
      ],
      "execution_count": 10,
      "outputs": [
        {
          "output_type": "execute_result",
          "data": {
            "text/plain": [
              "Gender                     0\n",
              "Age                        0\n",
              "Region_Code                0\n",
              "Occupation                 0\n",
              "Channel_Code               0\n",
              "Vintage                    0\n",
              "Credit_Product         29325\n",
              "Avg_Account_Balance        0\n",
              "Is_Active                  0\n",
              "Is_Lead                    0\n",
              "dtype: int64"
            ]
          },
          "metadata": {
            "tags": []
          },
          "execution_count": 10
        }
      ]
    },
    {
      "cell_type": "code",
      "metadata": {
        "colab": {
          "base_uri": "https://localhost:8080/"
        },
        "id": "EhpsgXWiT7-9",
        "outputId": "295e1264-e09f-40a3-87eb-b14d88f7d82a"
      },
      "source": [
        "print(train_data.isna().sum()/len(train_data)*100)\n",
        "print(test_data.isna().sum()/len(test_data)*100)"
      ],
      "execution_count": 11,
      "outputs": [
        {
          "output_type": "stream",
          "text": [
            "Gender                  0.000000\n",
            "Age                     0.000000\n",
            "Region_Code             0.000000\n",
            "Occupation              0.000000\n",
            "Channel_Code            0.000000\n",
            "Vintage                 0.000000\n",
            "Credit_Product         11.934073\n",
            "Avg_Account_Balance     0.000000\n",
            "Is_Active               0.000000\n",
            "Is_Lead                 0.000000\n",
            "dtype: float64\n",
            "Gender                  0.000000\n",
            "Age                     0.000000\n",
            "Region_Code             0.000000\n",
            "Occupation              0.000000\n",
            "Channel_Code            0.000000\n",
            "Vintage                 0.000000\n",
            "Credit_Product         11.890383\n",
            "Avg_Account_Balance     0.000000\n",
            "Is_Active               0.000000\n",
            "dtype: float64\n"
          ],
          "name": "stdout"
        }
      ]
    },
    {
      "cell_type": "markdown",
      "metadata": {
        "id": "yyPIj5JodfQ-"
      },
      "source": [
        "# Handling Null Values"
      ]
    },
    {
      "cell_type": "code",
      "metadata": {
        "id": "Q8I-ZAMSdiNZ"
      },
      "source": [
        "train_data['Credit_Product'] = train_data['Credit_Product'].fillna('Z')\n",
        "test_data['Credit_Product'] = test_data['Credit_Product'].fillna('Z')"
      ],
      "execution_count": 12,
      "outputs": []
    },
    {
      "cell_type": "markdown",
      "metadata": {
        "id": "XsrwQ5a3_Tee"
      },
      "source": [
        "# Descriptive Analytics"
      ]
    },
    {
      "cell_type": "markdown",
      "metadata": {
        "id": "SPS7ol3VZ3Vc"
      },
      "source": [
        "### Gender"
      ]
    },
    {
      "cell_type": "code",
      "metadata": {
        "colab": {
          "base_uri": "https://localhost:8080/",
          "height": 331
        },
        "id": "qUBO1BdqK8KW",
        "outputId": "0779f08b-f188-4976-8d65-86731570f2c9"
      },
      "source": [
        "sns.countplot(data=train_data, x='Gender', hue='Is_Lead')\n",
        "print(train_data['Gender'].value_counts())"
      ],
      "execution_count": 13,
      "outputs": [
        {
          "output_type": "stream",
          "text": [
            "Male      134197\n",
            "Female    111528\n",
            "Name: Gender, dtype: int64\n"
          ],
          "name": "stdout"
        },
        {
          "output_type": "display_data",
          "data": {
            "image/png": "[encoded data removed]",
            "text/plain": [
              "<Figure size 432x288 with 1 Axes>"
            ]
          },
          "metadata": {
            "tags": [],
            "needs_background": "light"
          }
        }
      ]
    },
    {
      "cell_type": "markdown",
      "metadata": {
        "id": "mCoI-ZTvZ3Vc"
      },
      "source": [
        "### Age"
      ]
    },
    {
      "cell_type": "code",
      "metadata": {
        "colab": {
          "base_uri": "https://localhost:8080/",
          "height": 494
        },
        "id": "9A9H_gwALk6b",
        "outputId": "21a7defe-f3fa-440f-d4ea-e4416c4a3196"
      },
      "source": [
        "plt.figure(figsize=(20,6))\n",
        "sns.countplot(data=train_data, x='Age', hue='Is_Lead')\n",
        "print(train_data['Age'].value_counts())"
      ],
      "execution_count": 14,
      "outputs": [
        {
          "output_type": "stream",
          "text": [
            "28    14533\n",
            "29    13284\n",
            "27    13005\n",
            "30    11066\n",
            "26     9039\n",
            "      ...  \n",
            "82      749\n",
            "83      694\n",
            "84      624\n",
            "85      604\n",
            "23        1\n",
            "Name: Age, Length: 63, dtype: int64\n"
          ],
          "name": "stdout"
        },
        {
          "output_type": "display_data",
          "data": {
            "image/png": "[encoded data removed]",
            "text/plain": [
              "<Figure size 1440x432 with 1 Axes>"
            ]
          },
          "metadata": {
            "tags": [],
            "needs_background": "light"
          }
        }
      ]
    },
    {
      "cell_type": "markdown",
      "metadata": {
        "id": "82Gkdw-2c9XS"
      },
      "source": [
        "### Region_Code"
      ]
    },
    {
      "cell_type": "code",
      "metadata": {
        "colab": {
          "base_uri": "https://localhost:8080/",
          "height": 824
        },
        "id": "vJW72JUhOB-_",
        "outputId": "2af5cd32-3c84-4c75-f4b7-a423a257e543"
      },
      "source": [
        "plt.figure(figsize=(30,6))\n",
        "sns.countplot(data=train_data, x='Region_Code', hue='Is_Lead')\n",
        "print(train_data['Region_Code'].value_counts())"
      ],
      "execution_count": 15,
      "outputs": [
        {
          "output_type": "stream",
          "text": [
            "RG268    35934\n",
            "RG283    29416\n",
            "RG254    26840\n",
            "RG284    19320\n",
            "RG277    12826\n",
            "RG280    12775\n",
            "RG269     7863\n",
            "RG270     7720\n",
            "RG261     7633\n",
            "RG257     6101\n",
            "RG251     5950\n",
            "RG282     5829\n",
            "RG274     5286\n",
            "RG272     5252\n",
            "RG281     5093\n",
            "RG273     4497\n",
            "RG252     4286\n",
            "RG279     3976\n",
            "RG263     3687\n",
            "RG275     3245\n",
            "RG260     3110\n",
            "RG256     2847\n",
            "RG264     2793\n",
            "RG276     2764\n",
            "RG259     2586\n",
            "RG250     2496\n",
            "RG255     2018\n",
            "RG258     1951\n",
            "RG253     1858\n",
            "RG278     1822\n",
            "RG262     1788\n",
            "RG266     1578\n",
            "RG265     1546\n",
            "RG271     1542\n",
            "RG267     1497\n",
            "Name: Region_Code, dtype: int64\n"
          ],
          "name": "stdout"
        },
        {
          "output_type": "display_data",
          "data": {
            "image/png": "[encoded data removed]",
            "text/plain": [
              "<Figure size 2160x432 with 1 Axes>"
            ]
          },
          "metadata": {
            "tags": [],
            "needs_background": "light"
          }
        }
      ]
    },
    {
      "cell_type": "markdown",
      "metadata": {
        "id": "eCfXPAEpdDlf"
      },
      "source": [
        "### Occupation"
      ]
    },
    {
      "cell_type": "code",
      "metadata": {
        "colab": {
          "base_uri": "https://localhost:8080/",
          "height": 373
        },
        "id": "QlIPJr8-Qk2U",
        "outputId": "11ee9fc6-2c72-4eb4-ae20-06da5e3c6e4c"
      },
      "source": [
        "plt.figure(figsize=(20,6))\n",
        "sns.countplot(data=train_data, x='Occupation', hue='Is_Lead')\n",
        "print(train_data['Occupation'].value_counts())"
      ],
      "execution_count": 16,
      "outputs": [
        {
          "output_type": "stream",
          "text": [
            "Self_Employed    100886\n",
            "Salaried          71999\n",
            "Other             70173\n",
            "Entrepreneur       2667\n",
            "Name: Occupation, dtype: int64\n"
          ],
          "name": "stdout"
        },
        {
          "output_type": "display_data",
          "data": {
            "image/png": "[encoded data removed]",
            "text/plain": [
              "<Figure size 1440x432 with 1 Axes>"
            ]
          },
          "metadata": {
            "tags": [],
            "needs_background": "light"
          }
        }
      ]
    },
    {
      "cell_type": "markdown",
      "metadata": {
        "id": "pwLsrH0gdGVB"
      },
      "source": [
        "### Channel_Code"
      ]
    },
    {
      "cell_type": "code",
      "metadata": {
        "colab": {
          "base_uri": "https://localhost:8080/",
          "height": 373
        },
        "id": "G1lYHiVbRRdH",
        "outputId": "0c8a590d-0535-40ac-c7e7-13c6279acfea"
      },
      "source": [
        "plt.figure(figsize=(20,6))\n",
        "sns.countplot(data=train_data, x='Channel_Code', hue='Is_Lead')\n",
        "print(train_data['Channel_Code'].value_counts())"
      ],
      "execution_count": 17,
      "outputs": [
        {
          "output_type": "stream",
          "text": [
            "X1    103718\n",
            "X3     68712\n",
            "X2     67726\n",
            "X4      5569\n",
            "Name: Channel_Code, dtype: int64\n"
          ],
          "name": "stdout"
        },
        {
          "output_type": "display_data",
          "data": {
            "image/png": "[encoded data removed]",
            "text/plain": [
              "<Figure size 1440x432 with 1 Axes>"
            ]
          },
          "metadata": {
            "tags": [],
            "needs_background": "light"
          }
        }
      ]
    },
    {
      "cell_type": "markdown",
      "metadata": {
        "id": "ygI9jJ5RdLFN"
      },
      "source": [
        "### Vintage"
      ]
    },
    {
      "cell_type": "code",
      "metadata": {
        "colab": {
          "base_uri": "https://localhost:8080/",
          "height": 460
        },
        "id": "KdhuSXYyRZ5j",
        "outputId": "9c3732c7-83dc-4a3e-a4ce-126347687b4a"
      },
      "source": [
        "plt.figure(figsize=(25,6))\n",
        "print(train_data['Vintage'].value_counts())\n",
        "sns.countplot(data=train_data, x='Vintage', hue='Is_Lead')"
      ],
      "execution_count": 18,
      "outputs": [
        {
          "output_type": "stream",
          "text": [
            "13     12338\n",
            "21     12277\n",
            "14     12267\n",
            "15     12242\n",
            "19     12212\n",
            "       ...  \n",
            "128      501\n",
            "129      499\n",
            "135       19\n",
            "133       18\n",
            "134       14\n",
            "Name: Vintage, Length: 66, dtype: int64\n"
          ],
          "name": "stdout"
        },
        {
          "output_type": "execute_result",
          "data": {
            "text/plain": [
              "<matplotlib.axes._subplots.AxesSubplot at 0x7f8616fe9450>"
            ]
          },
          "metadata": {
            "tags": []
          },
          "execution_count": 18
        },
        {
          "output_type": "display_data",
          "data": {
            "image/png": "[encoded data removed]",
            "text/plain": [
              "<Figure size 1800x432 with 1 Axes>"
            ]
          },
          "metadata": {
            "tags": [],
            "needs_background": "light"
          }
        }
      ]
    },
    {
      "cell_type": "markdown",
      "metadata": {
        "id": "9q6URXSCepsj"
      },
      "source": [
        "### Credit_Product"
      ]
    },
    {
      "cell_type": "code",
      "metadata": {
        "colab": {
          "base_uri": "https://localhost:8080/",
          "height": 353
        },
        "id": "CpxyomAnRgdJ",
        "outputId": "01e6109b-f52a-4298-8399-07f156ac0c10"
      },
      "source": [
        "sns.countplot(data=train_data, x='Credit_Product', hue='Is_Lead')\n",
        "print(train_data['Credit_Product'].value_counts())"
      ],
      "execution_count": 19,
      "outputs": [
        {
          "output_type": "stream",
          "text": [
            "No     144357\n",
            "Yes     72043\n",
            "Z       29325\n",
            "Name: Credit_Product, dtype: int64\n"
          ],
          "name": "stdout"
        },
        {
          "output_type": "display_data",
          "data": {
            "image/png": "[encoded data removed]",
            "text/plain": [
              "<Figure size 432x288 with 1 Axes>"
            ]
          },
          "metadata": {
            "tags": [],
            "needs_background": "light"
          }
        }
      ]
    },
    {
      "cell_type": "markdown",
      "metadata": {
        "id": "EinkY0-oer40"
      },
      "source": [
        "### Is_Active"
      ]
    },
    {
      "cell_type": "code",
      "metadata": {
        "colab": {
          "base_uri": "https://localhost:8080/",
          "height": 332
        },
        "id": "CR72TooZRydA",
        "outputId": "7e618680-0c46-4c01-ab8f-15966ca0237e"
      },
      "source": [
        "sns.countplot(data=train_data, x='Is_Active', hue='Is_Lead')\n",
        "print(train_data['Is_Active'].value_counts())"
      ],
      "execution_count": 20,
      "outputs": [
        {
          "output_type": "stream",
          "text": [
            "No     150290\n",
            "Yes     95435\n",
            "Name: Is_Active, dtype: int64\n"
          ],
          "name": "stdout"
        },
        {
          "output_type": "display_data",
          "data": {
            "image/png": "[encoded data removed]",
            "text/plain": [
              "<Figure size 432x288 with 1 Axes>"
            ]
          },
          "metadata": {
            "tags": [],
            "needs_background": "light"
          }
        }
      ]
    },
    {
      "cell_type": "markdown",
      "metadata": {
        "id": "60k6yedDeuFB"
      },
      "source": [
        "### Avg_Account_Balance"
      ]
    },
    {
      "cell_type": "code",
      "metadata": {
        "colab": {
          "base_uri": "https://localhost:8080/",
          "height": 341
        },
        "id": "-lxcc7wgSSdN",
        "outputId": "88a87c70-aa73-494d-bac0-133653631e13"
      },
      "source": [
        "print('mean for salary is ',train_data.Avg_Account_Balance.mean())\n",
        "print('median for salary is ',train_data.Avg_Account_Balance.median())\n",
        "sns.distplot(x=train_data.Avg_Account_Balance)"
      ],
      "execution_count": 21,
      "outputs": [
        {
          "output_type": "stream",
          "text": [
            "mean for salary is  1128403.1010194323\n",
            "median for salary is  894601.0\n"
          ],
          "name": "stdout"
        },
        {
          "output_type": "execute_result",
          "data": {
            "text/plain": [
              "<matplotlib.axes._subplots.AxesSubplot at 0x7f8616cd7890>"
            ]
          },
          "metadata": {
            "tags": []
          },
          "execution_count": 21
        },
        {
          "output_type": "display_data",
          "data": {
            "image/png": "[encoded data removed]",
            "text/plain": [
              "<Figure size 432x288 with 1 Axes>"
            ]
          },
          "metadata": {
            "tags": [],
            "needs_background": "light"
          }
        }
      ]
    },
    {
      "cell_type": "code",
      "metadata": {
        "colab": {
          "base_uri": "https://localhost:8080/",
          "height": 387
        },
        "id": "1wb2Lxz0vfwj",
        "outputId": "d13147bf-c435-49de-c74b-b9d21a1592c2"
      },
      "source": [
        "sns.displot(x='Avg_Account_Balance',data=train_data,hue='Is_Lead')"
      ],
      "execution_count": 22,
      "outputs": [
        {
          "output_type": "execute_result",
          "data": {
            "text/plain": [
              "<seaborn.axisgrid.FacetGrid at 0x7f8616fc6850>"
            ]
          },
          "metadata": {
            "tags": []
          },
          "execution_count": 22
        },
        {
          "output_type": "display_data",
          "data": {
            "image/png": "[encoded data removed]",
            "text/plain": [
              "<Figure size 405.125x360 with 1 Axes>"
            ]
          },
          "metadata": {
            "tags": [],
            "needs_background": "light"
          }
        }
      ]
    },
    {
      "cell_type": "markdown",
      "metadata": {
        "id": "k3RYoERJ_lau"
      },
      "source": [
        "# Pre-Processing Data"
      ]
    },
    {
      "cell_type": "markdown",
      "metadata": {
        "id": "V0N4g_khfeqD"
      },
      "source": [
        "### Label Encoding"
      ]
    },
    {
      "cell_type": "code",
      "metadata": {
        "id": "NwGqqlhZUSIy"
      },
      "source": [
        "def label_encoding_single(colList):    \n",
        "    for col in colList:      \n",
        "        label_encoder = preprocessing.LabelEncoder()  \n",
        "        train_data[col]= label_encoder.fit_transform(train_data[col])\n",
        "        test_data[col]= label_encoder.fit_transform(test_data[col])\n",
        "    pass\n",
        "\n",
        "label_encoding_single(['Credit_Product', 'Region_Code', 'Gender', 'Occupation', 'Channel_Code', 'Is_Active'])\n"
      ],
      "execution_count": 23,
      "outputs": []
    },
    {
      "cell_type": "markdown",
      "metadata": {
        "id": "Yv_C2uQrgAh2"
      },
      "source": [
        "### Log Transformation"
      ]
    },
    {
      "cell_type": "code",
      "metadata": {
        "colab": {
          "base_uri": "https://localhost:8080/",
          "height": 283
        },
        "id": "3VrZpkQ6e7xC",
        "outputId": "2baf33f5-5949-44db-829a-5c2be82e6ace"
      },
      "source": [
        "train_data['Avg_Account_Balance'] = train_data['Avg_Account_Balance'].apply(lambda x: np.log(x+1))\n",
        "test_data['Avg_Account_Balance'] = test_data['Avg_Account_Balance'].apply(lambda x: np.log(x+1))\n",
        "sns.distplot(x=train_data.Avg_Account_Balance)"
      ],
      "execution_count": 24,
      "outputs": [
        {
          "output_type": "execute_result",
          "data": {
            "text/plain": [
              "<matplotlib.axes._subplots.AxesSubplot at 0x7f860c707f50>"
            ]
          },
          "metadata": {
            "tags": []
          },
          "execution_count": 24
        },
        {
          "output_type": "display_data",
          "data": {
            "image/png": "[encoded data removed]",
            "text/plain": [
              "<Figure size 432x288 with 1 Axes>"
            ]
          },
          "metadata": {
            "tags": [],
            "needs_background": "light"
          }
        }
      ]
    },
    {
      "cell_type": "code",
      "metadata": {
        "colab": {
          "base_uri": "https://localhost:8080/",
          "height": 222
        },
        "id": "Jwg1xXDhz_O9",
        "outputId": "bf71db6b-8d88-4b4a-f78f-aae1f8543656"
      },
      "source": [
        "train_data.head()"
      ],
      "execution_count": 25,
      "outputs": [
        {
          "output_type": "execute_result",
          "data": {
            "text/html": [
              "<div>\n",
              "<style scoped>\n",
              "    .dataframe tbody tr th:only-of-type {\n",
              "        vertical-align: middle;\n",
              "    }\n",
              "\n",
              "    .dataframe tbody tr th {\n",
              "        vertical-align: top;\n",
              "    }\n",
              "\n",
              "    .dataframe thead th {\n",
              "        text-align: right;\n",
              "    }\n",
              "</style>\n",
              "<table border=\"1\" class=\"dataframe\">\n",
              "  <thead>\n",
              "    <tr style=\"text-align: right;\">\n",
              "      <th></th>\n",
              "      <th>Gender</th>\n",
              "      <th>Age</th>\n",
              "      <th>Region_Code</th>\n",
              "      <th>Occupation</th>\n",
              "      <th>Channel_Code</th>\n",
              "      <th>Vintage</th>\n",
              "      <th>Credit_Product</th>\n",
              "      <th>Avg_Account_Balance</th>\n",
              "      <th>Is_Active</th>\n",
              "      <th>Is_Lead</th>\n",
              "    </tr>\n",
              "  </thead>\n",
              "  <tbody>\n",
              "    <tr>\n",
              "      <th>0</th>\n",
              "      <td>0</td>\n",
              "      <td>73</td>\n",
              "      <td>18</td>\n",
              "      <td>1</td>\n",
              "      <td>2</td>\n",
              "      <td>43</td>\n",
              "      <td>0</td>\n",
              "      <td>13.860194</td>\n",
              "      <td>0</td>\n",
              "      <td>0</td>\n",
              "    </tr>\n",
              "    <tr>\n",
              "      <th>1</th>\n",
              "      <td>0</td>\n",
              "      <td>30</td>\n",
              "      <td>27</td>\n",
              "      <td>2</td>\n",
              "      <td>0</td>\n",
              "      <td>32</td>\n",
              "      <td>0</td>\n",
              "      <td>13.274207</td>\n",
              "      <td>0</td>\n",
              "      <td>0</td>\n",
              "    </tr>\n",
              "    <tr>\n",
              "      <th>2</th>\n",
              "      <td>0</td>\n",
              "      <td>56</td>\n",
              "      <td>18</td>\n",
              "      <td>3</td>\n",
              "      <td>2</td>\n",
              "      <td>26</td>\n",
              "      <td>0</td>\n",
              "      <td>14.210465</td>\n",
              "      <td>1</td>\n",
              "      <td>0</td>\n",
              "    </tr>\n",
              "    <tr>\n",
              "      <th>3</th>\n",
              "      <td>1</td>\n",
              "      <td>34</td>\n",
              "      <td>20</td>\n",
              "      <td>2</td>\n",
              "      <td>0</td>\n",
              "      <td>19</td>\n",
              "      <td>0</td>\n",
              "      <td>13.061456</td>\n",
              "      <td>0</td>\n",
              "      <td>0</td>\n",
              "    </tr>\n",
              "    <tr>\n",
              "      <th>4</th>\n",
              "      <td>0</td>\n",
              "      <td>30</td>\n",
              "      <td>32</td>\n",
              "      <td>2</td>\n",
              "      <td>0</td>\n",
              "      <td>33</td>\n",
              "      <td>0</td>\n",
              "      <td>13.695361</td>\n",
              "      <td>0</td>\n",
              "      <td>0</td>\n",
              "    </tr>\n",
              "  </tbody>\n",
              "</table>\n",
              "</div>"
            ],
            "text/plain": [
              "   Gender  Age  Region_Code  ...  Avg_Account_Balance  Is_Active  Is_Lead\n",
              "0       0   73           18  ...            13.860194          0        0\n",
              "1       0   30           27  ...            13.274207          0        0\n",
              "2       0   56           18  ...            14.210465          1        0\n",
              "3       1   34           20  ...            13.061456          0        0\n",
              "4       0   30           32  ...            13.695361          0        0\n",
              "\n",
              "[5 rows x 10 columns]"
            ]
          },
          "metadata": {
            "tags": []
          },
          "execution_count": 25
        }
      ]
    },
    {
      "cell_type": "code",
      "metadata": {
        "colab": {
          "base_uri": "https://localhost:8080/",
          "height": 202
        },
        "id": "nAmaQA1Oz_O9",
        "outputId": "87e96392-e0d2-4140-e202-800c41dddf6d"
      },
      "source": [
        "test_data.head()"
      ],
      "execution_count": 26,
      "outputs": [
        {
          "output_type": "execute_result",
          "data": {
            "text/html": [
              "<div>\n",
              "<style scoped>\n",
              "    .dataframe tbody tr th:only-of-type {\n",
              "        vertical-align: middle;\n",
              "    }\n",
              "\n",
              "    .dataframe tbody tr th {\n",
              "        vertical-align: top;\n",
              "    }\n",
              "\n",
              "    .dataframe thead th {\n",
              "        text-align: right;\n",
              "    }\n",
              "</style>\n",
              "<table border=\"1\" class=\"dataframe\">\n",
              "  <thead>\n",
              "    <tr style=\"text-align: right;\">\n",
              "      <th></th>\n",
              "      <th>Gender</th>\n",
              "      <th>Age</th>\n",
              "      <th>Region_Code</th>\n",
              "      <th>Occupation</th>\n",
              "      <th>Channel_Code</th>\n",
              "      <th>Vintage</th>\n",
              "      <th>Credit_Product</th>\n",
              "      <th>Avg_Account_Balance</th>\n",
              "      <th>Is_Active</th>\n",
              "    </tr>\n",
              "  </thead>\n",
              "  <tbody>\n",
              "    <tr>\n",
              "      <th>0</th>\n",
              "      <td>1</td>\n",
              "      <td>29</td>\n",
              "      <td>4</td>\n",
              "      <td>1</td>\n",
              "      <td>0</td>\n",
              "      <td>25</td>\n",
              "      <td>1</td>\n",
              "      <td>13.517599</td>\n",
              "      <td>0</td>\n",
              "    </tr>\n",
              "    <tr>\n",
              "      <th>1</th>\n",
              "      <td>1</td>\n",
              "      <td>43</td>\n",
              "      <td>18</td>\n",
              "      <td>1</td>\n",
              "      <td>1</td>\n",
              "      <td>49</td>\n",
              "      <td>2</td>\n",
              "      <td>13.738130</td>\n",
              "      <td>0</td>\n",
              "    </tr>\n",
              "    <tr>\n",
              "      <th>2</th>\n",
              "      <td>1</td>\n",
              "      <td>31</td>\n",
              "      <td>20</td>\n",
              "      <td>2</td>\n",
              "      <td>0</td>\n",
              "      <td>14</td>\n",
              "      <td>0</td>\n",
              "      <td>12.282802</td>\n",
              "      <td>0</td>\n",
              "    </tr>\n",
              "    <tr>\n",
              "      <th>3</th>\n",
              "      <td>1</td>\n",
              "      <td>29</td>\n",
              "      <td>22</td>\n",
              "      <td>1</td>\n",
              "      <td>0</td>\n",
              "      <td>33</td>\n",
              "      <td>0</td>\n",
              "      <td>13.674029</td>\n",
              "      <td>0</td>\n",
              "    </tr>\n",
              "    <tr>\n",
              "      <th>4</th>\n",
              "      <td>0</td>\n",
              "      <td>29</td>\n",
              "      <td>20</td>\n",
              "      <td>1</td>\n",
              "      <td>0</td>\n",
              "      <td>19</td>\n",
              "      <td>0</td>\n",
              "      <td>13.395573</td>\n",
              "      <td>0</td>\n",
              "    </tr>\n",
              "  </tbody>\n",
              "</table>\n",
              "</div>"
            ],
            "text/plain": [
              "   Gender  Age  Region_Code  ...  Credit_Product  Avg_Account_Balance  Is_Active\n",
              "0       1   29            4  ...               1            13.517599          0\n",
              "1       1   43           18  ...               2            13.738130          0\n",
              "2       1   31           20  ...               0            12.282802          0\n",
              "3       1   29           22  ...               0            13.674029          0\n",
              "4       0   29           20  ...               0            13.395573          0\n",
              "\n",
              "[5 rows x 9 columns]"
            ]
          },
          "metadata": {
            "tags": []
          },
          "execution_count": 26
        }
      ]
    },
    {
      "cell_type": "markdown",
      "metadata": {
        "id": "CXubZfWWAWHq"
      },
      "source": [
        "# Correlation Matrix"
      ]
    },
    {
      "cell_type": "code",
      "metadata": {
        "colab": {
          "base_uri": "https://localhost:8080/",
          "height": 603
        },
        "id": "dtdbzpuRuXBM",
        "outputId": "aaf8ad97-0242-4b29-cd77-295496e27906"
      },
      "source": [
        "plt.figure(figsize=(10,8))\n",
        "sns.heatmap(train_data.corr(),annot=True)"
      ],
      "execution_count": 27,
      "outputs": [
        {
          "output_type": "execute_result",
          "data": {
            "text/plain": [
              "<matplotlib.axes._subplots.AxesSubplot at 0x7f860c3540d0>"
            ]
          },
          "metadata": {
            "tags": []
          },
          "execution_count": 27
        },
        {
          "output_type": "display_data",
          "data": {
            "image/png": "[encoded data removed]",
            "text/plain": [
              "<Figure size 720x576 with 2 Axes>"
            ]
          },
          "metadata": {
            "tags": [],
            "needs_background": "light"
          }
        }
      ]
    },
    {
      "cell_type": "code",
      "metadata": {
        "id": "j1n1ly3N3qu3"
      },
      "source": [
        "target = 'Is_Lead'\n",
        "df1=train_data.copy()\n",
        "X = df1.loc[:, df1.columns!=target]\n",
        "Y = df1.loc[:, df1.columns==target]"
      ],
      "execution_count": 28,
      "outputs": []
    },
    {
      "cell_type": "markdown",
      "metadata": {
        "id": "c6ipdoRo1946"
      },
      "source": [
        "# local code for testing"
      ]
    },
    {
      "cell_type": "markdown",
      "metadata": {
        "id": "neI-gD9VgUxm"
      },
      "source": [
        "### Train Test Split"
      ]
    },
    {
      "cell_type": "code",
      "metadata": {
        "colab": {
          "base_uri": "https://localhost:8080/",
          "height": 332
        },
        "id": "9G6KHN26_rxN",
        "outputId": "3aa1ff44-6ffc-44cf-f90a-7174e170f004"
      },
      "source": [
        "X_train, X_test, Y_train, Y_test = train_test_split(X, Y, \n",
        "                                                    test_size=0.20, \n",
        "                                                    random_state=42)\n",
        "ax = sns.countplot(x=df1[target], data=df1)\n",
        "print(df1[target].value_counts())"
      ],
      "execution_count": 29,
      "outputs": [
        {
          "output_type": "stream",
          "text": [
            "0    187437\n",
            "1     58288\n",
            "Name: Is_Lead, dtype: int64\n"
          ],
          "name": "stdout"
        },
        {
          "output_type": "display_data",
          "data": {
            "image/png": "[encoded data removed]",
            "text/plain": [
              "<Figure size 432x288 with 1 Axes>"
            ]
          },
          "metadata": {
            "tags": [],
            "needs_background": "light"
          }
        }
      ]
    },
    {
      "cell_type": "markdown",
      "metadata": {
        "id": "nMkNb98_gZXu"
      },
      "source": [
        "### Oversampling"
      ]
    },
    {
      "cell_type": "code",
      "metadata": {
        "colab": {
          "base_uri": "https://localhost:8080/",
          "height": 283
        },
        "id": "kE7LBMHZxXIp",
        "outputId": "422b3470-5f51-4cc9-8509-df6ad7c572cf"
      },
      "source": [
        "over = RandomOverSampler()\n",
        "x, y = over.fit_resample(X_train, Y_train[target])\n",
        "df_sampled = pd.DataFrame(x, columns = X_train.columns)\n",
        "sns.countplot(y)"
      ],
      "execution_count": 30,
      "outputs": [
        {
          "output_type": "execute_result",
          "data": {
            "text/plain": [
              "<matplotlib.axes._subplots.AxesSubplot at 0x7f860c455850>"
            ]
          },
          "metadata": {
            "tags": []
          },
          "execution_count": 30
        },
        {
          "output_type": "display_data",
          "data": {
            "image/png": "[encoded data removed]",
            "text/plain": [
              "<Figure size 432x288 with 1 Axes>"
            ]
          },
          "metadata": {
            "tags": [],
            "needs_background": "light"
          }
        }
      ]
    },
    {
      "cell_type": "markdown",
      "metadata": {
        "id": "T1iUBdCGger8"
      },
      "source": [
        "### Model Building"
      ]
    },
    {
      "cell_type": "code",
      "metadata": {
        "id": "LFb9UfFqFf9-"
      },
      "source": [
        "def generate_auc_roc_curve(clf, X_test,Y_test):\n",
        "    y_pred_proba = clf.predict_proba(X_test)[:, 1]    \n",
        "    fpr, tpr, thresholds = roc_curve(Y_test,  y_pred_proba)\n",
        "    auc = roc_auc_score(Y_test, y_pred_proba)\n",
        "    plt.plot(fpr,tpr,label=\"AUC ROC Curve with Area Under the curve =\"+str(auc))\n",
        "    plt.legend(loc=4)\n",
        "    plt.show()\n",
        "    pass\n"
      ],
      "execution_count": 31,
      "outputs": []
    },
    {
      "cell_type": "markdown",
      "metadata": {
        "id": "H_BiqjFOgvcv"
      },
      "source": [
        "#### XGBoost Classifier"
      ]
    },
    {
      "cell_type": "code",
      "metadata": {
        "colab": {
          "base_uri": "https://localhost:8080/",
          "height": 265
        },
        "id": "qPnEbph5cLJH",
        "outputId": "7740f375-4e45-4cb1-a10e-aaa6467f73e2"
      },
      "source": [
        "xgboostModel = XGBClassifier(learning_rate =0.1, n_estimators=200, max_depth=4,\n",
        "                            min_child_weight=10, gamma=5, subsample=0.8, colsample_bytree=1,\n",
        "                            nthread=-1, scale_pos_weight=1,seed=27,\n",
        "                            class_weight='balanced',booster='dart')\n",
        "\n",
        "xgboostModel.fit(df_sampled, y)\n",
        "\n",
        "y_pred_xgb = xgboostModel.predict_proba(X_test)[:,1]\n",
        "generate_auc_roc_curve(xgboostModel, X_test,Y_test)"
      ],
      "execution_count": 32,
      "outputs": [
        {
          "output_type": "display_data",
          "data": {
            "image/png": "[encoded data removed]",
            "text/plain": [
              "<Figure size 432x288 with 1 Axes>"
            ]
          },
          "metadata": {
            "tags": [],
            "needs_background": "light"
          }
        }
      ]
    },
    {
      "cell_type": "markdown",
      "metadata": {
        "id": "_4BMQip_gzde"
      },
      "source": [
        "#### CatBoost Classifier"
      ]
    },
    {
      "cell_type": "code",
      "metadata": {
        "id": "LAn1A1_AKO68",
        "colab": {
          "base_uri": "https://localhost:8080/",
          "height": 1000
        },
        "outputId": "054354e0-bcbf-42ae-c0e7-a6483961f0f1"
      },
      "source": [
        "cat = CatBoostClassifier(iterations=150,learning_rate=0.05, depth=10,eval_metric='AUC',l2_leaf_reg = 5)\n",
        "cat.fit(df_sampled, y, verbose=True)\n",
        "\n",
        "y_pred_cat = cat.predict_proba(X_test)[:,1]\n",
        "generate_auc_roc_curve(cat, X_test,Y_test)"
      ],
      "execution_count": 33,
      "outputs": [
        {
          "output_type": "stream",
          "text": [
            "0:\ttotal: 124ms\tremaining: 18.5s\n",
            "1:\ttotal: 177ms\tremaining: 13.1s\n",
            "2:\ttotal: 257ms\tremaining: 12.6s\n",
            "3:\ttotal: 343ms\tremaining: 12.5s\n",
            "4:\ttotal: 421ms\tremaining: 12.2s\n",
            "5:\ttotal: 473ms\tremaining: 11.4s\n",
            "6:\ttotal: 580ms\tremaining: 11.8s\n",
            "7:\ttotal: 645ms\tremaining: 11.4s\n",
            "8:\ttotal: 707ms\tremaining: 11.1s\n",
            "9:\ttotal: 791ms\tremaining: 11.1s\n",
            "10:\ttotal: 874ms\tremaining: 11s\n",
            "11:\ttotal: 944ms\tremaining: 10.9s\n",
            "12:\ttotal: 1.03s\tremaining: 10.8s\n",
            "13:\ttotal: 1.12s\tremaining: 10.8s\n",
            "14:\ttotal: 1.21s\tremaining: 10.8s\n",
            "15:\ttotal: 1.3s\tremaining: 10.9s\n",
            "16:\ttotal: 1.37s\tremaining: 10.7s\n",
            "17:\ttotal: 1.45s\tremaining: 10.6s\n",
            "18:\ttotal: 1.55s\tremaining: 10.7s\n",
            "19:\ttotal: 1.63s\tremaining: 10.6s\n",
            "20:\ttotal: 1.71s\tremaining: 10.5s\n",
            "21:\ttotal: 1.8s\tremaining: 10.5s\n",
            "22:\ttotal: 1.89s\tremaining: 10.4s\n",
            "23:\ttotal: 1.98s\tremaining: 10.4s\n",
            "24:\ttotal: 2.06s\tremaining: 10.3s\n",
            "25:\ttotal: 2.15s\tremaining: 10.3s\n",
            "26:\ttotal: 2.24s\tremaining: 10.2s\n",
            "27:\ttotal: 2.3s\tremaining: 10s\n",
            "28:\ttotal: 2.38s\tremaining: 9.93s\n",
            "29:\ttotal: 2.47s\tremaining: 9.87s\n",
            "30:\ttotal: 2.56s\tremaining: 9.85s\n",
            "31:\ttotal: 2.65s\tremaining: 9.76s\n",
            "32:\ttotal: 2.7s\tremaining: 9.57s\n",
            "33:\ttotal: 2.79s\tremaining: 9.51s\n",
            "34:\ttotal: 2.87s\tremaining: 9.44s\n",
            "35:\ttotal: 2.93s\tremaining: 9.28s\n",
            "36:\ttotal: 3.02s\tremaining: 9.21s\n",
            "37:\ttotal: 3.1s\tremaining: 9.13s\n",
            "38:\ttotal: 3.19s\tremaining: 9.08s\n",
            "39:\ttotal: 3.29s\tremaining: 9.04s\n",
            "40:\ttotal: 3.37s\tremaining: 8.96s\n",
            "41:\ttotal: 3.45s\tremaining: 8.88s\n",
            "42:\ttotal: 3.55s\tremaining: 8.83s\n",
            "43:\ttotal: 3.63s\tremaining: 8.75s\n",
            "44:\ttotal: 3.71s\tremaining: 8.66s\n",
            "45:\ttotal: 3.8s\tremaining: 8.6s\n",
            "46:\ttotal: 3.89s\tremaining: 8.53s\n",
            "47:\ttotal: 3.98s\tremaining: 8.45s\n",
            "48:\ttotal: 4.07s\tremaining: 8.39s\n",
            "49:\ttotal: 4.13s\tremaining: 8.25s\n",
            "50:\ttotal: 4.21s\tremaining: 8.17s\n",
            "51:\ttotal: 4.29s\tremaining: 8.09s\n",
            "52:\ttotal: 4.38s\tremaining: 8.01s\n",
            "53:\ttotal: 4.46s\tremaining: 7.93s\n",
            "54:\ttotal: 4.55s\tremaining: 7.87s\n",
            "55:\ttotal: 4.62s\tremaining: 7.76s\n",
            "56:\ttotal: 4.7s\tremaining: 7.67s\n",
            "57:\ttotal: 4.79s\tremaining: 7.6s\n",
            "58:\ttotal: 4.87s\tremaining: 7.51s\n",
            "59:\ttotal: 4.96s\tremaining: 7.43s\n",
            "60:\ttotal: 5.05s\tremaining: 7.36s\n",
            "61:\ttotal: 5.13s\tremaining: 7.28s\n",
            "62:\ttotal: 5.22s\tremaining: 7.2s\n",
            "63:\ttotal: 5.3s\tremaining: 7.13s\n",
            "64:\ttotal: 5.39s\tremaining: 7.05s\n",
            "65:\ttotal: 5.48s\tremaining: 6.97s\n",
            "66:\ttotal: 5.57s\tremaining: 6.9s\n",
            "67:\ttotal: 5.65s\tremaining: 6.82s\n",
            "68:\ttotal: 5.74s\tremaining: 6.73s\n",
            "69:\ttotal: 5.82s\tremaining: 6.65s\n",
            "70:\ttotal: 5.9s\tremaining: 6.57s\n",
            "71:\ttotal: 6s\tremaining: 6.5s\n",
            "72:\ttotal: 6.08s\tremaining: 6.41s\n",
            "73:\ttotal: 6.17s\tremaining: 6.33s\n",
            "74:\ttotal: 6.25s\tremaining: 6.25s\n",
            "75:\ttotal: 6.33s\tremaining: 6.16s\n",
            "76:\ttotal: 6.37s\tremaining: 6.04s\n",
            "77:\ttotal: 6.46s\tremaining: 5.96s\n",
            "78:\ttotal: 6.54s\tremaining: 5.88s\n",
            "79:\ttotal: 6.64s\tremaining: 5.81s\n",
            "80:\ttotal: 6.72s\tremaining: 5.72s\n",
            "81:\ttotal: 6.8s\tremaining: 5.64s\n",
            "82:\ttotal: 6.89s\tremaining: 5.56s\n",
            "83:\ttotal: 6.97s\tremaining: 5.47s\n",
            "84:\ttotal: 7.02s\tremaining: 5.37s\n",
            "85:\ttotal: 7.1s\tremaining: 5.28s\n",
            "86:\ttotal: 7.18s\tremaining: 5.2s\n",
            "87:\ttotal: 7.27s\tremaining: 5.12s\n",
            "88:\ttotal: 7.35s\tremaining: 5.04s\n",
            "89:\ttotal: 7.44s\tremaining: 4.96s\n",
            "90:\ttotal: 7.53s\tremaining: 4.88s\n",
            "91:\ttotal: 7.62s\tremaining: 4.8s\n",
            "92:\ttotal: 7.7s\tremaining: 4.72s\n",
            "93:\ttotal: 7.79s\tremaining: 4.64s\n",
            "94:\ttotal: 7.87s\tremaining: 4.56s\n",
            "95:\ttotal: 7.95s\tremaining: 4.47s\n",
            "96:\ttotal: 8.04s\tremaining: 4.4s\n",
            "97:\ttotal: 8.13s\tremaining: 4.31s\n",
            "98:\ttotal: 8.21s\tremaining: 4.23s\n",
            "99:\ttotal: 8.29s\tremaining: 4.15s\n",
            "100:\ttotal: 8.38s\tremaining: 4.06s\n",
            "101:\ttotal: 8.46s\tremaining: 3.98s\n",
            "102:\ttotal: 8.55s\tremaining: 3.9s\n",
            "103:\ttotal: 8.64s\tremaining: 3.82s\n",
            "104:\ttotal: 8.71s\tremaining: 3.73s\n",
            "105:\ttotal: 8.8s\tremaining: 3.65s\n",
            "106:\ttotal: 8.88s\tremaining: 3.57s\n",
            "107:\ttotal: 8.96s\tremaining: 3.48s\n",
            "108:\ttotal: 9.05s\tremaining: 3.4s\n",
            "109:\ttotal: 9.13s\tremaining: 3.32s\n",
            "110:\ttotal: 9.21s\tremaining: 3.24s\n",
            "111:\ttotal: 9.3s\tremaining: 3.15s\n",
            "112:\ttotal: 9.39s\tremaining: 3.08s\n",
            "113:\ttotal: 9.48s\tremaining: 2.99s\n",
            "114:\ttotal: 9.56s\tremaining: 2.91s\n",
            "115:\ttotal: 9.65s\tremaining: 2.83s\n",
            "116:\ttotal: 9.73s\tremaining: 2.75s\n",
            "117:\ttotal: 9.82s\tremaining: 2.66s\n",
            "118:\ttotal: 9.9s\tremaining: 2.58s\n",
            "119:\ttotal: 9.98s\tremaining: 2.5s\n",
            "120:\ttotal: 10.1s\tremaining: 2.42s\n",
            "121:\ttotal: 10.2s\tremaining: 2.33s\n",
            "122:\ttotal: 10.2s\tremaining: 2.25s\n",
            "123:\ttotal: 10.3s\tremaining: 2.17s\n",
            "124:\ttotal: 10.4s\tremaining: 2.08s\n",
            "125:\ttotal: 10.5s\tremaining: 2s\n",
            "126:\ttotal: 10.6s\tremaining: 1.92s\n",
            "127:\ttotal: 10.7s\tremaining: 1.83s\n",
            "128:\ttotal: 10.8s\tremaining: 1.75s\n",
            "129:\ttotal: 10.9s\tremaining: 1.67s\n",
            "130:\ttotal: 10.9s\tremaining: 1.58s\n",
            "131:\ttotal: 11s\tremaining: 1.5s\n",
            "132:\ttotal: 11.1s\tremaining: 1.42s\n",
            "133:\ttotal: 11.2s\tremaining: 1.34s\n",
            "134:\ttotal: 11.2s\tremaining: 1.25s\n",
            "135:\ttotal: 11.3s\tremaining: 1.17s\n",
            "136:\ttotal: 11.4s\tremaining: 1.08s\n",
            "137:\ttotal: 11.5s\tremaining: 1000ms\n",
            "138:\ttotal: 11.6s\tremaining: 916ms\n",
            "139:\ttotal: 11.7s\tremaining: 834ms\n",
            "140:\ttotal: 11.8s\tremaining: 750ms\n",
            "141:\ttotal: 11.8s\tremaining: 667ms\n",
            "142:\ttotal: 11.9s\tremaining: 584ms\n",
            "143:\ttotal: 12s\tremaining: 500ms\n",
            "144:\ttotal: 12.1s\tremaining: 417ms\n",
            "145:\ttotal: 12.2s\tremaining: 334ms\n",
            "146:\ttotal: 12.3s\tremaining: 250ms\n",
            "147:\ttotal: 12.3s\tremaining: 167ms\n",
            "148:\ttotal: 12.4s\tremaining: 83.4ms\n",
            "149:\ttotal: 12.5s\tremaining: 0us\n"
          ],
          "name": "stdout"
        },
        {
          "output_type": "display_data",
          "data": {
            "image/png": "[encoded data removed]",
            "text/plain": [
              "<Figure size 432x288 with 1 Axes>"
            ]
          },
          "metadata": {
            "tags": [],
            "needs_background": "light"
          }
        }
      ]
    },
    {
      "cell_type": "markdown",
      "metadata": {
        "id": "WU9JsMvdg4Mw"
      },
      "source": [
        "### Stacking models"
      ]
    },
    {
      "cell_type": "code",
      "metadata": {
        "colab": {
          "base_uri": "https://localhost:8080/"
        },
        "id": "aYfEBjUEg2U8",
        "outputId": "8690c886-ba55-44ed-9d1e-1dfdf69d9881"
      },
      "source": [
        "level0 = list()\n",
        "level0.append(('cat', CatBoostClassifier(iterations=150,learning_rate=0.05, depth=10,eval_metric='AUC',l2_leaf_reg = 5)))\n",
        "level0.append(('xgb', XGBClassifier(learning_rate =0.1, n_estimators=200, max_depth=4,\n",
        "                            min_child_weight=10, gamma=5, subsample=0.8, colsample_bytree=1,\n",
        "                            nthread=-1, scale_pos_weight=1,seed=27,\n",
        "                            class_weight='balanced',booster='dart')))\n",
        "\n",
        "level1 = LogisticRegression()\n",
        "\n",
        "ensembledModel = StackingClassifier(estimators=level0, final_estimator=level1)\n",
        "ensembledModel.fit(df_sampled, y)"
      ],
      "execution_count": 34,
      "outputs": [
        {
          "output_type": "stream",
          "text": [
            "0:\ttotal: 78.7ms\tremaining: 11.7s\n",
            "1:\ttotal: 134ms\tremaining: 9.9s\n",
            "2:\ttotal: 210ms\tremaining: 10.3s\n",
            "3:\ttotal: 296ms\tremaining: 10.8s\n",
            "4:\ttotal: 375ms\tremaining: 10.9s\n",
            "5:\ttotal: 433ms\tremaining: 10.4s\n",
            "6:\ttotal: 517ms\tremaining: 10.6s\n",
            "7:\ttotal: 580ms\tremaining: 10.3s\n",
            "8:\ttotal: 652ms\tremaining: 10.2s\n",
            "9:\ttotal: 744ms\tremaining: 10.4s\n",
            "10:\ttotal: 826ms\tremaining: 10.4s\n",
            "11:\ttotal: 901ms\tremaining: 10.4s\n",
            "12:\ttotal: 989ms\tremaining: 10.4s\n",
            "13:\ttotal: 1.07s\tremaining: 10.4s\n",
            "14:\ttotal: 1.16s\tremaining: 10.4s\n",
            "15:\ttotal: 1.25s\tremaining: 10.4s\n",
            "16:\ttotal: 1.31s\tremaining: 10.3s\n",
            "17:\ttotal: 1.4s\tremaining: 10.3s\n",
            "18:\ttotal: 1.49s\tremaining: 10.3s\n",
            "19:\ttotal: 1.57s\tremaining: 10.2s\n",
            "20:\ttotal: 1.66s\tremaining: 10.2s\n",
            "21:\ttotal: 1.75s\tremaining: 10.2s\n",
            "22:\ttotal: 1.85s\tremaining: 10.2s\n",
            "23:\ttotal: 1.93s\tremaining: 10.1s\n",
            "24:\ttotal: 2.02s\tremaining: 10.1s\n",
            "25:\ttotal: 2.1s\tremaining: 10s\n",
            "26:\ttotal: 2.18s\tremaining: 9.95s\n",
            "27:\ttotal: 2.24s\tremaining: 9.78s\n",
            "28:\ttotal: 2.33s\tremaining: 9.72s\n",
            "29:\ttotal: 2.41s\tremaining: 9.65s\n",
            "30:\ttotal: 2.51s\tremaining: 9.64s\n",
            "31:\ttotal: 2.59s\tremaining: 9.55s\n",
            "32:\ttotal: 2.65s\tremaining: 9.39s\n",
            "33:\ttotal: 2.73s\tremaining: 9.33s\n",
            "34:\ttotal: 2.82s\tremaining: 9.27s\n",
            "35:\ttotal: 2.89s\tremaining: 9.15s\n",
            "36:\ttotal: 2.98s\tremaining: 9.1s\n",
            "37:\ttotal: 3.07s\tremaining: 9.05s\n",
            "38:\ttotal: 3.16s\tremaining: 8.99s\n",
            "39:\ttotal: 3.24s\tremaining: 8.92s\n",
            "40:\ttotal: 3.33s\tremaining: 8.85s\n",
            "41:\ttotal: 3.41s\tremaining: 8.77s\n",
            "42:\ttotal: 3.5s\tremaining: 8.7s\n",
            "43:\ttotal: 3.58s\tremaining: 8.62s\n",
            "44:\ttotal: 3.67s\tremaining: 8.56s\n",
            "45:\ttotal: 3.76s\tremaining: 8.51s\n",
            "46:\ttotal: 3.85s\tremaining: 8.44s\n",
            "47:\ttotal: 3.94s\tremaining: 8.36s\n",
            "48:\ttotal: 4.02s\tremaining: 8.29s\n",
            "49:\ttotal: 4.08s\tremaining: 8.15s\n",
            "50:\ttotal: 4.16s\tremaining: 8.07s\n",
            "51:\ttotal: 4.24s\tremaining: 8s\n",
            "52:\ttotal: 4.33s\tremaining: 7.92s\n",
            "53:\ttotal: 4.41s\tremaining: 7.84s\n",
            "54:\ttotal: 4.51s\tremaining: 7.79s\n",
            "55:\ttotal: 4.56s\tremaining: 7.66s\n",
            "56:\ttotal: 4.65s\tremaining: 7.58s\n",
            "57:\ttotal: 4.74s\tremaining: 7.52s\n",
            "58:\ttotal: 4.82s\tremaining: 7.44s\n",
            "59:\ttotal: 4.91s\tremaining: 7.36s\n",
            "60:\ttotal: 5s\tremaining: 7.3s\n",
            "61:\ttotal: 5.09s\tremaining: 7.23s\n",
            "62:\ttotal: 5.18s\tremaining: 7.15s\n",
            "63:\ttotal: 5.26s\tremaining: 7.07s\n",
            "64:\ttotal: 5.34s\tremaining: 6.99s\n",
            "65:\ttotal: 5.42s\tremaining: 6.9s\n",
            "66:\ttotal: 5.51s\tremaining: 6.83s\n",
            "67:\ttotal: 5.59s\tremaining: 6.74s\n",
            "68:\ttotal: 5.68s\tremaining: 6.67s\n",
            "69:\ttotal: 5.78s\tremaining: 6.61s\n",
            "70:\ttotal: 5.86s\tremaining: 6.53s\n",
            "71:\ttotal: 5.95s\tremaining: 6.44s\n",
            "72:\ttotal: 6.03s\tremaining: 6.36s\n",
            "73:\ttotal: 6.12s\tremaining: 6.28s\n",
            "74:\ttotal: 6.2s\tremaining: 6.2s\n",
            "75:\ttotal: 6.29s\tremaining: 6.12s\n",
            "76:\ttotal: 6.32s\tremaining: 5.99s\n",
            "77:\ttotal: 6.42s\tremaining: 5.92s\n",
            "78:\ttotal: 6.5s\tremaining: 5.84s\n",
            "79:\ttotal: 6.59s\tremaining: 5.76s\n",
            "80:\ttotal: 6.67s\tremaining: 5.68s\n",
            "81:\ttotal: 6.76s\tremaining: 5.61s\n",
            "82:\ttotal: 6.84s\tremaining: 5.52s\n",
            "83:\ttotal: 6.92s\tremaining: 5.44s\n",
            "84:\ttotal: 6.98s\tremaining: 5.33s\n",
            "85:\ttotal: 7.07s\tremaining: 5.26s\n",
            "86:\ttotal: 7.15s\tremaining: 5.18s\n",
            "87:\ttotal: 7.24s\tremaining: 5.1s\n",
            "88:\ttotal: 7.32s\tremaining: 5.02s\n",
            "89:\ttotal: 7.4s\tremaining: 4.93s\n",
            "90:\ttotal: 7.49s\tremaining: 4.86s\n",
            "91:\ttotal: 7.57s\tremaining: 4.77s\n",
            "92:\ttotal: 7.66s\tremaining: 4.69s\n",
            "93:\ttotal: 7.76s\tremaining: 4.62s\n",
            "94:\ttotal: 7.84s\tremaining: 4.54s\n",
            "95:\ttotal: 7.92s\tremaining: 4.45s\n",
            "96:\ttotal: 8s\tremaining: 4.37s\n",
            "97:\ttotal: 8.09s\tremaining: 4.29s\n",
            "98:\ttotal: 8.16s\tremaining: 4.21s\n",
            "99:\ttotal: 8.25s\tremaining: 4.13s\n",
            "100:\ttotal: 8.34s\tremaining: 4.04s\n",
            "101:\ttotal: 8.43s\tremaining: 3.96s\n",
            "102:\ttotal: 8.52s\tremaining: 3.89s\n",
            "103:\ttotal: 8.6s\tremaining: 3.81s\n",
            "104:\ttotal: 8.66s\tremaining: 3.71s\n",
            "105:\ttotal: 8.76s\tremaining: 3.64s\n",
            "106:\ttotal: 8.84s\tremaining: 3.55s\n",
            "107:\ttotal: 8.92s\tremaining: 3.47s\n",
            "108:\ttotal: 9.01s\tremaining: 3.39s\n",
            "109:\ttotal: 9.1s\tremaining: 3.31s\n",
            "110:\ttotal: 9.18s\tremaining: 3.23s\n",
            "111:\ttotal: 9.27s\tremaining: 3.14s\n",
            "112:\ttotal: 9.35s\tremaining: 3.06s\n",
            "113:\ttotal: 9.44s\tremaining: 2.98s\n",
            "114:\ttotal: 9.52s\tremaining: 2.9s\n",
            "115:\ttotal: 9.61s\tremaining: 2.82s\n",
            "116:\ttotal: 9.7s\tremaining: 2.74s\n",
            "117:\ttotal: 9.79s\tremaining: 2.66s\n",
            "118:\ttotal: 9.88s\tremaining: 2.57s\n",
            "119:\ttotal: 9.95s\tremaining: 2.49s\n",
            "120:\ttotal: 10s\tremaining: 2.41s\n",
            "121:\ttotal: 10.1s\tremaining: 2.32s\n",
            "122:\ttotal: 10.2s\tremaining: 2.24s\n",
            "123:\ttotal: 10.3s\tremaining: 2.16s\n",
            "124:\ttotal: 10.4s\tremaining: 2.08s\n",
            "125:\ttotal: 10.5s\tremaining: 1.99s\n",
            "126:\ttotal: 10.6s\tremaining: 1.91s\n",
            "127:\ttotal: 10.6s\tremaining: 1.83s\n",
            "128:\ttotal: 10.7s\tremaining: 1.75s\n",
            "129:\ttotal: 10.8s\tremaining: 1.66s\n",
            "130:\ttotal: 10.9s\tremaining: 1.58s\n",
            "131:\ttotal: 11s\tremaining: 1.5s\n",
            "132:\ttotal: 11.1s\tremaining: 1.41s\n",
            "133:\ttotal: 11.2s\tremaining: 1.33s\n",
            "134:\ttotal: 11.2s\tremaining: 1.24s\n",
            "135:\ttotal: 11.3s\tremaining: 1.16s\n",
            "136:\ttotal: 11.4s\tremaining: 1.08s\n",
            "137:\ttotal: 11.5s\tremaining: 996ms\n",
            "138:\ttotal: 11.5s\tremaining: 914ms\n",
            "139:\ttotal: 11.6s\tremaining: 831ms\n",
            "140:\ttotal: 11.7s\tremaining: 747ms\n",
            "141:\ttotal: 11.8s\tremaining: 665ms\n",
            "142:\ttotal: 11.9s\tremaining: 582ms\n",
            "143:\ttotal: 12s\tremaining: 499ms\n",
            "144:\ttotal: 12.1s\tremaining: 416ms\n",
            "145:\ttotal: 12.1s\tremaining: 333ms\n",
            "146:\ttotal: 12.2s\tremaining: 250ms\n",
            "147:\ttotal: 12.3s\tremaining: 166ms\n",
            "148:\ttotal: 12.4s\tremaining: 83.2ms\n",
            "149:\ttotal: 12.5s\tremaining: 0us\n",
            "0:\ttotal: 60ms\tremaining: 8.94s\n",
            "1:\ttotal: 102ms\tremaining: 7.54s\n",
            "2:\ttotal: 140ms\tremaining: 6.84s\n",
            "3:\ttotal: 185ms\tremaining: 6.75s\n",
            "4:\ttotal: 248ms\tremaining: 7.21s\n",
            "5:\ttotal: 321ms\tremaining: 7.7s\n",
            "6:\ttotal: 387ms\tremaining: 7.9s\n",
            "7:\ttotal: 451ms\tremaining: 8s\n",
            "8:\ttotal: 515ms\tremaining: 8.07s\n",
            "9:\ttotal: 584ms\tremaining: 8.18s\n",
            "10:\ttotal: 648ms\tremaining: 8.19s\n",
            "11:\ttotal: 704ms\tremaining: 8.1s\n",
            "12:\ttotal: 772ms\tremaining: 8.14s\n",
            "13:\ttotal: 850ms\tremaining: 8.25s\n",
            "14:\ttotal: 914ms\tremaining: 8.23s\n",
            "15:\ttotal: 980ms\tremaining: 8.21s\n",
            "16:\ttotal: 1.04s\tremaining: 8.13s\n",
            "17:\ttotal: 1.11s\tremaining: 8.18s\n",
            "18:\ttotal: 1.18s\tremaining: 8.17s\n",
            "19:\ttotal: 1.26s\tremaining: 8.17s\n",
            "20:\ttotal: 1.33s\tremaining: 8.17s\n",
            "21:\ttotal: 1.4s\tremaining: 8.12s\n",
            "22:\ttotal: 1.46s\tremaining: 8.07s\n",
            "23:\ttotal: 1.53s\tremaining: 8.04s\n",
            "24:\ttotal: 1.6s\tremaining: 8s\n",
            "25:\ttotal: 1.67s\tremaining: 7.95s\n",
            "26:\ttotal: 1.71s\tremaining: 7.8s\n",
            "27:\ttotal: 1.79s\tremaining: 7.82s\n",
            "28:\ttotal: 1.86s\tremaining: 7.78s\n",
            "29:\ttotal: 1.94s\tremaining: 7.74s\n",
            "30:\ttotal: 2.01s\tremaining: 7.72s\n",
            "31:\ttotal: 2.06s\tremaining: 7.61s\n",
            "32:\ttotal: 2.13s\tremaining: 7.55s\n",
            "33:\ttotal: 2.19s\tremaining: 7.49s\n",
            "34:\ttotal: 2.27s\tremaining: 7.45s\n",
            "35:\ttotal: 2.3s\tremaining: 7.29s\n",
            "36:\ttotal: 2.37s\tremaining: 7.24s\n",
            "37:\ttotal: 2.44s\tremaining: 7.19s\n",
            "38:\ttotal: 2.51s\tremaining: 7.16s\n",
            "39:\ttotal: 2.58s\tremaining: 7.1s\n",
            "40:\ttotal: 2.65s\tremaining: 7.05s\n",
            "41:\ttotal: 2.73s\tremaining: 7.01s\n",
            "42:\ttotal: 2.78s\tremaining: 6.92s\n",
            "43:\ttotal: 2.86s\tremaining: 6.9s\n",
            "44:\ttotal: 2.94s\tremaining: 6.86s\n",
            "45:\ttotal: 3s\tremaining: 6.79s\n",
            "46:\ttotal: 3.07s\tremaining: 6.73s\n",
            "47:\ttotal: 3.14s\tremaining: 6.67s\n",
            "48:\ttotal: 3.21s\tremaining: 6.61s\n",
            "49:\ttotal: 3.25s\tremaining: 6.51s\n",
            "50:\ttotal: 3.32s\tremaining: 6.45s\n",
            "51:\ttotal: 3.39s\tremaining: 6.39s\n",
            "52:\ttotal: 3.46s\tremaining: 6.33s\n",
            "53:\ttotal: 3.53s\tremaining: 6.27s\n",
            "54:\ttotal: 3.6s\tremaining: 6.22s\n",
            "55:\ttotal: 3.68s\tremaining: 6.17s\n",
            "56:\ttotal: 3.74s\tremaining: 6.11s\n",
            "57:\ttotal: 3.82s\tremaining: 6.05s\n",
            "58:\ttotal: 3.89s\tremaining: 6s\n",
            "59:\ttotal: 3.96s\tremaining: 5.93s\n",
            "60:\ttotal: 4.02s\tremaining: 5.87s\n",
            "61:\ttotal: 4.1s\tremaining: 5.82s\n",
            "62:\ttotal: 4.17s\tremaining: 5.76s\n",
            "63:\ttotal: 4.24s\tremaining: 5.69s\n",
            "64:\ttotal: 4.31s\tremaining: 5.64s\n",
            "65:\ttotal: 4.38s\tremaining: 5.57s\n",
            "66:\ttotal: 4.45s\tremaining: 5.51s\n",
            "67:\ttotal: 4.51s\tremaining: 5.44s\n",
            "68:\ttotal: 4.58s\tremaining: 5.38s\n",
            "69:\ttotal: 4.62s\tremaining: 5.28s\n",
            "70:\ttotal: 4.69s\tremaining: 5.22s\n",
            "71:\ttotal: 4.74s\tremaining: 5.14s\n",
            "72:\ttotal: 4.81s\tremaining: 5.08s\n",
            "73:\ttotal: 4.89s\tremaining: 5.02s\n",
            "74:\ttotal: 4.96s\tremaining: 4.96s\n",
            "75:\ttotal: 5.04s\tremaining: 4.91s\n",
            "76:\ttotal: 5.11s\tremaining: 4.84s\n",
            "77:\ttotal: 5.17s\tremaining: 4.77s\n",
            "78:\ttotal: 5.24s\tremaining: 4.71s\n",
            "79:\ttotal: 5.31s\tremaining: 4.65s\n",
            "80:\ttotal: 5.38s\tremaining: 4.58s\n",
            "81:\ttotal: 5.46s\tremaining: 4.53s\n",
            "82:\ttotal: 5.53s\tremaining: 4.46s\n",
            "83:\ttotal: 5.59s\tremaining: 4.39s\n",
            "84:\ttotal: 5.66s\tremaining: 4.33s\n",
            "85:\ttotal: 5.73s\tremaining: 4.27s\n",
            "86:\ttotal: 5.8s\tremaining: 4.2s\n",
            "87:\ttotal: 5.88s\tremaining: 4.14s\n",
            "88:\ttotal: 5.95s\tremaining: 4.08s\n",
            "89:\ttotal: 6.01s\tremaining: 4.01s\n",
            "90:\ttotal: 6.08s\tremaining: 3.94s\n",
            "91:\ttotal: 6.15s\tremaining: 3.88s\n",
            "92:\ttotal: 6.21s\tremaining: 3.81s\n",
            "93:\ttotal: 6.28s\tremaining: 3.74s\n",
            "94:\ttotal: 6.32s\tremaining: 3.66s\n",
            "95:\ttotal: 6.4s\tremaining: 3.6s\n",
            "96:\ttotal: 6.47s\tremaining: 3.53s\n",
            "97:\ttotal: 6.54s\tremaining: 3.47s\n",
            "98:\ttotal: 6.6s\tremaining: 3.4s\n",
            "99:\ttotal: 6.68s\tremaining: 3.34s\n",
            "100:\ttotal: 6.74s\tremaining: 3.27s\n",
            "101:\ttotal: 6.81s\tremaining: 3.21s\n",
            "102:\ttotal: 6.89s\tremaining: 3.15s\n",
            "103:\ttotal: 6.96s\tremaining: 3.08s\n",
            "104:\ttotal: 7.04s\tremaining: 3.02s\n",
            "105:\ttotal: 7.11s\tremaining: 2.95s\n",
            "106:\ttotal: 7.18s\tremaining: 2.88s\n",
            "107:\ttotal: 7.21s\tremaining: 2.8s\n",
            "108:\ttotal: 7.29s\tremaining: 2.74s\n",
            "109:\ttotal: 7.36s\tremaining: 2.68s\n",
            "110:\ttotal: 7.43s\tremaining: 2.61s\n",
            "111:\ttotal: 7.51s\tremaining: 2.55s\n",
            "112:\ttotal: 7.58s\tremaining: 2.48s\n",
            "113:\ttotal: 7.65s\tremaining: 2.41s\n",
            "114:\ttotal: 7.72s\tremaining: 2.35s\n",
            "115:\ttotal: 7.79s\tremaining: 2.28s\n",
            "116:\ttotal: 7.87s\tremaining: 2.22s\n",
            "117:\ttotal: 7.95s\tremaining: 2.16s\n",
            "118:\ttotal: 8.02s\tremaining: 2.09s\n",
            "119:\ttotal: 8.09s\tremaining: 2.02s\n",
            "120:\ttotal: 8.16s\tremaining: 1.96s\n",
            "121:\ttotal: 8.23s\tremaining: 1.89s\n",
            "122:\ttotal: 8.3s\tremaining: 1.82s\n",
            "123:\ttotal: 8.37s\tremaining: 1.75s\n",
            "124:\ttotal: 8.41s\tremaining: 1.68s\n",
            "125:\ttotal: 8.48s\tremaining: 1.61s\n",
            "126:\ttotal: 8.55s\tremaining: 1.55s\n",
            "127:\ttotal: 8.59s\tremaining: 1.48s\n",
            "128:\ttotal: 8.66s\tremaining: 1.41s\n",
            "129:\ttotal: 8.73s\tremaining: 1.34s\n",
            "130:\ttotal: 8.81s\tremaining: 1.28s\n",
            "131:\ttotal: 8.89s\tremaining: 1.21s\n",
            "132:\ttotal: 8.95s\tremaining: 1.14s\n",
            "133:\ttotal: 9.02s\tremaining: 1.08s\n",
            "134:\ttotal: 9.09s\tremaining: 1.01s\n",
            "135:\ttotal: 9.16s\tremaining: 943ms\n",
            "136:\ttotal: 9.23s\tremaining: 876ms\n",
            "137:\ttotal: 9.31s\tremaining: 809ms\n",
            "138:\ttotal: 9.37s\tremaining: 742ms\n",
            "139:\ttotal: 9.44s\tremaining: 675ms\n",
            "140:\ttotal: 9.51s\tremaining: 607ms\n",
            "141:\ttotal: 9.57s\tremaining: 539ms\n",
            "142:\ttotal: 9.64s\tremaining: 472ms\n",
            "143:\ttotal: 9.71s\tremaining: 405ms\n",
            "144:\ttotal: 9.77s\tremaining: 337ms\n",
            "145:\ttotal: 9.84s\tremaining: 270ms\n",
            "146:\ttotal: 9.93s\tremaining: 203ms\n",
            "147:\ttotal: 10s\tremaining: 135ms\n",
            "148:\ttotal: 10.1s\tremaining: 67.6ms\n",
            "149:\ttotal: 10.1s\tremaining: 0us\n",
            "0:\ttotal: 55.7ms\tremaining: 8.3s\n",
            "1:\ttotal: 99.9ms\tremaining: 7.39s\n",
            "2:\ttotal: 142ms\tremaining: 6.95s\n",
            "3:\ttotal: 187ms\tremaining: 6.84s\n",
            "4:\ttotal: 252ms\tremaining: 7.32s\n",
            "5:\ttotal: 322ms\tremaining: 7.72s\n",
            "6:\ttotal: 386ms\tremaining: 7.88s\n",
            "7:\ttotal: 457ms\tremaining: 8.11s\n",
            "8:\ttotal: 537ms\tremaining: 8.42s\n",
            "9:\ttotal: 598ms\tremaining: 8.38s\n",
            "10:\ttotal: 664ms\tremaining: 8.39s\n",
            "11:\ttotal: 706ms\tremaining: 8.12s\n",
            "12:\ttotal: 776ms\tremaining: 8.18s\n",
            "13:\ttotal: 848ms\tremaining: 8.24s\n",
            "14:\ttotal: 915ms\tremaining: 8.24s\n",
            "15:\ttotal: 988ms\tremaining: 8.27s\n",
            "16:\ttotal: 1.05s\tremaining: 8.24s\n",
            "17:\ttotal: 1.12s\tremaining: 8.21s\n",
            "18:\ttotal: 1.18s\tremaining: 8.17s\n",
            "19:\ttotal: 1.26s\tremaining: 8.2s\n",
            "20:\ttotal: 1.33s\tremaining: 8.16s\n",
            "21:\ttotal: 1.41s\tremaining: 8.18s\n",
            "22:\ttotal: 1.49s\tremaining: 8.23s\n",
            "23:\ttotal: 1.54s\tremaining: 8.08s\n",
            "24:\ttotal: 1.6s\tremaining: 8.03s\n",
            "25:\ttotal: 1.67s\tremaining: 7.97s\n",
            "26:\ttotal: 1.75s\tremaining: 7.97s\n",
            "27:\ttotal: 1.8s\tremaining: 7.86s\n",
            "28:\ttotal: 1.87s\tremaining: 7.8s\n",
            "29:\ttotal: 1.94s\tremaining: 7.75s\n",
            "30:\ttotal: 2.01s\tremaining: 7.72s\n",
            "31:\ttotal: 2.08s\tremaining: 7.66s\n",
            "32:\ttotal: 2.14s\tremaining: 7.58s\n",
            "33:\ttotal: 2.2s\tremaining: 7.52s\n",
            "34:\ttotal: 2.27s\tremaining: 7.45s\n",
            "35:\ttotal: 2.33s\tremaining: 7.38s\n",
            "36:\ttotal: 2.4s\tremaining: 7.34s\n",
            "37:\ttotal: 2.48s\tremaining: 7.32s\n",
            "38:\ttotal: 2.55s\tremaining: 7.26s\n",
            "39:\ttotal: 2.62s\tremaining: 7.21s\n",
            "40:\ttotal: 2.71s\tremaining: 7.2s\n",
            "41:\ttotal: 2.78s\tremaining: 7.15s\n",
            "42:\ttotal: 2.85s\tremaining: 7.09s\n",
            "43:\ttotal: 2.92s\tremaining: 7.04s\n",
            "44:\ttotal: 2.99s\tremaining: 6.97s\n",
            "45:\ttotal: 3.06s\tremaining: 6.92s\n",
            "46:\ttotal: 3.13s\tremaining: 6.87s\n",
            "47:\ttotal: 3.2s\tremaining: 6.81s\n",
            "48:\ttotal: 3.27s\tremaining: 6.74s\n",
            "49:\ttotal: 3.35s\tremaining: 6.7s\n",
            "50:\ttotal: 3.43s\tremaining: 6.66s\n",
            "51:\ttotal: 3.51s\tremaining: 6.62s\n",
            "52:\ttotal: 3.55s\tremaining: 6.49s\n",
            "53:\ttotal: 3.62s\tremaining: 6.43s\n",
            "54:\ttotal: 3.69s\tremaining: 6.37s\n",
            "55:\ttotal: 3.75s\tremaining: 6.3s\n",
            "56:\ttotal: 3.83s\tremaining: 6.24s\n",
            "57:\ttotal: 3.89s\tremaining: 6.18s\n",
            "58:\ttotal: 3.96s\tremaining: 6.11s\n",
            "59:\ttotal: 4.03s\tremaining: 6.04s\n",
            "60:\ttotal: 4.1s\tremaining: 5.98s\n",
            "61:\ttotal: 4.17s\tremaining: 5.92s\n",
            "62:\ttotal: 4.2s\tremaining: 5.8s\n",
            "63:\ttotal: 4.27s\tremaining: 5.74s\n",
            "64:\ttotal: 4.34s\tremaining: 5.68s\n",
            "65:\ttotal: 4.41s\tremaining: 5.62s\n",
            "66:\ttotal: 4.49s\tremaining: 5.57s\n",
            "67:\ttotal: 4.56s\tremaining: 5.5s\n",
            "68:\ttotal: 4.63s\tremaining: 5.43s\n",
            "69:\ttotal: 4.7s\tremaining: 5.37s\n",
            "70:\ttotal: 4.76s\tremaining: 5.3s\n",
            "71:\ttotal: 4.83s\tremaining: 5.23s\n",
            "72:\ttotal: 4.9s\tremaining: 5.16s\n",
            "73:\ttotal: 4.96s\tremaining: 5.1s\n",
            "74:\ttotal: 5.04s\tremaining: 5.04s\n",
            "75:\ttotal: 5.1s\tremaining: 4.97s\n",
            "76:\ttotal: 5.17s\tremaining: 4.9s\n",
            "77:\ttotal: 5.24s\tremaining: 4.84s\n",
            "78:\ttotal: 5.32s\tremaining: 4.78s\n",
            "79:\ttotal: 5.4s\tremaining: 4.73s\n",
            "80:\ttotal: 5.47s\tremaining: 4.66s\n",
            "81:\ttotal: 5.55s\tremaining: 4.6s\n",
            "82:\ttotal: 5.62s\tremaining: 4.54s\n",
            "83:\ttotal: 5.69s\tremaining: 4.47s\n",
            "84:\ttotal: 5.76s\tremaining: 4.4s\n",
            "85:\ttotal: 5.83s\tremaining: 4.34s\n",
            "86:\ttotal: 5.9s\tremaining: 4.27s\n",
            "87:\ttotal: 5.97s\tremaining: 4.21s\n",
            "88:\ttotal: 6.03s\tremaining: 4.14s\n",
            "89:\ttotal: 6.11s\tremaining: 4.08s\n",
            "90:\ttotal: 6.18s\tremaining: 4.01s\n",
            "91:\ttotal: 6.25s\tremaining: 3.94s\n",
            "92:\ttotal: 6.33s\tremaining: 3.88s\n",
            "93:\ttotal: 6.39s\tremaining: 3.81s\n",
            "94:\ttotal: 6.46s\tremaining: 3.74s\n",
            "95:\ttotal: 6.55s\tremaining: 3.68s\n",
            "96:\ttotal: 6.61s\tremaining: 3.61s\n",
            "97:\ttotal: 6.68s\tremaining: 3.54s\n",
            "98:\ttotal: 6.76s\tremaining: 3.48s\n",
            "99:\ttotal: 6.83s\tremaining: 3.42s\n",
            "100:\ttotal: 6.87s\tremaining: 3.33s\n",
            "101:\ttotal: 6.93s\tremaining: 3.26s\n",
            "102:\ttotal: 7s\tremaining: 3.2s\n",
            "103:\ttotal: 7.07s\tremaining: 3.13s\n",
            "104:\ttotal: 7.13s\tremaining: 3.06s\n",
            "105:\ttotal: 7.2s\tremaining: 2.99s\n",
            "106:\ttotal: 7.28s\tremaining: 2.92s\n",
            "107:\ttotal: 7.34s\tremaining: 2.85s\n",
            "108:\ttotal: 7.44s\tremaining: 2.8s\n",
            "109:\ttotal: 7.53s\tremaining: 2.74s\n",
            "110:\ttotal: 7.59s\tremaining: 2.67s\n",
            "111:\ttotal: 7.66s\tremaining: 2.6s\n",
            "112:\ttotal: 7.73s\tremaining: 2.53s\n",
            "113:\ttotal: 7.8s\tremaining: 2.46s\n",
            "114:\ttotal: 7.86s\tremaining: 2.39s\n",
            "115:\ttotal: 7.93s\tremaining: 2.32s\n",
            "116:\ttotal: 7.99s\tremaining: 2.25s\n",
            "117:\ttotal: 8.08s\tremaining: 2.19s\n",
            "118:\ttotal: 8.15s\tremaining: 2.12s\n",
            "119:\ttotal: 8.21s\tremaining: 2.05s\n",
            "120:\ttotal: 8.28s\tremaining: 1.98s\n",
            "121:\ttotal: 8.35s\tremaining: 1.92s\n",
            "122:\ttotal: 8.42s\tremaining: 1.85s\n",
            "123:\ttotal: 8.49s\tremaining: 1.78s\n",
            "124:\ttotal: 8.54s\tremaining: 1.71s\n",
            "125:\ttotal: 8.61s\tremaining: 1.64s\n",
            "126:\ttotal: 8.69s\tremaining: 1.57s\n",
            "127:\ttotal: 8.76s\tremaining: 1.5s\n",
            "128:\ttotal: 8.83s\tremaining: 1.44s\n",
            "129:\ttotal: 8.89s\tremaining: 1.37s\n",
            "130:\ttotal: 8.96s\tremaining: 1.3s\n",
            "131:\ttotal: 9.03s\tremaining: 1.23s\n",
            "132:\ttotal: 9.1s\tremaining: 1.16s\n",
            "133:\ttotal: 9.16s\tremaining: 1.09s\n",
            "134:\ttotal: 9.23s\tremaining: 1.03s\n",
            "135:\ttotal: 9.3s\tremaining: 957ms\n",
            "136:\ttotal: 9.38s\tremaining: 890ms\n",
            "137:\ttotal: 9.45s\tremaining: 822ms\n",
            "138:\ttotal: 9.52s\tremaining: 754ms\n",
            "139:\ttotal: 9.6s\tremaining: 685ms\n",
            "140:\ttotal: 9.67s\tremaining: 617ms\n",
            "141:\ttotal: 9.74s\tremaining: 549ms\n",
            "142:\ttotal: 9.81s\tremaining: 480ms\n",
            "143:\ttotal: 9.88s\tremaining: 412ms\n",
            "144:\ttotal: 9.95s\tremaining: 343ms\n",
            "145:\ttotal: 10s\tremaining: 274ms\n",
            "146:\ttotal: 10.1s\tremaining: 206ms\n",
            "147:\ttotal: 10.2s\tremaining: 137ms\n",
            "148:\ttotal: 10.2s\tremaining: 68.6ms\n",
            "149:\ttotal: 10.3s\tremaining: 0us\n",
            "0:\ttotal: 55.1ms\tremaining: 8.21s\n",
            "1:\ttotal: 96.5ms\tremaining: 7.14s\n",
            "2:\ttotal: 134ms\tremaining: 6.57s\n",
            "3:\ttotal: 181ms\tremaining: 6.6s\n",
            "4:\ttotal: 248ms\tremaining: 7.19s\n",
            "5:\ttotal: 317ms\tremaining: 7.61s\n",
            "6:\ttotal: 384ms\tremaining: 7.84s\n",
            "7:\ttotal: 453ms\tremaining: 8.04s\n",
            "8:\ttotal: 523ms\tremaining: 8.2s\n",
            "9:\ttotal: 595ms\tremaining: 8.33s\n",
            "10:\ttotal: 664ms\tremaining: 8.39s\n",
            "11:\ttotal: 732ms\tremaining: 8.42s\n",
            "12:\ttotal: 799ms\tremaining: 8.42s\n",
            "13:\ttotal: 866ms\tremaining: 8.41s\n",
            "14:\ttotal: 932ms\tremaining: 8.38s\n",
            "15:\ttotal: 1.01s\tremaining: 8.46s\n",
            "16:\ttotal: 1.08s\tremaining: 8.45s\n",
            "17:\ttotal: 1.15s\tremaining: 8.4s\n",
            "18:\ttotal: 1.22s\tremaining: 8.41s\n",
            "19:\ttotal: 1.29s\tremaining: 8.37s\n",
            "20:\ttotal: 1.36s\tremaining: 8.38s\n",
            "21:\ttotal: 1.44s\tremaining: 8.37s\n",
            "22:\ttotal: 1.51s\tremaining: 8.36s\n",
            "23:\ttotal: 1.56s\tremaining: 8.18s\n",
            "24:\ttotal: 1.62s\tremaining: 8.12s\n",
            "25:\ttotal: 1.7s\tremaining: 8.09s\n",
            "26:\ttotal: 1.75s\tremaining: 7.97s\n",
            "27:\ttotal: 1.82s\tremaining: 7.92s\n",
            "28:\ttotal: 1.88s\tremaining: 7.86s\n",
            "29:\ttotal: 1.96s\tremaining: 7.86s\n",
            "30:\ttotal: 2.04s\tremaining: 7.84s\n",
            "31:\ttotal: 2.09s\tremaining: 7.71s\n",
            "32:\ttotal: 2.15s\tremaining: 7.64s\n",
            "33:\ttotal: 2.23s\tremaining: 7.62s\n",
            "34:\ttotal: 2.3s\tremaining: 7.56s\n",
            "35:\ttotal: 2.34s\tremaining: 7.4s\n",
            "36:\ttotal: 2.41s\tremaining: 7.35s\n",
            "37:\ttotal: 2.48s\tremaining: 7.3s\n",
            "38:\ttotal: 2.54s\tremaining: 7.24s\n",
            "39:\ttotal: 2.62s\tremaining: 7.2s\n",
            "40:\ttotal: 2.7s\tremaining: 7.18s\n",
            "41:\ttotal: 2.77s\tremaining: 7.12s\n",
            "42:\ttotal: 2.84s\tremaining: 7.08s\n",
            "43:\ttotal: 2.92s\tremaining: 7.02s\n",
            "44:\ttotal: 2.99s\tremaining: 6.97s\n",
            "45:\ttotal: 3.06s\tremaining: 6.91s\n",
            "46:\ttotal: 3.13s\tremaining: 6.86s\n",
            "47:\ttotal: 3.2s\tremaining: 6.79s\n",
            "48:\ttotal: 3.26s\tremaining: 6.73s\n",
            "49:\ttotal: 3.3s\tremaining: 6.61s\n",
            "50:\ttotal: 3.38s\tremaining: 6.56s\n",
            "51:\ttotal: 3.45s\tremaining: 6.5s\n",
            "52:\ttotal: 3.52s\tremaining: 6.44s\n",
            "53:\ttotal: 3.59s\tremaining: 6.39s\n",
            "54:\ttotal: 3.66s\tremaining: 6.32s\n",
            "55:\ttotal: 3.73s\tremaining: 6.26s\n",
            "56:\ttotal: 3.8s\tremaining: 6.21s\n",
            "57:\ttotal: 3.87s\tremaining: 6.14s\n",
            "58:\ttotal: 3.94s\tremaining: 6.08s\n",
            "59:\ttotal: 4.02s\tremaining: 6.03s\n",
            "60:\ttotal: 4.08s\tremaining: 5.96s\n",
            "61:\ttotal: 4.15s\tremaining: 5.89s\n",
            "62:\ttotal: 4.23s\tremaining: 5.84s\n",
            "63:\ttotal: 4.29s\tremaining: 5.77s\n",
            "64:\ttotal: 4.36s\tremaining: 5.7s\n",
            "65:\ttotal: 4.43s\tremaining: 5.64s\n",
            "66:\ttotal: 4.5s\tremaining: 5.58s\n",
            "67:\ttotal: 4.57s\tremaining: 5.51s\n",
            "68:\ttotal: 4.63s\tremaining: 5.44s\n",
            "69:\ttotal: 4.67s\tremaining: 5.34s\n",
            "70:\ttotal: 4.74s\tremaining: 5.28s\n",
            "71:\ttotal: 4.79s\tremaining: 5.18s\n",
            "72:\ttotal: 4.86s\tremaining: 5.13s\n",
            "73:\ttotal: 4.94s\tremaining: 5.07s\n",
            "74:\ttotal: 5.01s\tremaining: 5.01s\n",
            "75:\ttotal: 5.08s\tremaining: 4.95s\n",
            "76:\ttotal: 5.15s\tremaining: 4.88s\n",
            "77:\ttotal: 5.22s\tremaining: 4.82s\n",
            "78:\ttotal: 5.29s\tremaining: 4.75s\n",
            "79:\ttotal: 5.35s\tremaining: 4.68s\n",
            "80:\ttotal: 5.42s\tremaining: 4.62s\n",
            "81:\ttotal: 5.49s\tremaining: 4.55s\n",
            "82:\ttotal: 5.55s\tremaining: 4.48s\n",
            "83:\ttotal: 5.62s\tremaining: 4.42s\n",
            "84:\ttotal: 5.69s\tremaining: 4.35s\n",
            "85:\ttotal: 5.76s\tremaining: 4.29s\n",
            "86:\ttotal: 5.84s\tremaining: 4.23s\n",
            "87:\ttotal: 5.91s\tremaining: 4.16s\n",
            "88:\ttotal: 5.97s\tremaining: 4.09s\n",
            "89:\ttotal: 6.05s\tremaining: 4.04s\n",
            "90:\ttotal: 6.13s\tremaining: 3.98s\n",
            "91:\ttotal: 6.21s\tremaining: 3.91s\n",
            "92:\ttotal: 6.28s\tremaining: 3.85s\n",
            "93:\ttotal: 6.35s\tremaining: 3.78s\n",
            "94:\ttotal: 6.41s\tremaining: 3.71s\n",
            "95:\ttotal: 6.48s\tremaining: 3.64s\n",
            "96:\ttotal: 6.56s\tremaining: 3.58s\n",
            "97:\ttotal: 6.62s\tremaining: 3.51s\n",
            "98:\ttotal: 6.69s\tremaining: 3.45s\n",
            "99:\ttotal: 6.77s\tremaining: 3.38s\n",
            "100:\ttotal: 6.84s\tremaining: 3.32s\n",
            "101:\ttotal: 6.9s\tremaining: 3.25s\n",
            "102:\ttotal: 6.97s\tremaining: 3.18s\n",
            "103:\ttotal: 7.05s\tremaining: 3.12s\n",
            "104:\ttotal: 7.12s\tremaining: 3.05s\n",
            "105:\ttotal: 7.2s\tremaining: 2.99s\n",
            "106:\ttotal: 7.27s\tremaining: 2.92s\n",
            "107:\ttotal: 7.33s\tremaining: 2.85s\n",
            "108:\ttotal: 7.42s\tremaining: 2.79s\n",
            "109:\ttotal: 7.49s\tremaining: 2.72s\n",
            "110:\ttotal: 7.55s\tremaining: 2.65s\n",
            "111:\ttotal: 7.62s\tremaining: 2.59s\n",
            "112:\ttotal: 7.7s\tremaining: 2.52s\n",
            "113:\ttotal: 7.77s\tremaining: 2.45s\n",
            "114:\ttotal: 7.85s\tremaining: 2.39s\n",
            "115:\ttotal: 7.92s\tremaining: 2.32s\n",
            "116:\ttotal: 7.98s\tremaining: 2.25s\n",
            "117:\ttotal: 8.06s\tremaining: 2.19s\n",
            "118:\ttotal: 8.13s\tremaining: 2.12s\n",
            "119:\ttotal: 8.19s\tremaining: 2.05s\n",
            "120:\ttotal: 8.26s\tremaining: 1.98s\n",
            "121:\ttotal: 8.33s\tremaining: 1.91s\n",
            "122:\ttotal: 8.4s\tremaining: 1.84s\n",
            "123:\ttotal: 8.46s\tremaining: 1.77s\n",
            "124:\ttotal: 8.54s\tremaining: 1.71s\n",
            "125:\ttotal: 8.61s\tremaining: 1.64s\n",
            "126:\ttotal: 8.68s\tremaining: 1.57s\n",
            "127:\ttotal: 8.75s\tremaining: 1.5s\n",
            "128:\ttotal: 8.82s\tremaining: 1.44s\n",
            "129:\ttotal: 8.89s\tremaining: 1.37s\n",
            "130:\ttotal: 8.97s\tremaining: 1.3s\n",
            "131:\ttotal: 9.04s\tremaining: 1.23s\n",
            "132:\ttotal: 9.11s\tremaining: 1.16s\n",
            "133:\ttotal: 9.19s\tremaining: 1.1s\n",
            "134:\ttotal: 9.26s\tremaining: 1.03s\n",
            "135:\ttotal: 9.33s\tremaining: 960ms\n",
            "136:\ttotal: 9.39s\tremaining: 892ms\n",
            "137:\ttotal: 9.47s\tremaining: 823ms\n",
            "138:\ttotal: 9.54s\tremaining: 755ms\n",
            "139:\ttotal: 9.61s\tremaining: 686ms\n",
            "140:\ttotal: 9.69s\tremaining: 618ms\n",
            "141:\ttotal: 9.76s\tremaining: 550ms\n",
            "142:\ttotal: 9.79s\tremaining: 479ms\n",
            "143:\ttotal: 9.87s\tremaining: 411ms\n",
            "144:\ttotal: 9.94s\tremaining: 343ms\n",
            "145:\ttotal: 10s\tremaining: 274ms\n",
            "146:\ttotal: 10.1s\tremaining: 206ms\n",
            "147:\ttotal: 10.2s\tremaining: 137ms\n",
            "148:\ttotal: 10.2s\tremaining: 68.6ms\n",
            "149:\ttotal: 10.3s\tremaining: 0us\n",
            "0:\ttotal: 55.4ms\tremaining: 8.26s\n",
            "1:\ttotal: 97.2ms\tremaining: 7.19s\n",
            "2:\ttotal: 135ms\tremaining: 6.6s\n",
            "3:\ttotal: 187ms\tremaining: 6.83s\n",
            "4:\ttotal: 254ms\tremaining: 7.36s\n",
            "5:\ttotal: 327ms\tremaining: 7.85s\n",
            "6:\ttotal: 398ms\tremaining: 8.12s\n",
            "7:\ttotal: 467ms\tremaining: 8.3s\n",
            "8:\ttotal: 543ms\tremaining: 8.5s\n",
            "9:\ttotal: 608ms\tremaining: 8.52s\n",
            "10:\ttotal: 674ms\tremaining: 8.51s\n",
            "11:\ttotal: 730ms\tremaining: 8.4s\n",
            "12:\ttotal: 805ms\tremaining: 8.48s\n",
            "13:\ttotal: 870ms\tremaining: 8.45s\n",
            "14:\ttotal: 935ms\tremaining: 8.42s\n",
            "15:\ttotal: 1s\tremaining: 8.38s\n",
            "16:\ttotal: 1.07s\tremaining: 8.37s\n",
            "17:\ttotal: 1.14s\tremaining: 8.36s\n",
            "18:\ttotal: 1.21s\tremaining: 8.36s\n",
            "19:\ttotal: 1.29s\tremaining: 8.36s\n",
            "20:\ttotal: 1.35s\tremaining: 8.31s\n",
            "21:\ttotal: 1.42s\tremaining: 8.28s\n",
            "22:\ttotal: 1.5s\tremaining: 8.31s\n",
            "23:\ttotal: 1.57s\tremaining: 8.26s\n",
            "24:\ttotal: 1.64s\tremaining: 8.19s\n",
            "25:\ttotal: 1.72s\tremaining: 8.19s\n",
            "26:\ttotal: 1.77s\tremaining: 8.04s\n",
            "27:\ttotal: 1.83s\tremaining: 7.99s\n",
            "28:\ttotal: 1.9s\tremaining: 7.94s\n",
            "29:\ttotal: 1.98s\tremaining: 7.9s\n",
            "30:\ttotal: 2.04s\tremaining: 7.84s\n",
            "31:\ttotal: 2.09s\tremaining: 7.71s\n",
            "32:\ttotal: 2.17s\tremaining: 7.68s\n",
            "33:\ttotal: 2.25s\tremaining: 7.69s\n",
            "34:\ttotal: 2.32s\tremaining: 7.63s\n",
            "35:\ttotal: 2.37s\tremaining: 7.5s\n",
            "36:\ttotal: 2.44s\tremaining: 7.44s\n",
            "37:\ttotal: 2.52s\tremaining: 7.42s\n",
            "38:\ttotal: 2.58s\tremaining: 7.36s\n",
            "39:\ttotal: 2.65s\tremaining: 7.29s\n",
            "40:\ttotal: 2.72s\tremaining: 7.23s\n",
            "41:\ttotal: 2.79s\tremaining: 7.18s\n",
            "42:\ttotal: 2.85s\tremaining: 7.08s\n",
            "43:\ttotal: 2.91s\tremaining: 7.01s\n",
            "44:\ttotal: 2.98s\tremaining: 6.96s\n",
            "45:\ttotal: 3.06s\tremaining: 6.92s\n",
            "46:\ttotal: 3.13s\tremaining: 6.86s\n",
            "47:\ttotal: 3.21s\tremaining: 6.82s\n",
            "48:\ttotal: 3.27s\tremaining: 6.75s\n",
            "49:\ttotal: 3.33s\tremaining: 6.65s\n",
            "50:\ttotal: 3.39s\tremaining: 6.58s\n",
            "51:\ttotal: 3.47s\tremaining: 6.53s\n",
            "52:\ttotal: 3.54s\tremaining: 6.48s\n",
            "53:\ttotal: 3.61s\tremaining: 6.42s\n",
            "54:\ttotal: 3.69s\tremaining: 6.37s\n",
            "55:\ttotal: 3.74s\tremaining: 6.27s\n",
            "56:\ttotal: 3.8s\tremaining: 6.21s\n",
            "57:\ttotal: 3.87s\tremaining: 6.14s\n",
            "58:\ttotal: 3.94s\tremaining: 6.08s\n",
            "59:\ttotal: 4.01s\tremaining: 6.01s\n",
            "60:\ttotal: 4.07s\tremaining: 5.94s\n",
            "61:\ttotal: 4.14s\tremaining: 5.88s\n",
            "62:\ttotal: 4.22s\tremaining: 5.83s\n",
            "63:\ttotal: 4.29s\tremaining: 5.76s\n",
            "64:\ttotal: 4.36s\tremaining: 5.7s\n",
            "65:\ttotal: 4.43s\tremaining: 5.64s\n",
            "66:\ttotal: 4.5s\tremaining: 5.58s\n",
            "67:\ttotal: 4.57s\tremaining: 5.51s\n",
            "68:\ttotal: 4.64s\tremaining: 5.45s\n",
            "69:\ttotal: 4.71s\tremaining: 5.39s\n",
            "70:\ttotal: 4.78s\tremaining: 5.32s\n",
            "71:\ttotal: 4.86s\tremaining: 5.26s\n",
            "72:\ttotal: 4.93s\tremaining: 5.2s\n",
            "73:\ttotal: 5s\tremaining: 5.13s\n",
            "74:\ttotal: 5.08s\tremaining: 5.08s\n",
            "75:\ttotal: 5.14s\tremaining: 5.01s\n",
            "76:\ttotal: 5.21s\tremaining: 4.94s\n",
            "77:\ttotal: 5.29s\tremaining: 4.88s\n",
            "78:\ttotal: 5.36s\tremaining: 4.81s\n",
            "79:\ttotal: 5.42s\tremaining: 4.74s\n",
            "80:\ttotal: 5.5s\tremaining: 4.68s\n",
            "81:\ttotal: 5.57s\tremaining: 4.62s\n",
            "82:\ttotal: 5.64s\tremaining: 4.55s\n",
            "83:\ttotal: 5.68s\tremaining: 4.47s\n",
            "84:\ttotal: 5.76s\tremaining: 4.41s\n",
            "85:\ttotal: 5.83s\tremaining: 4.34s\n",
            "86:\ttotal: 5.89s\tremaining: 4.27s\n",
            "87:\ttotal: 5.96s\tremaining: 4.2s\n",
            "88:\ttotal: 6.03s\tremaining: 4.13s\n",
            "89:\ttotal: 6.1s\tremaining: 4.06s\n",
            "90:\ttotal: 6.17s\tremaining: 4s\n",
            "91:\ttotal: 6.25s\tremaining: 3.94s\n",
            "92:\ttotal: 6.32s\tremaining: 3.88s\n",
            "93:\ttotal: 6.4s\tremaining: 3.81s\n",
            "94:\ttotal: 6.47s\tremaining: 3.74s\n",
            "95:\ttotal: 6.54s\tremaining: 3.68s\n",
            "96:\ttotal: 6.62s\tremaining: 3.62s\n",
            "97:\ttotal: 6.69s\tremaining: 3.55s\n",
            "98:\ttotal: 6.75s\tremaining: 3.48s\n",
            "99:\ttotal: 6.83s\tremaining: 3.41s\n",
            "100:\ttotal: 6.9s\tremaining: 3.35s\n",
            "101:\ttotal: 6.96s\tremaining: 3.28s\n",
            "102:\ttotal: 7.04s\tremaining: 3.21s\n",
            "103:\ttotal: 7.11s\tremaining: 3.15s\n",
            "104:\ttotal: 7.18s\tremaining: 3.08s\n",
            "105:\ttotal: 7.25s\tremaining: 3.01s\n",
            "106:\ttotal: 7.32s\tremaining: 2.94s\n",
            "107:\ttotal: 7.39s\tremaining: 2.87s\n",
            "108:\ttotal: 7.45s\tremaining: 2.8s\n",
            "109:\ttotal: 7.53s\tremaining: 2.74s\n",
            "110:\ttotal: 7.6s\tremaining: 2.67s\n",
            "111:\ttotal: 7.67s\tremaining: 2.6s\n",
            "112:\ttotal: 7.74s\tremaining: 2.53s\n",
            "113:\ttotal: 7.81s\tremaining: 2.46s\n",
            "114:\ttotal: 7.88s\tremaining: 2.4s\n",
            "115:\ttotal: 7.96s\tremaining: 2.33s\n",
            "116:\ttotal: 8.03s\tremaining: 2.26s\n",
            "117:\ttotal: 8.09s\tremaining: 2.19s\n",
            "118:\ttotal: 8.17s\tremaining: 2.13s\n",
            "119:\ttotal: 8.24s\tremaining: 2.06s\n",
            "120:\ttotal: 8.31s\tremaining: 1.99s\n",
            "121:\ttotal: 8.38s\tremaining: 1.92s\n",
            "122:\ttotal: 8.45s\tremaining: 1.85s\n",
            "123:\ttotal: 8.52s\tremaining: 1.78s\n",
            "124:\ttotal: 8.6s\tremaining: 1.72s\n",
            "125:\ttotal: 8.66s\tremaining: 1.65s\n",
            "126:\ttotal: 8.73s\tremaining: 1.58s\n",
            "127:\ttotal: 8.8s\tremaining: 1.51s\n",
            "128:\ttotal: 8.87s\tremaining: 1.44s\n",
            "129:\ttotal: 8.96s\tremaining: 1.38s\n",
            "130:\ttotal: 9.03s\tremaining: 1.31s\n",
            "131:\ttotal: 9.1s\tremaining: 1.24s\n",
            "132:\ttotal: 9.17s\tremaining: 1.17s\n",
            "133:\ttotal: 9.23s\tremaining: 1.1s\n",
            "134:\ttotal: 9.31s\tremaining: 1.03s\n",
            "135:\ttotal: 9.38s\tremaining: 965ms\n",
            "136:\ttotal: 9.45s\tremaining: 897ms\n",
            "137:\ttotal: 9.52s\tremaining: 828ms\n",
            "138:\ttotal: 9.6s\tremaining: 760ms\n",
            "139:\ttotal: 9.68s\tremaining: 691ms\n",
            "140:\ttotal: 9.74s\tremaining: 622ms\n",
            "141:\ttotal: 9.81s\tremaining: 553ms\n",
            "142:\ttotal: 9.84s\tremaining: 482ms\n",
            "143:\ttotal: 9.91s\tremaining: 413ms\n",
            "144:\ttotal: 9.98s\tremaining: 344ms\n",
            "145:\ttotal: 10s\tremaining: 275ms\n",
            "146:\ttotal: 10.1s\tremaining: 207ms\n",
            "147:\ttotal: 10.2s\tremaining: 138ms\n",
            "148:\ttotal: 10.3s\tremaining: 68.9ms\n",
            "149:\ttotal: 10.3s\tremaining: 0us\n",
            "0:\ttotal: 55.5ms\tremaining: 8.27s\n",
            "1:\ttotal: 103ms\tremaining: 7.64s\n",
            "2:\ttotal: 143ms\tremaining: 7s\n",
            "3:\ttotal: 191ms\tremaining: 6.96s\n",
            "4:\ttotal: 258ms\tremaining: 7.48s\n",
            "5:\ttotal: 328ms\tremaining: 7.87s\n",
            "6:\ttotal: 401ms\tremaining: 8.18s\n",
            "7:\ttotal: 476ms\tremaining: 8.44s\n",
            "8:\ttotal: 542ms\tremaining: 8.48s\n",
            "9:\ttotal: 606ms\tremaining: 8.49s\n",
            "10:\ttotal: 671ms\tremaining: 8.48s\n",
            "11:\ttotal: 733ms\tremaining: 8.43s\n",
            "12:\ttotal: 802ms\tremaining: 8.45s\n",
            "13:\ttotal: 869ms\tremaining: 8.44s\n",
            "14:\ttotal: 946ms\tremaining: 8.51s\n",
            "15:\ttotal: 1.02s\tremaining: 8.55s\n",
            "16:\ttotal: 1.09s\tremaining: 8.52s\n",
            "17:\ttotal: 1.16s\tremaining: 8.52s\n",
            "18:\ttotal: 1.23s\tremaining: 8.47s\n",
            "19:\ttotal: 1.29s\tremaining: 8.41s\n",
            "20:\ttotal: 1.36s\tremaining: 8.36s\n",
            "21:\ttotal: 1.44s\tremaining: 8.36s\n",
            "22:\ttotal: 1.48s\tremaining: 8.18s\n",
            "23:\ttotal: 1.52s\tremaining: 7.99s\n",
            "24:\ttotal: 1.59s\tremaining: 7.97s\n",
            "25:\ttotal: 1.67s\tremaining: 7.97s\n",
            "26:\ttotal: 1.74s\tremaining: 7.92s\n",
            "27:\ttotal: 1.79s\tremaining: 7.8s\n",
            "28:\ttotal: 1.87s\tremaining: 7.8s\n",
            "29:\ttotal: 1.94s\tremaining: 7.76s\n",
            "30:\ttotal: 2.01s\tremaining: 7.72s\n",
            "31:\ttotal: 2.09s\tremaining: 7.71s\n",
            "32:\ttotal: 2.15s\tremaining: 7.62s\n",
            "33:\ttotal: 2.22s\tremaining: 7.57s\n",
            "34:\ttotal: 2.28s\tremaining: 7.51s\n",
            "35:\ttotal: 2.34s\tremaining: 7.41s\n",
            "36:\ttotal: 2.42s\tremaining: 7.38s\n",
            "37:\ttotal: 2.48s\tremaining: 7.33s\n",
            "38:\ttotal: 2.56s\tremaining: 7.3s\n",
            "39:\ttotal: 2.63s\tremaining: 7.24s\n",
            "40:\ttotal: 2.7s\tremaining: 7.18s\n",
            "41:\ttotal: 2.78s\tremaining: 7.15s\n",
            "42:\ttotal: 2.84s\tremaining: 7.06s\n",
            "43:\ttotal: 2.91s\tremaining: 7.01s\n",
            "44:\ttotal: 2.99s\tremaining: 6.98s\n",
            "45:\ttotal: 3.07s\tremaining: 6.95s\n",
            "46:\ttotal: 3.14s\tremaining: 6.89s\n",
            "47:\ttotal: 3.22s\tremaining: 6.84s\n",
            "48:\ttotal: 3.29s\tremaining: 6.78s\n",
            "49:\ttotal: 3.34s\tremaining: 6.67s\n",
            "50:\ttotal: 3.41s\tremaining: 6.62s\n",
            "51:\ttotal: 3.48s\tremaining: 6.57s\n",
            "52:\ttotal: 3.56s\tremaining: 6.51s\n",
            "53:\ttotal: 3.62s\tremaining: 6.44s\n",
            "54:\ttotal: 3.7s\tremaining: 6.39s\n",
            "55:\ttotal: 3.76s\tremaining: 6.32s\n",
            "56:\ttotal: 3.84s\tremaining: 6.26s\n",
            "57:\ttotal: 3.91s\tremaining: 6.2s\n",
            "58:\ttotal: 3.98s\tremaining: 6.14s\n",
            "59:\ttotal: 4.05s\tremaining: 6.08s\n",
            "60:\ttotal: 4.13s\tremaining: 6.03s\n",
            "61:\ttotal: 4.2s\tremaining: 5.95s\n",
            "62:\ttotal: 4.24s\tremaining: 5.85s\n",
            "63:\ttotal: 4.3s\tremaining: 5.78s\n",
            "64:\ttotal: 4.38s\tremaining: 5.72s\n",
            "65:\ttotal: 4.44s\tremaining: 5.65s\n",
            "66:\ttotal: 4.51s\tremaining: 5.59s\n",
            "67:\ttotal: 4.58s\tremaining: 5.52s\n",
            "68:\ttotal: 4.65s\tremaining: 5.45s\n",
            "69:\ttotal: 4.71s\tremaining: 5.38s\n",
            "70:\ttotal: 4.79s\tremaining: 5.33s\n",
            "71:\ttotal: 4.86s\tremaining: 5.27s\n",
            "72:\ttotal: 4.93s\tremaining: 5.2s\n",
            "73:\ttotal: 5.01s\tremaining: 5.15s\n",
            "74:\ttotal: 5.08s\tremaining: 5.08s\n",
            "75:\ttotal: 5.15s\tremaining: 5.01s\n",
            "76:\ttotal: 5.22s\tremaining: 4.95s\n",
            "77:\ttotal: 5.27s\tremaining: 4.86s\n",
            "78:\ttotal: 5.33s\tremaining: 4.79s\n",
            "79:\ttotal: 5.4s\tremaining: 4.73s\n",
            "80:\ttotal: 5.48s\tremaining: 4.67s\n",
            "81:\ttotal: 5.55s\tremaining: 4.61s\n",
            "82:\ttotal: 5.62s\tremaining: 4.54s\n",
            "83:\ttotal: 5.69s\tremaining: 4.47s\n",
            "84:\ttotal: 5.76s\tremaining: 4.4s\n",
            "85:\ttotal: 5.83s\tremaining: 4.34s\n",
            "86:\ttotal: 5.87s\tremaining: 4.25s\n",
            "87:\ttotal: 5.94s\tremaining: 4.18s\n",
            "88:\ttotal: 6.01s\tremaining: 4.12s\n",
            "89:\ttotal: 6.05s\tremaining: 4.04s\n",
            "90:\ttotal: 6.12s\tremaining: 3.97s\n",
            "91:\ttotal: 6.2s\tremaining: 3.91s\n",
            "92:\ttotal: 6.26s\tremaining: 3.84s\n",
            "93:\ttotal: 6.33s\tremaining: 3.77s\n",
            "94:\ttotal: 6.4s\tremaining: 3.71s\n",
            "95:\ttotal: 6.48s\tremaining: 3.64s\n",
            "96:\ttotal: 6.54s\tremaining: 3.58s\n",
            "97:\ttotal: 6.62s\tremaining: 3.51s\n",
            "98:\ttotal: 6.68s\tremaining: 3.44s\n",
            "99:\ttotal: 6.75s\tremaining: 3.38s\n",
            "100:\ttotal: 6.84s\tremaining: 3.32s\n",
            "101:\ttotal: 6.91s\tremaining: 3.25s\n",
            "102:\ttotal: 6.97s\tremaining: 3.18s\n",
            "103:\ttotal: 7.05s\tremaining: 3.12s\n",
            "104:\ttotal: 7.11s\tremaining: 3.04s\n",
            "105:\ttotal: 7.17s\tremaining: 2.98s\n",
            "106:\ttotal: 7.24s\tremaining: 2.91s\n",
            "107:\ttotal: 7.31s\tremaining: 2.84s\n",
            "108:\ttotal: 7.38s\tremaining: 2.78s\n",
            "109:\ttotal: 7.45s\tremaining: 2.71s\n",
            "110:\ttotal: 7.53s\tremaining: 2.65s\n",
            "111:\ttotal: 7.59s\tremaining: 2.58s\n",
            "112:\ttotal: 7.66s\tremaining: 2.51s\n",
            "113:\ttotal: 7.72s\tremaining: 2.44s\n",
            "114:\ttotal: 7.8s\tremaining: 2.37s\n",
            "115:\ttotal: 7.87s\tremaining: 2.31s\n",
            "116:\ttotal: 7.93s\tremaining: 2.24s\n",
            "117:\ttotal: 8.01s\tremaining: 2.17s\n",
            "118:\ttotal: 8.08s\tremaining: 2.1s\n",
            "119:\ttotal: 8.16s\tremaining: 2.04s\n",
            "120:\ttotal: 8.23s\tremaining: 1.97s\n",
            "121:\ttotal: 8.3s\tremaining: 1.9s\n",
            "122:\ttotal: 8.36s\tremaining: 1.83s\n",
            "123:\ttotal: 8.43s\tremaining: 1.77s\n",
            "124:\ttotal: 8.47s\tremaining: 1.69s\n",
            "125:\ttotal: 8.55s\tremaining: 1.63s\n",
            "126:\ttotal: 8.61s\tremaining: 1.56s\n",
            "127:\ttotal: 8.66s\tremaining: 1.49s\n",
            "128:\ttotal: 8.73s\tremaining: 1.42s\n",
            "129:\ttotal: 8.8s\tremaining: 1.35s\n",
            "130:\ttotal: 8.88s\tremaining: 1.29s\n",
            "131:\ttotal: 8.95s\tremaining: 1.22s\n",
            "132:\ttotal: 9.02s\tremaining: 1.15s\n",
            "133:\ttotal: 9.1s\tremaining: 1.09s\n",
            "134:\ttotal: 9.17s\tremaining: 1.02s\n",
            "135:\ttotal: 9.23s\tremaining: 951ms\n",
            "136:\ttotal: 9.27s\tremaining: 880ms\n",
            "137:\ttotal: 9.35s\tremaining: 813ms\n",
            "138:\ttotal: 9.42s\tremaining: 745ms\n",
            "139:\ttotal: 9.47s\tremaining: 676ms\n",
            "140:\ttotal: 9.54s\tremaining: 609ms\n",
            "141:\ttotal: 9.61s\tremaining: 541ms\n",
            "142:\ttotal: 9.67s\tremaining: 473ms\n",
            "143:\ttotal: 9.74s\tremaining: 406ms\n",
            "144:\ttotal: 9.82s\tremaining: 338ms\n",
            "145:\ttotal: 9.88s\tremaining: 271ms\n",
            "146:\ttotal: 9.96s\tremaining: 203ms\n",
            "147:\ttotal: 10s\tremaining: 136ms\n",
            "148:\ttotal: 10.1s\tremaining: 67.9ms\n",
            "149:\ttotal: 10.2s\tremaining: 0us\n"
          ],
          "name": "stdout"
        },
        {
          "output_type": "execute_result",
          "data": {
            "text/plain": [
              "StackingClassifier(cv=None,\n",
              "                   estimators=[('cat',\n",
              "                                <catboost.core.CatBoostClassifier object at 0x7f8609298e10>),\n",
              "                               ('xgb',\n",
              "                                XGBClassifier(base_score=0.5, booster='dart',\n",
              "                                              class_weight='balanced',\n",
              "                                              colsample_bylevel=1,\n",
              "                                              colsample_bynode=1,\n",
              "                                              colsample_bytree=1, gamma=5,\n",
              "                                              learning_rate=0.1,\n",
              "                                              max_delta_step=0, max_depth=4,\n",
              "                                              min_child_weight=10, missing=None,\n",
              "                                              n_estimators=200, n_jobs=1...\n",
              "                                              seed=27, silent=None,\n",
              "                                              subsample=0.8, verbosity=1))],\n",
              "                   final_estimator=LogisticRegression(C=1.0, class_weight=None,\n",
              "                                                      dual=False,\n",
              "                                                      fit_intercept=True,\n",
              "                                                      intercept_scaling=1,\n",
              "                                                      l1_ratio=None,\n",
              "                                                      max_iter=100,\n",
              "                                                      multi_class='auto',\n",
              "                                                      n_jobs=None, penalty='l2',\n",
              "                                                      random_state=None,\n",
              "                                                      solver='lbfgs',\n",
              "                                                      tol=0.0001, verbose=0,\n",
              "                                                      warm_start=False),\n",
              "                   n_jobs=None, passthrough=False, stack_method='auto',\n",
              "                   verbose=0)"
            ]
          },
          "metadata": {
            "tags": []
          },
          "execution_count": 34
        }
      ]
    },
    {
      "cell_type": "code",
      "metadata": {
        "colab": {
          "base_uri": "https://localhost:8080/",
          "height": 265
        },
        "id": "0FHhgzbAlm68",
        "outputId": "b5e986bf-f8d8-4451-9dfe-efa67df95de1"
      },
      "source": [
        "y_pred_ensemble = ensembledModel.predict_proba(X_test)[:,1]\n",
        "generate_auc_roc_curve(ensembledModel, X_test,Y_test)"
      ],
      "execution_count": 35,
      "outputs": [
        {
          "output_type": "display_data",
          "data": {
            "image/png": "[encoded data removed]",
            "text/plain": [
              "<Figure size 432x288 with 1 Axes>"
            ]
          },
          "metadata": {
            "tags": [],
            "needs_background": "light"
          }
        }
      ]
    },
    {
      "cell_type": "markdown",
      "metadata": {
        "id": "htVTGBmc2Up1"
      },
      "source": [
        "# Final Predictions"
      ]
    },
    {
      "cell_type": "code",
      "metadata": {
        "colab": {
          "base_uri": "https://localhost:8080/",
          "height": 283
        },
        "id": "rFzUCQ_53h17",
        "outputId": "27a76dd6-d986-4584-b4da-1528a9f980c7"
      },
      "source": [
        "over = RandomOverSampler()\n",
        "x, y = over.fit_resample(X, Y[target])\n",
        "df_sampled_final = pd.DataFrame(x, columns = X.columns)\n",
        "sns.countplot(y)"
      ],
      "execution_count": 36,
      "outputs": [
        {
          "output_type": "execute_result",
          "data": {
            "text/plain": [
              "<matplotlib.axes._subplots.AxesSubplot at 0x7f86091c4c10>"
            ]
          },
          "metadata": {
            "tags": []
          },
          "execution_count": 36
        },
        {
          "output_type": "display_data",
          "data": {
            "image/png": "[encoded data removed]",
            "text/plain": [
              "<Figure size 432x288 with 1 Axes>"
            ]
          },
          "metadata": {
            "tags": [],
            "needs_background": "light"
          }
        }
      ]
    },
    {
      "cell_type": "code",
      "metadata": {
        "id": "dJzQNJhy2fUP",
        "colab": {
          "base_uri": "https://localhost:8080/"
        },
        "outputId": "cb6e4361-f920-4033-9782-b1b2abfe82af"
      },
      "source": [
        "ensembledModel.fit(df_sampled_final,y)\n",
        "y_pred = ensembledModel.predict_proba(test_data)[:,1]"
      ],
      "execution_count": 38,
      "outputs": [
        {
          "output_type": "stream",
          "text": [
            "0:\ttotal: 90.7ms\tremaining: 13.5s\n",
            "1:\ttotal: 158ms\tremaining: 11.7s\n",
            "2:\ttotal: 254ms\tremaining: 12.4s\n",
            "3:\ttotal: 354ms\tremaining: 12.9s\n",
            "4:\ttotal: 435ms\tremaining: 12.6s\n",
            "5:\ttotal: 548ms\tremaining: 13.2s\n",
            "6:\ttotal: 650ms\tremaining: 13.3s\n",
            "7:\ttotal: 746ms\tremaining: 13.2s\n",
            "8:\ttotal: 819ms\tremaining: 12.8s\n",
            "9:\ttotal: 923ms\tremaining: 12.9s\n",
            "10:\ttotal: 1.03s\tremaining: 13s\n",
            "11:\ttotal: 1.15s\tremaining: 13.2s\n",
            "12:\ttotal: 1.26s\tremaining: 13.3s\n",
            "13:\ttotal: 1.36s\tremaining: 13.2s\n",
            "14:\ttotal: 1.46s\tremaining: 13.1s\n",
            "15:\ttotal: 1.57s\tremaining: 13.1s\n",
            "16:\ttotal: 1.66s\tremaining: 13s\n",
            "17:\ttotal: 1.78s\tremaining: 13s\n",
            "18:\ttotal: 1.88s\tremaining: 13s\n",
            "19:\ttotal: 1.99s\tremaining: 13s\n",
            "20:\ttotal: 2.1s\tremaining: 12.9s\n",
            "21:\ttotal: 2.21s\tremaining: 12.8s\n",
            "22:\ttotal: 2.3s\tremaining: 12.7s\n",
            "23:\ttotal: 2.42s\tremaining: 12.7s\n",
            "24:\ttotal: 2.53s\tremaining: 12.6s\n",
            "25:\ttotal: 2.64s\tremaining: 12.6s\n",
            "26:\ttotal: 2.74s\tremaining: 12.5s\n",
            "27:\ttotal: 2.86s\tremaining: 12.5s\n",
            "28:\ttotal: 2.96s\tremaining: 12.4s\n",
            "29:\ttotal: 3.08s\tremaining: 12.3s\n",
            "30:\ttotal: 3.2s\tremaining: 12.3s\n",
            "31:\ttotal: 3.31s\tremaining: 12.2s\n",
            "32:\ttotal: 3.41s\tremaining: 12.1s\n",
            "33:\ttotal: 3.51s\tremaining: 12s\n",
            "34:\ttotal: 3.61s\tremaining: 11.9s\n",
            "35:\ttotal: 3.72s\tremaining: 11.8s\n",
            "36:\ttotal: 3.83s\tremaining: 11.7s\n",
            "37:\ttotal: 3.94s\tremaining: 11.6s\n",
            "38:\ttotal: 4.05s\tremaining: 11.5s\n",
            "39:\ttotal: 4.16s\tremaining: 11.4s\n",
            "40:\ttotal: 4.23s\tremaining: 11.3s\n",
            "41:\ttotal: 4.34s\tremaining: 11.2s\n",
            "42:\ttotal: 4.45s\tremaining: 11.1s\n",
            "43:\ttotal: 4.55s\tremaining: 11s\n",
            "44:\ttotal: 4.65s\tremaining: 10.9s\n",
            "45:\ttotal: 4.76s\tremaining: 10.8s\n",
            "46:\ttotal: 4.87s\tremaining: 10.7s\n",
            "47:\ttotal: 4.97s\tremaining: 10.6s\n",
            "48:\ttotal: 5.09s\tremaining: 10.5s\n",
            "49:\ttotal: 5.19s\tremaining: 10.4s\n",
            "50:\ttotal: 5.3s\tremaining: 10.3s\n",
            "51:\ttotal: 5.41s\tremaining: 10.2s\n",
            "52:\ttotal: 5.52s\tremaining: 10.1s\n",
            "53:\ttotal: 5.62s\tremaining: 9.99s\n",
            "54:\ttotal: 5.72s\tremaining: 9.88s\n",
            "55:\ttotal: 5.83s\tremaining: 9.78s\n",
            "56:\ttotal: 5.93s\tremaining: 9.67s\n",
            "57:\ttotal: 6.03s\tremaining: 9.57s\n",
            "58:\ttotal: 6.14s\tremaining: 9.46s\n",
            "59:\ttotal: 6.25s\tremaining: 9.38s\n",
            "60:\ttotal: 6.32s\tremaining: 9.22s\n",
            "61:\ttotal: 6.42s\tremaining: 9.12s\n",
            "62:\ttotal: 6.52s\tremaining: 9.01s\n",
            "63:\ttotal: 6.62s\tremaining: 8.9s\n",
            "64:\ttotal: 6.72s\tremaining: 8.79s\n",
            "65:\ttotal: 6.82s\tremaining: 8.68s\n",
            "66:\ttotal: 6.93s\tremaining: 8.59s\n",
            "67:\ttotal: 7.05s\tremaining: 8.5s\n",
            "68:\ttotal: 7.14s\tremaining: 8.39s\n",
            "69:\ttotal: 7.24s\tremaining: 8.28s\n",
            "70:\ttotal: 7.35s\tremaining: 8.17s\n",
            "71:\ttotal: 7.45s\tremaining: 8.07s\n",
            "72:\ttotal: 7.55s\tremaining: 7.96s\n",
            "73:\ttotal: 7.65s\tremaining: 7.86s\n",
            "74:\ttotal: 7.76s\tremaining: 7.76s\n",
            "75:\ttotal: 7.87s\tremaining: 7.66s\n",
            "76:\ttotal: 7.96s\tremaining: 7.55s\n",
            "77:\ttotal: 8.08s\tremaining: 7.46s\n",
            "78:\ttotal: 8.18s\tremaining: 7.36s\n",
            "79:\ttotal: 8.29s\tremaining: 7.25s\n",
            "80:\ttotal: 8.39s\tremaining: 7.15s\n",
            "81:\ttotal: 8.47s\tremaining: 7.02s\n",
            "82:\ttotal: 8.57s\tremaining: 6.92s\n",
            "83:\ttotal: 8.68s\tremaining: 6.82s\n",
            "84:\ttotal: 8.77s\tremaining: 6.71s\n",
            "85:\ttotal: 8.88s\tremaining: 6.61s\n",
            "86:\ttotal: 8.99s\tremaining: 6.51s\n",
            "87:\ttotal: 9.1s\tremaining: 6.41s\n",
            "88:\ttotal: 9.22s\tremaining: 6.32s\n",
            "89:\ttotal: 9.32s\tremaining: 6.21s\n",
            "90:\ttotal: 9.43s\tremaining: 6.11s\n",
            "91:\ttotal: 9.53s\tremaining: 6.01s\n",
            "92:\ttotal: 9.64s\tremaining: 5.91s\n",
            "93:\ttotal: 9.74s\tremaining: 5.8s\n",
            "94:\ttotal: 9.85s\tremaining: 5.7s\n",
            "95:\ttotal: 9.95s\tremaining: 5.6s\n",
            "96:\ttotal: 10.1s\tremaining: 5.5s\n",
            "97:\ttotal: 10.2s\tremaining: 5.39s\n",
            "98:\ttotal: 10.3s\tremaining: 5.29s\n",
            "99:\ttotal: 10.4s\tremaining: 5.19s\n",
            "100:\ttotal: 10.5s\tremaining: 5.09s\n",
            "101:\ttotal: 10.6s\tremaining: 4.98s\n",
            "102:\ttotal: 10.7s\tremaining: 4.88s\n",
            "103:\ttotal: 10.8s\tremaining: 4.77s\n",
            "104:\ttotal: 10.9s\tremaining: 4.67s\n",
            "105:\ttotal: 11s\tremaining: 4.57s\n",
            "106:\ttotal: 11.1s\tremaining: 4.47s\n",
            "107:\ttotal: 11.2s\tremaining: 4.36s\n",
            "108:\ttotal: 11.3s\tremaining: 4.26s\n",
            "109:\ttotal: 11.4s\tremaining: 4.16s\n",
            "110:\ttotal: 11.5s\tremaining: 4.05s\n",
            "111:\ttotal: 11.6s\tremaining: 3.95s\n",
            "112:\ttotal: 11.7s\tremaining: 3.84s\n",
            "113:\ttotal: 11.8s\tremaining: 3.74s\n",
            "114:\ttotal: 11.9s\tremaining: 3.64s\n",
            "115:\ttotal: 12.1s\tremaining: 3.53s\n",
            "116:\ttotal: 12.2s\tremaining: 3.43s\n",
            "117:\ttotal: 12.3s\tremaining: 3.33s\n",
            "118:\ttotal: 12.4s\tremaining: 3.22s\n",
            "119:\ttotal: 12.5s\tremaining: 3.12s\n",
            "120:\ttotal: 12.6s\tremaining: 3.02s\n",
            "121:\ttotal: 12.7s\tremaining: 2.91s\n",
            "122:\ttotal: 12.8s\tremaining: 2.81s\n",
            "123:\ttotal: 12.9s\tremaining: 2.71s\n",
            "124:\ttotal: 13s\tremaining: 2.6s\n",
            "125:\ttotal: 13.1s\tremaining: 2.5s\n",
            "126:\ttotal: 13.3s\tremaining: 2.4s\n",
            "127:\ttotal: 13.4s\tremaining: 2.3s\n",
            "128:\ttotal: 13.5s\tremaining: 2.19s\n",
            "129:\ttotal: 13.6s\tremaining: 2.09s\n",
            "130:\ttotal: 13.7s\tremaining: 1.98s\n",
            "131:\ttotal: 13.8s\tremaining: 1.88s\n",
            "132:\ttotal: 13.9s\tremaining: 1.77s\n",
            "133:\ttotal: 14s\tremaining: 1.67s\n",
            "134:\ttotal: 14.1s\tremaining: 1.57s\n",
            "135:\ttotal: 14.2s\tremaining: 1.46s\n",
            "136:\ttotal: 14.3s\tremaining: 1.36s\n",
            "137:\ttotal: 14.4s\tremaining: 1.25s\n",
            "138:\ttotal: 14.5s\tremaining: 1.15s\n",
            "139:\ttotal: 14.6s\tremaining: 1.04s\n",
            "140:\ttotal: 14.7s\tremaining: 938ms\n",
            "141:\ttotal: 14.8s\tremaining: 834ms\n",
            "142:\ttotal: 14.9s\tremaining: 730ms\n",
            "143:\ttotal: 15s\tremaining: 625ms\n",
            "144:\ttotal: 15.1s\tremaining: 522ms\n",
            "145:\ttotal: 15.2s\tremaining: 417ms\n",
            "146:\ttotal: 15.3s\tremaining: 313ms\n",
            "147:\ttotal: 15.4s\tremaining: 209ms\n",
            "148:\ttotal: 15.6s\tremaining: 104ms\n",
            "149:\ttotal: 15.7s\tremaining: 0us\n",
            "0:\ttotal: 72.4ms\tremaining: 10.8s\n",
            "1:\ttotal: 125ms\tremaining: 9.23s\n",
            "2:\ttotal: 202ms\tremaining: 9.89s\n",
            "3:\ttotal: 288ms\tremaining: 10.5s\n",
            "4:\ttotal: 347ms\tremaining: 10.1s\n",
            "5:\ttotal: 425ms\tremaining: 10.2s\n",
            "6:\ttotal: 510ms\tremaining: 10.4s\n",
            "7:\ttotal: 588ms\tremaining: 10.4s\n",
            "8:\ttotal: 641ms\tremaining: 10s\n",
            "9:\ttotal: 727ms\tremaining: 10.2s\n",
            "10:\ttotal: 807ms\tremaining: 10.2s\n",
            "11:\ttotal: 887ms\tremaining: 10.2s\n",
            "12:\ttotal: 984ms\tremaining: 10.4s\n",
            "13:\ttotal: 1.06s\tremaining: 10.3s\n",
            "14:\ttotal: 1.14s\tremaining: 10.3s\n",
            "15:\ttotal: 1.23s\tremaining: 10.3s\n",
            "16:\ttotal: 1.31s\tremaining: 10.2s\n",
            "17:\ttotal: 1.39s\tremaining: 10.2s\n",
            "18:\ttotal: 1.47s\tremaining: 10.2s\n",
            "19:\ttotal: 1.55s\tremaining: 10.1s\n",
            "20:\ttotal: 1.63s\tremaining: 10s\n",
            "21:\ttotal: 1.73s\tremaining: 10.1s\n",
            "22:\ttotal: 1.82s\tremaining: 10.1s\n",
            "23:\ttotal: 1.92s\tremaining: 10.1s\n",
            "24:\ttotal: 2.01s\tremaining: 10s\n",
            "25:\ttotal: 2.09s\tremaining: 9.95s\n",
            "26:\ttotal: 2.17s\tremaining: 9.87s\n",
            "27:\ttotal: 2.25s\tremaining: 9.81s\n",
            "28:\ttotal: 2.33s\tremaining: 9.74s\n",
            "29:\ttotal: 2.41s\tremaining: 9.65s\n",
            "30:\ttotal: 2.5s\tremaining: 9.6s\n",
            "31:\ttotal: 2.58s\tremaining: 9.51s\n",
            "32:\ttotal: 2.66s\tremaining: 9.43s\n",
            "33:\ttotal: 2.75s\tremaining: 9.37s\n",
            "34:\ttotal: 2.83s\tremaining: 9.29s\n",
            "35:\ttotal: 2.91s\tremaining: 9.21s\n",
            "36:\ttotal: 3s\tremaining: 9.16s\n",
            "37:\ttotal: 3.08s\tremaining: 9.1s\n",
            "38:\ttotal: 3.17s\tremaining: 9.01s\n",
            "39:\ttotal: 3.25s\tremaining: 8.94s\n",
            "40:\ttotal: 3.31s\tremaining: 8.8s\n",
            "41:\ttotal: 3.39s\tremaining: 8.72s\n",
            "42:\ttotal: 3.48s\tremaining: 8.66s\n",
            "43:\ttotal: 3.57s\tremaining: 8.59s\n",
            "44:\ttotal: 3.65s\tremaining: 8.52s\n",
            "45:\ttotal: 3.73s\tremaining: 8.43s\n",
            "46:\ttotal: 3.81s\tremaining: 8.35s\n",
            "47:\ttotal: 3.89s\tremaining: 8.27s\n",
            "48:\ttotal: 3.95s\tremaining: 8.14s\n",
            "49:\ttotal: 4.04s\tremaining: 8.08s\n",
            "50:\ttotal: 4.12s\tremaining: 8s\n",
            "51:\ttotal: 4.21s\tremaining: 7.93s\n",
            "52:\ttotal: 4.29s\tremaining: 7.85s\n",
            "53:\ttotal: 4.37s\tremaining: 7.77s\n",
            "54:\ttotal: 4.46s\tremaining: 7.7s\n",
            "55:\ttotal: 4.53s\tremaining: 7.61s\n",
            "56:\ttotal: 4.62s\tremaining: 7.53s\n",
            "57:\ttotal: 4.7s\tremaining: 7.46s\n",
            "58:\ttotal: 4.78s\tremaining: 7.38s\n",
            "59:\ttotal: 4.87s\tremaining: 7.3s\n",
            "60:\ttotal: 4.95s\tremaining: 7.23s\n",
            "61:\ttotal: 5.04s\tremaining: 7.15s\n",
            "62:\ttotal: 5.12s\tremaining: 7.07s\n",
            "63:\ttotal: 5.22s\tremaining: 7.01s\n",
            "64:\ttotal: 5.3s\tremaining: 6.94s\n",
            "65:\ttotal: 5.39s\tremaining: 6.86s\n",
            "66:\ttotal: 5.47s\tremaining: 6.78s\n",
            "67:\ttotal: 5.55s\tremaining: 6.7s\n",
            "68:\ttotal: 5.64s\tremaining: 6.62s\n",
            "69:\ttotal: 5.7s\tremaining: 6.51s\n",
            "70:\ttotal: 5.78s\tremaining: 6.43s\n",
            "71:\ttotal: 5.86s\tremaining: 6.35s\n",
            "72:\ttotal: 5.95s\tremaining: 6.27s\n",
            "73:\ttotal: 6.04s\tremaining: 6.2s\n",
            "74:\ttotal: 6.12s\tremaining: 6.12s\n",
            "75:\ttotal: 6.21s\tremaining: 6.04s\n",
            "76:\ttotal: 6.29s\tremaining: 5.96s\n",
            "77:\ttotal: 6.37s\tremaining: 5.88s\n",
            "78:\ttotal: 6.46s\tremaining: 5.8s\n",
            "79:\ttotal: 6.54s\tremaining: 5.72s\n",
            "80:\ttotal: 6.62s\tremaining: 5.64s\n",
            "81:\ttotal: 6.71s\tremaining: 5.56s\n",
            "82:\ttotal: 6.79s\tremaining: 5.48s\n",
            "83:\ttotal: 6.88s\tremaining: 5.4s\n",
            "84:\ttotal: 6.97s\tremaining: 5.33s\n",
            "85:\ttotal: 7.06s\tremaining: 5.25s\n",
            "86:\ttotal: 7.14s\tremaining: 5.17s\n",
            "87:\ttotal: 7.23s\tremaining: 5.09s\n",
            "88:\ttotal: 7.31s\tremaining: 5.01s\n",
            "89:\ttotal: 7.39s\tremaining: 4.93s\n",
            "90:\ttotal: 7.48s\tremaining: 4.85s\n",
            "91:\ttotal: 7.56s\tremaining: 4.77s\n",
            "92:\ttotal: 7.64s\tremaining: 4.68s\n",
            "93:\ttotal: 7.73s\tremaining: 4.6s\n",
            "94:\ttotal: 7.81s\tremaining: 4.52s\n",
            "95:\ttotal: 7.89s\tremaining: 4.44s\n",
            "96:\ttotal: 7.98s\tremaining: 4.36s\n",
            "97:\ttotal: 8.07s\tremaining: 4.28s\n",
            "98:\ttotal: 8.15s\tremaining: 4.2s\n",
            "99:\ttotal: 8.23s\tremaining: 4.12s\n",
            "100:\ttotal: 8.31s\tremaining: 4.03s\n",
            "101:\ttotal: 8.39s\tremaining: 3.95s\n",
            "102:\ttotal: 8.48s\tremaining: 3.87s\n",
            "103:\ttotal: 8.56s\tremaining: 3.79s\n",
            "104:\ttotal: 8.65s\tremaining: 3.71s\n",
            "105:\ttotal: 8.75s\tremaining: 3.63s\n",
            "106:\ttotal: 8.83s\tremaining: 3.55s\n",
            "107:\ttotal: 8.91s\tremaining: 3.46s\n",
            "108:\ttotal: 9s\tremaining: 3.38s\n",
            "109:\ttotal: 9.08s\tremaining: 3.3s\n",
            "110:\ttotal: 9.17s\tremaining: 3.22s\n",
            "111:\ttotal: 9.25s\tremaining: 3.14s\n",
            "112:\ttotal: 9.33s\tremaining: 3.06s\n",
            "113:\ttotal: 9.41s\tremaining: 2.97s\n",
            "114:\ttotal: 9.5s\tremaining: 2.89s\n",
            "115:\ttotal: 9.58s\tremaining: 2.81s\n",
            "116:\ttotal: 9.66s\tremaining: 2.72s\n",
            "117:\ttotal: 9.75s\tremaining: 2.64s\n",
            "118:\ttotal: 9.83s\tremaining: 2.56s\n",
            "119:\ttotal: 9.91s\tremaining: 2.48s\n",
            "120:\ttotal: 10s\tremaining: 2.4s\n",
            "121:\ttotal: 10.1s\tremaining: 2.31s\n",
            "122:\ttotal: 10.2s\tremaining: 2.23s\n",
            "123:\ttotal: 10.3s\tremaining: 2.15s\n",
            "124:\ttotal: 10.3s\tremaining: 2.07s\n",
            "125:\ttotal: 10.4s\tremaining: 1.99s\n",
            "126:\ttotal: 10.5s\tremaining: 1.91s\n",
            "127:\ttotal: 10.6s\tremaining: 1.82s\n",
            "128:\ttotal: 10.7s\tremaining: 1.74s\n",
            "129:\ttotal: 10.8s\tremaining: 1.66s\n",
            "130:\ttotal: 10.9s\tremaining: 1.57s\n",
            "131:\ttotal: 10.9s\tremaining: 1.49s\n",
            "132:\ttotal: 11s\tremaining: 1.41s\n",
            "133:\ttotal: 11.1s\tremaining: 1.33s\n",
            "134:\ttotal: 11.2s\tremaining: 1.24s\n",
            "135:\ttotal: 11.3s\tremaining: 1.16s\n",
            "136:\ttotal: 11.4s\tremaining: 1.08s\n",
            "137:\ttotal: 11.5s\tremaining: 996ms\n",
            "138:\ttotal: 11.5s\tremaining: 913ms\n",
            "139:\ttotal: 11.6s\tremaining: 830ms\n",
            "140:\ttotal: 11.7s\tremaining: 747ms\n",
            "141:\ttotal: 11.8s\tremaining: 664ms\n",
            "142:\ttotal: 11.9s\tremaining: 581ms\n",
            "143:\ttotal: 11.9s\tremaining: 498ms\n",
            "144:\ttotal: 12s\tremaining: 415ms\n",
            "145:\ttotal: 12.1s\tremaining: 332ms\n",
            "146:\ttotal: 12.2s\tremaining: 249ms\n",
            "147:\ttotal: 12.3s\tremaining: 166ms\n",
            "148:\ttotal: 12.4s\tremaining: 83.1ms\n",
            "149:\ttotal: 12.5s\tremaining: 0us\n",
            "0:\ttotal: 67.9ms\tremaining: 10.1s\n",
            "1:\ttotal: 121ms\tremaining: 8.93s\n",
            "2:\ttotal: 203ms\tremaining: 9.93s\n",
            "3:\ttotal: 293ms\tremaining: 10.7s\n",
            "4:\ttotal: 349ms\tremaining: 10.1s\n",
            "5:\ttotal: 429ms\tremaining: 10.3s\n",
            "6:\ttotal: 514ms\tremaining: 10.5s\n",
            "7:\ttotal: 593ms\tremaining: 10.5s\n",
            "8:\ttotal: 646ms\tremaining: 10.1s\n",
            "9:\ttotal: 732ms\tremaining: 10.3s\n",
            "10:\ttotal: 813ms\tremaining: 10.3s\n",
            "11:\ttotal: 902ms\tremaining: 10.4s\n",
            "12:\ttotal: 990ms\tremaining: 10.4s\n",
            "13:\ttotal: 1.07s\tremaining: 10.4s\n",
            "14:\ttotal: 1.15s\tremaining: 10.4s\n",
            "15:\ttotal: 1.24s\tremaining: 10.4s\n",
            "16:\ttotal: 1.33s\tremaining: 10.4s\n",
            "17:\ttotal: 1.41s\tremaining: 10.3s\n",
            "18:\ttotal: 1.51s\tremaining: 10.4s\n",
            "19:\ttotal: 1.6s\tremaining: 10.4s\n",
            "20:\ttotal: 1.68s\tremaining: 10.3s\n",
            "21:\ttotal: 1.76s\tremaining: 10.3s\n",
            "22:\ttotal: 1.84s\tremaining: 10.2s\n",
            "23:\ttotal: 1.93s\tremaining: 10.1s\n",
            "24:\ttotal: 2.02s\tremaining: 10.1s\n",
            "25:\ttotal: 2.1s\tremaining: 10s\n",
            "26:\ttotal: 2.19s\tremaining: 9.98s\n",
            "27:\ttotal: 2.29s\tremaining: 9.98s\n",
            "28:\ttotal: 2.38s\tremaining: 9.92s\n",
            "29:\ttotal: 2.46s\tremaining: 9.84s\n",
            "30:\ttotal: 2.55s\tremaining: 9.78s\n",
            "31:\ttotal: 2.63s\tremaining: 9.7s\n",
            "32:\ttotal: 2.68s\tremaining: 9.5s\n",
            "33:\ttotal: 2.77s\tremaining: 9.44s\n",
            "34:\ttotal: 2.86s\tremaining: 9.39s\n",
            "35:\ttotal: 2.94s\tremaining: 9.31s\n",
            "36:\ttotal: 3.03s\tremaining: 9.25s\n",
            "37:\ttotal: 3.11s\tremaining: 9.17s\n",
            "38:\ttotal: 3.19s\tremaining: 9.09s\n",
            "39:\ttotal: 3.29s\tremaining: 9.05s\n",
            "40:\ttotal: 3.38s\tremaining: 8.98s\n",
            "41:\ttotal: 3.46s\tremaining: 8.9s\n",
            "42:\ttotal: 3.55s\tremaining: 8.84s\n",
            "43:\ttotal: 3.63s\tremaining: 8.75s\n",
            "44:\ttotal: 3.71s\tremaining: 8.67s\n",
            "45:\ttotal: 3.8s\tremaining: 8.59s\n",
            "46:\ttotal: 3.88s\tremaining: 8.51s\n",
            "47:\ttotal: 3.96s\tremaining: 8.42s\n",
            "48:\ttotal: 4.05s\tremaining: 8.35s\n",
            "49:\ttotal: 4.1s\tremaining: 8.2s\n",
            "50:\ttotal: 4.19s\tremaining: 8.13s\n",
            "51:\ttotal: 4.28s\tremaining: 8.06s\n",
            "52:\ttotal: 4.37s\tremaining: 7.99s\n",
            "53:\ttotal: 4.45s\tremaining: 7.91s\n",
            "54:\ttotal: 4.54s\tremaining: 7.83s\n",
            "55:\ttotal: 4.62s\tremaining: 7.75s\n",
            "56:\ttotal: 4.67s\tremaining: 7.61s\n",
            "57:\ttotal: 4.76s\tremaining: 7.54s\n",
            "58:\ttotal: 4.84s\tremaining: 7.47s\n",
            "59:\ttotal: 4.93s\tremaining: 7.39s\n",
            "60:\ttotal: 5.02s\tremaining: 7.32s\n",
            "61:\ttotal: 5.1s\tremaining: 7.24s\n",
            "62:\ttotal: 5.18s\tremaining: 7.15s\n",
            "63:\ttotal: 5.26s\tremaining: 7.07s\n",
            "64:\ttotal: 5.36s\tremaining: 7s\n",
            "65:\ttotal: 5.44s\tremaining: 6.93s\n",
            "66:\ttotal: 5.54s\tremaining: 6.86s\n",
            "67:\ttotal: 5.62s\tremaining: 6.77s\n",
            "68:\ttotal: 5.7s\tremaining: 6.69s\n",
            "69:\ttotal: 5.8s\tremaining: 6.63s\n",
            "70:\ttotal: 5.88s\tremaining: 6.54s\n",
            "71:\ttotal: 5.96s\tremaining: 6.45s\n",
            "72:\ttotal: 6.04s\tremaining: 6.38s\n",
            "73:\ttotal: 6.13s\tremaining: 6.29s\n",
            "74:\ttotal: 6.22s\tremaining: 6.22s\n",
            "75:\ttotal: 6.3s\tremaining: 6.13s\n",
            "76:\ttotal: 6.39s\tremaining: 6.06s\n",
            "77:\ttotal: 6.47s\tremaining: 5.98s\n",
            "78:\ttotal: 6.57s\tremaining: 5.9s\n",
            "79:\ttotal: 6.65s\tremaining: 5.82s\n",
            "80:\ttotal: 6.73s\tremaining: 5.73s\n",
            "81:\ttotal: 6.83s\tremaining: 5.66s\n",
            "82:\ttotal: 6.91s\tremaining: 5.58s\n",
            "83:\ttotal: 6.99s\tremaining: 5.49s\n",
            "84:\ttotal: 7.08s\tremaining: 5.41s\n",
            "85:\ttotal: 7.16s\tremaining: 5.33s\n",
            "86:\ttotal: 7.24s\tremaining: 5.24s\n",
            "87:\ttotal: 7.33s\tremaining: 5.17s\n",
            "88:\ttotal: 7.42s\tremaining: 5.08s\n",
            "89:\ttotal: 7.5s\tremaining: 5s\n",
            "90:\ttotal: 7.6s\tremaining: 4.92s\n",
            "91:\ttotal: 7.68s\tremaining: 4.84s\n",
            "92:\ttotal: 7.76s\tremaining: 4.76s\n",
            "93:\ttotal: 7.82s\tremaining: 4.66s\n",
            "94:\ttotal: 7.89s\tremaining: 4.57s\n",
            "95:\ttotal: 7.98s\tremaining: 4.49s\n",
            "96:\ttotal: 8.07s\tremaining: 4.41s\n",
            "97:\ttotal: 8.15s\tremaining: 4.32s\n",
            "98:\ttotal: 8.23s\tremaining: 4.24s\n",
            "99:\ttotal: 8.32s\tremaining: 4.16s\n",
            "100:\ttotal: 8.41s\tremaining: 4.08s\n",
            "101:\ttotal: 8.49s\tremaining: 4s\n",
            "102:\ttotal: 8.57s\tremaining: 3.91s\n",
            "103:\ttotal: 8.66s\tremaining: 3.83s\n",
            "104:\ttotal: 8.74s\tremaining: 3.75s\n",
            "105:\ttotal: 8.82s\tremaining: 3.66s\n",
            "106:\ttotal: 8.91s\tremaining: 3.58s\n",
            "107:\ttotal: 8.99s\tremaining: 3.5s\n",
            "108:\ttotal: 9.08s\tremaining: 3.42s\n",
            "109:\ttotal: 9.16s\tremaining: 3.33s\n",
            "110:\ttotal: 9.24s\tremaining: 3.25s\n",
            "111:\ttotal: 9.33s\tremaining: 3.17s\n",
            "112:\ttotal: 9.42s\tremaining: 3.08s\n",
            "113:\ttotal: 9.5s\tremaining: 3s\n",
            "114:\ttotal: 9.6s\tremaining: 2.92s\n",
            "115:\ttotal: 9.68s\tremaining: 2.84s\n",
            "116:\ttotal: 9.76s\tremaining: 2.75s\n",
            "117:\ttotal: 9.84s\tremaining: 2.67s\n",
            "118:\ttotal: 9.93s\tremaining: 2.58s\n",
            "119:\ttotal: 10s\tremaining: 2.5s\n",
            "120:\ttotal: 10.1s\tremaining: 2.42s\n",
            "121:\ttotal: 10.2s\tremaining: 2.33s\n",
            "122:\ttotal: 10.3s\tremaining: 2.25s\n",
            "123:\ttotal: 10.3s\tremaining: 2.17s\n",
            "124:\ttotal: 10.4s\tremaining: 2.09s\n",
            "125:\ttotal: 10.5s\tremaining: 2s\n",
            "126:\ttotal: 10.6s\tremaining: 1.92s\n",
            "127:\ttotal: 10.7s\tremaining: 1.84s\n",
            "128:\ttotal: 10.8s\tremaining: 1.75s\n",
            "129:\ttotal: 10.9s\tremaining: 1.67s\n",
            "130:\ttotal: 10.9s\tremaining: 1.59s\n",
            "131:\ttotal: 11s\tremaining: 1.5s\n",
            "132:\ttotal: 11.1s\tremaining: 1.42s\n",
            "133:\ttotal: 11.2s\tremaining: 1.34s\n",
            "134:\ttotal: 11.3s\tremaining: 1.25s\n",
            "135:\ttotal: 11.4s\tremaining: 1.17s\n",
            "136:\ttotal: 11.5s\tremaining: 1.09s\n",
            "137:\ttotal: 11.5s\tremaining: 1s\n",
            "138:\ttotal: 11.6s\tremaining: 921ms\n",
            "139:\ttotal: 11.7s\tremaining: 837ms\n",
            "140:\ttotal: 11.8s\tremaining: 753ms\n",
            "141:\ttotal: 11.9s\tremaining: 670ms\n",
            "142:\ttotal: 12s\tremaining: 587ms\n",
            "143:\ttotal: 12.1s\tremaining: 503ms\n",
            "144:\ttotal: 12.2s\tremaining: 419ms\n",
            "145:\ttotal: 12.2s\tremaining: 335ms\n",
            "146:\ttotal: 12.3s\tremaining: 251ms\n",
            "147:\ttotal: 12.4s\tremaining: 168ms\n",
            "148:\ttotal: 12.5s\tremaining: 83.9ms\n",
            "149:\ttotal: 12.6s\tremaining: 0us\n",
            "0:\ttotal: 74.9ms\tremaining: 11.2s\n",
            "1:\ttotal: 128ms\tremaining: 9.44s\n",
            "2:\ttotal: 208ms\tremaining: 10.2s\n",
            "3:\ttotal: 296ms\tremaining: 10.8s\n",
            "4:\ttotal: 353ms\tremaining: 10.2s\n",
            "5:\ttotal: 436ms\tremaining: 10.5s\n",
            "6:\ttotal: 529ms\tremaining: 10.8s\n",
            "7:\ttotal: 608ms\tremaining: 10.8s\n",
            "8:\ttotal: 663ms\tremaining: 10.4s\n",
            "9:\ttotal: 748ms\tremaining: 10.5s\n",
            "10:\ttotal: 828ms\tremaining: 10.5s\n",
            "11:\ttotal: 912ms\tremaining: 10.5s\n",
            "12:\ttotal: 1.01s\tremaining: 10.6s\n",
            "13:\ttotal: 1.1s\tremaining: 10.7s\n",
            "14:\ttotal: 1.18s\tremaining: 10.6s\n",
            "15:\ttotal: 1.26s\tremaining: 10.6s\n",
            "16:\ttotal: 1.35s\tremaining: 10.5s\n",
            "17:\ttotal: 1.43s\tremaining: 10.5s\n",
            "18:\ttotal: 1.53s\tremaining: 10.5s\n",
            "19:\ttotal: 1.61s\tremaining: 10.5s\n",
            "20:\ttotal: 1.69s\tremaining: 10.4s\n",
            "21:\ttotal: 1.78s\tremaining: 10.4s\n",
            "22:\ttotal: 1.86s\tremaining: 10.3s\n",
            "23:\ttotal: 1.94s\tremaining: 10.2s\n",
            "24:\ttotal: 2.04s\tremaining: 10.2s\n",
            "25:\ttotal: 2.12s\tremaining: 10.1s\n",
            "26:\ttotal: 2.21s\tremaining: 10s\n",
            "27:\ttotal: 2.29s\tremaining: 9.99s\n",
            "28:\ttotal: 2.37s\tremaining: 9.9s\n",
            "29:\ttotal: 2.46s\tremaining: 9.83s\n",
            "30:\ttotal: 2.55s\tremaining: 9.8s\n",
            "31:\ttotal: 2.63s\tremaining: 9.71s\n",
            "32:\ttotal: 2.71s\tremaining: 9.62s\n",
            "33:\ttotal: 2.81s\tremaining: 9.57s\n",
            "34:\ttotal: 2.89s\tremaining: 9.48s\n",
            "35:\ttotal: 2.97s\tremaining: 9.4s\n",
            "36:\ttotal: 3.06s\tremaining: 9.33s\n",
            "37:\ttotal: 3.14s\tremaining: 9.25s\n",
            "38:\ttotal: 3.23s\tremaining: 9.2s\n",
            "39:\ttotal: 3.32s\tremaining: 9.12s\n",
            "40:\ttotal: 3.38s\tremaining: 8.99s\n",
            "41:\ttotal: 3.47s\tremaining: 8.92s\n",
            "42:\ttotal: 3.56s\tremaining: 8.87s\n",
            "43:\ttotal: 3.64s\tremaining: 8.78s\n",
            "44:\ttotal: 3.73s\tremaining: 8.7s\n",
            "45:\ttotal: 3.82s\tremaining: 8.63s\n",
            "46:\ttotal: 3.9s\tremaining: 8.54s\n",
            "47:\ttotal: 3.98s\tremaining: 8.46s\n",
            "48:\ttotal: 4.08s\tremaining: 8.4s\n",
            "49:\ttotal: 4.17s\tremaining: 8.33s\n",
            "50:\ttotal: 4.25s\tremaining: 8.25s\n",
            "51:\ttotal: 4.34s\tremaining: 8.17s\n",
            "52:\ttotal: 4.42s\tremaining: 8.09s\n",
            "53:\ttotal: 4.5s\tremaining: 8.01s\n",
            "54:\ttotal: 4.6s\tremaining: 7.94s\n",
            "55:\ttotal: 4.68s\tremaining: 7.86s\n",
            "56:\ttotal: 4.77s\tremaining: 7.78s\n",
            "57:\ttotal: 4.86s\tremaining: 7.7s\n",
            "58:\ttotal: 4.94s\tremaining: 7.62s\n",
            "59:\ttotal: 5.03s\tremaining: 7.54s\n",
            "60:\ttotal: 5.08s\tremaining: 7.42s\n",
            "61:\ttotal: 5.18s\tremaining: 7.35s\n",
            "62:\ttotal: 5.26s\tremaining: 7.26s\n",
            "63:\ttotal: 5.34s\tremaining: 7.18s\n",
            "64:\ttotal: 5.43s\tremaining: 7.11s\n",
            "65:\ttotal: 5.51s\tremaining: 7.02s\n",
            "66:\ttotal: 5.61s\tremaining: 6.95s\n",
            "67:\ttotal: 5.69s\tremaining: 6.87s\n",
            "68:\ttotal: 5.77s\tremaining: 6.78s\n",
            "69:\ttotal: 5.87s\tremaining: 6.7s\n",
            "70:\ttotal: 5.95s\tremaining: 6.62s\n",
            "71:\ttotal: 6.03s\tremaining: 6.53s\n",
            "72:\ttotal: 6.13s\tremaining: 6.47s\n",
            "73:\ttotal: 6.22s\tremaining: 6.39s\n",
            "74:\ttotal: 6.3s\tremaining: 6.3s\n",
            "75:\ttotal: 6.38s\tremaining: 6.22s\n",
            "76:\ttotal: 6.47s\tremaining: 6.13s\n",
            "77:\ttotal: 6.55s\tremaining: 6.05s\n",
            "78:\ttotal: 6.64s\tremaining: 5.97s\n",
            "79:\ttotal: 6.73s\tremaining: 5.89s\n",
            "80:\ttotal: 6.81s\tremaining: 5.8s\n",
            "81:\ttotal: 6.9s\tremaining: 5.72s\n",
            "82:\ttotal: 6.97s\tremaining: 5.63s\n",
            "83:\ttotal: 7.06s\tremaining: 5.55s\n",
            "84:\ttotal: 7.15s\tremaining: 5.47s\n",
            "85:\ttotal: 7.23s\tremaining: 5.38s\n",
            "86:\ttotal: 7.32s\tremaining: 5.3s\n",
            "87:\ttotal: 7.41s\tremaining: 5.22s\n",
            "88:\ttotal: 7.49s\tremaining: 5.13s\n",
            "89:\ttotal: 7.58s\tremaining: 5.05s\n",
            "90:\ttotal: 7.67s\tremaining: 4.97s\n",
            "91:\ttotal: 7.75s\tremaining: 4.88s\n",
            "92:\ttotal: 7.83s\tremaining: 4.8s\n",
            "93:\ttotal: 7.91s\tremaining: 4.71s\n",
            "94:\ttotal: 7.99s\tremaining: 4.63s\n",
            "95:\ttotal: 8.08s\tremaining: 4.54s\n",
            "96:\ttotal: 8.17s\tremaining: 4.46s\n",
            "97:\ttotal: 8.25s\tremaining: 4.38s\n",
            "98:\ttotal: 8.33s\tremaining: 4.29s\n",
            "99:\ttotal: 8.42s\tremaining: 4.21s\n",
            "100:\ttotal: 8.5s\tremaining: 4.12s\n",
            "101:\ttotal: 8.59s\tremaining: 4.04s\n",
            "102:\ttotal: 8.68s\tremaining: 3.96s\n",
            "103:\ttotal: 8.76s\tremaining: 3.87s\n",
            "104:\ttotal: 8.85s\tremaining: 3.79s\n",
            "105:\ttotal: 8.93s\tremaining: 3.71s\n",
            "106:\ttotal: 9.01s\tremaining: 3.62s\n",
            "107:\ttotal: 9.09s\tremaining: 3.54s\n",
            "108:\ttotal: 9.19s\tremaining: 3.45s\n",
            "109:\ttotal: 9.27s\tremaining: 3.37s\n",
            "110:\ttotal: 9.35s\tremaining: 3.28s\n",
            "111:\ttotal: 9.45s\tremaining: 3.2s\n",
            "112:\ttotal: 9.53s\tremaining: 3.12s\n",
            "113:\ttotal: 9.62s\tremaining: 3.04s\n",
            "114:\ttotal: 9.71s\tremaining: 2.96s\n",
            "115:\ttotal: 9.79s\tremaining: 2.87s\n",
            "116:\ttotal: 9.87s\tremaining: 2.78s\n",
            "117:\ttotal: 9.96s\tremaining: 2.7s\n",
            "118:\ttotal: 10s\tremaining: 2.62s\n",
            "119:\ttotal: 10.1s\tremaining: 2.53s\n",
            "120:\ttotal: 10.2s\tremaining: 2.45s\n",
            "121:\ttotal: 10.3s\tremaining: 2.36s\n",
            "122:\ttotal: 10.4s\tremaining: 2.28s\n",
            "123:\ttotal: 10.5s\tremaining: 2.19s\n",
            "124:\ttotal: 10.6s\tremaining: 2.11s\n",
            "125:\ttotal: 10.6s\tremaining: 2.03s\n",
            "126:\ttotal: 10.7s\tremaining: 1.94s\n",
            "127:\ttotal: 10.8s\tremaining: 1.86s\n",
            "128:\ttotal: 10.9s\tremaining: 1.77s\n",
            "129:\ttotal: 11s\tremaining: 1.69s\n",
            "130:\ttotal: 11.1s\tremaining: 1.61s\n",
            "131:\ttotal: 11.2s\tremaining: 1.52s\n",
            "132:\ttotal: 11.2s\tremaining: 1.44s\n",
            "133:\ttotal: 11.3s\tremaining: 1.35s\n",
            "134:\ttotal: 11.4s\tremaining: 1.27s\n",
            "135:\ttotal: 11.5s\tremaining: 1.18s\n",
            "136:\ttotal: 11.6s\tremaining: 1.1s\n",
            "137:\ttotal: 11.7s\tremaining: 1.01s\n",
            "138:\ttotal: 11.8s\tremaining: 931ms\n",
            "139:\ttotal: 11.9s\tremaining: 847ms\n",
            "140:\ttotal: 11.9s\tremaining: 762ms\n",
            "141:\ttotal: 12s\tremaining: 677ms\n",
            "142:\ttotal: 12.1s\tremaining: 593ms\n",
            "143:\ttotal: 12.2s\tremaining: 508ms\n",
            "144:\ttotal: 12.3s\tremaining: 423ms\n",
            "145:\ttotal: 12.4s\tremaining: 339ms\n",
            "146:\ttotal: 12.5s\tremaining: 254ms\n",
            "147:\ttotal: 12.5s\tremaining: 169ms\n",
            "148:\ttotal: 12.6s\tremaining: 84.7ms\n",
            "149:\ttotal: 12.7s\tremaining: 0us\n",
            "0:\ttotal: 71ms\tremaining: 10.6s\n",
            "1:\ttotal: 126ms\tremaining: 9.33s\n",
            "2:\ttotal: 204ms\tremaining: 10s\n",
            "3:\ttotal: 287ms\tremaining: 10.5s\n",
            "4:\ttotal: 346ms\tremaining: 10s\n",
            "5:\ttotal: 423ms\tremaining: 10.2s\n",
            "6:\ttotal: 510ms\tremaining: 10.4s\n",
            "7:\ttotal: 604ms\tremaining: 10.7s\n",
            "8:\ttotal: 657ms\tremaining: 10.3s\n",
            "9:\ttotal: 743ms\tremaining: 10.4s\n",
            "10:\ttotal: 823ms\tremaining: 10.4s\n",
            "11:\ttotal: 934ms\tremaining: 10.7s\n",
            "12:\ttotal: 1.02s\tremaining: 10.8s\n",
            "13:\ttotal: 1.1s\tremaining: 10.7s\n",
            "14:\ttotal: 1.19s\tremaining: 10.7s\n",
            "15:\ttotal: 1.27s\tremaining: 10.7s\n",
            "16:\ttotal: 1.36s\tremaining: 10.7s\n",
            "17:\ttotal: 1.44s\tremaining: 10.6s\n",
            "18:\ttotal: 1.53s\tremaining: 10.6s\n",
            "19:\ttotal: 1.63s\tremaining: 10.6s\n",
            "20:\ttotal: 1.71s\tremaining: 10.5s\n",
            "21:\ttotal: 1.79s\tremaining: 10.4s\n",
            "22:\ttotal: 1.88s\tremaining: 10.4s\n",
            "23:\ttotal: 1.97s\tremaining: 10.3s\n",
            "24:\ttotal: 2.05s\tremaining: 10.3s\n",
            "25:\ttotal: 2.14s\tremaining: 10.2s\n",
            "26:\ttotal: 2.22s\tremaining: 10.1s\n",
            "27:\ttotal: 2.31s\tremaining: 10.1s\n",
            "28:\ttotal: 2.39s\tremaining: 9.97s\n",
            "29:\ttotal: 2.47s\tremaining: 9.88s\n",
            "30:\ttotal: 2.56s\tremaining: 9.84s\n",
            "31:\ttotal: 2.65s\tremaining: 9.78s\n",
            "32:\ttotal: 2.73s\tremaining: 9.68s\n",
            "33:\ttotal: 2.82s\tremaining: 9.61s\n",
            "34:\ttotal: 2.9s\tremaining: 9.54s\n",
            "35:\ttotal: 2.99s\tremaining: 9.46s\n",
            "36:\ttotal: 3.08s\tremaining: 9.4s\n",
            "37:\ttotal: 3.17s\tremaining: 9.33s\n",
            "38:\ttotal: 3.25s\tremaining: 9.24s\n",
            "39:\ttotal: 3.33s\tremaining: 9.17s\n",
            "40:\ttotal: 3.4s\tremaining: 9.03s\n",
            "41:\ttotal: 3.48s\tremaining: 8.94s\n",
            "42:\ttotal: 3.56s\tremaining: 8.86s\n",
            "43:\ttotal: 3.65s\tremaining: 8.79s\n",
            "44:\ttotal: 3.73s\tremaining: 8.71s\n",
            "45:\ttotal: 3.83s\tremaining: 8.65s\n",
            "46:\ttotal: 3.92s\tremaining: 8.58s\n",
            "47:\ttotal: 4s\tremaining: 8.5s\n",
            "48:\ttotal: 4.09s\tremaining: 8.43s\n",
            "49:\ttotal: 4.17s\tremaining: 8.34s\n",
            "50:\ttotal: 4.25s\tremaining: 8.26s\n",
            "51:\ttotal: 4.34s\tremaining: 8.19s\n",
            "52:\ttotal: 4.42s\tremaining: 8.1s\n",
            "53:\ttotal: 4.51s\tremaining: 8.02s\n",
            "54:\ttotal: 4.6s\tremaining: 7.94s\n",
            "55:\ttotal: 4.68s\tremaining: 7.87s\n",
            "56:\ttotal: 4.77s\tremaining: 7.78s\n",
            "57:\ttotal: 4.85s\tremaining: 7.7s\n",
            "58:\ttotal: 4.93s\tremaining: 7.61s\n",
            "59:\ttotal: 5.02s\tremaining: 7.53s\n",
            "60:\ttotal: 5.08s\tremaining: 7.41s\n",
            "61:\ttotal: 5.17s\tremaining: 7.34s\n",
            "62:\ttotal: 5.25s\tremaining: 7.25s\n",
            "63:\ttotal: 5.34s\tremaining: 7.17s\n",
            "64:\ttotal: 5.42s\tremaining: 7.08s\n",
            "65:\ttotal: 5.5s\tremaining: 7s\n",
            "66:\ttotal: 5.58s\tremaining: 6.92s\n",
            "67:\ttotal: 5.67s\tremaining: 6.84s\n",
            "68:\ttotal: 5.76s\tremaining: 6.76s\n",
            "69:\ttotal: 5.86s\tremaining: 6.69s\n",
            "70:\ttotal: 5.94s\tremaining: 6.61s\n",
            "71:\ttotal: 6.02s\tremaining: 6.52s\n",
            "72:\ttotal: 6.11s\tremaining: 6.45s\n",
            "73:\ttotal: 6.19s\tremaining: 6.36s\n",
            "74:\ttotal: 6.23s\tremaining: 6.23s\n",
            "75:\ttotal: 6.32s\tremaining: 6.16s\n",
            "76:\ttotal: 6.4s\tremaining: 6.07s\n",
            "77:\ttotal: 6.49s\tremaining: 5.99s\n",
            "78:\ttotal: 6.58s\tremaining: 5.91s\n",
            "79:\ttotal: 6.67s\tremaining: 5.83s\n",
            "80:\ttotal: 6.75s\tremaining: 5.75s\n",
            "81:\ttotal: 6.81s\tremaining: 5.65s\n",
            "82:\ttotal: 6.89s\tremaining: 5.56s\n",
            "83:\ttotal: 6.98s\tremaining: 5.49s\n",
            "84:\ttotal: 7.07s\tremaining: 5.41s\n",
            "85:\ttotal: 7.16s\tremaining: 5.33s\n",
            "86:\ttotal: 7.24s\tremaining: 5.24s\n",
            "87:\ttotal: 7.3s\tremaining: 5.14s\n",
            "88:\ttotal: 7.38s\tremaining: 5.06s\n",
            "89:\ttotal: 7.46s\tremaining: 4.97s\n",
            "90:\ttotal: 7.56s\tremaining: 4.9s\n",
            "91:\ttotal: 7.65s\tremaining: 4.82s\n",
            "92:\ttotal: 7.73s\tremaining: 4.74s\n",
            "93:\ttotal: 7.82s\tremaining: 4.66s\n",
            "94:\ttotal: 7.9s\tremaining: 4.57s\n",
            "95:\ttotal: 7.99s\tremaining: 4.49s\n",
            "96:\ttotal: 8.07s\tremaining: 4.41s\n",
            "97:\ttotal: 8.15s\tremaining: 4.33s\n",
            "98:\ttotal: 8.24s\tremaining: 4.24s\n",
            "99:\ttotal: 8.32s\tremaining: 4.16s\n",
            "100:\ttotal: 8.4s\tremaining: 4.08s\n",
            "101:\ttotal: 8.49s\tremaining: 3.99s\n",
            "102:\ttotal: 8.58s\tremaining: 3.92s\n",
            "103:\ttotal: 8.68s\tremaining: 3.84s\n",
            "104:\ttotal: 8.76s\tremaining: 3.75s\n",
            "105:\ttotal: 8.84s\tremaining: 3.67s\n",
            "106:\ttotal: 8.93s\tremaining: 3.59s\n",
            "107:\ttotal: 9.01s\tremaining: 3.5s\n",
            "108:\ttotal: 9.1s\tremaining: 3.42s\n",
            "109:\ttotal: 9.19s\tremaining: 3.34s\n",
            "110:\ttotal: 9.27s\tremaining: 3.26s\n",
            "111:\ttotal: 9.36s\tremaining: 3.17s\n",
            "112:\ttotal: 9.44s\tremaining: 3.09s\n",
            "113:\ttotal: 9.52s\tremaining: 3.01s\n",
            "114:\ttotal: 9.6s\tremaining: 2.92s\n",
            "115:\ttotal: 9.69s\tremaining: 2.84s\n",
            "116:\ttotal: 9.75s\tremaining: 2.75s\n",
            "117:\ttotal: 9.85s\tremaining: 2.67s\n",
            "118:\ttotal: 9.93s\tremaining: 2.59s\n",
            "119:\ttotal: 10s\tremaining: 2.5s\n",
            "120:\ttotal: 10.1s\tremaining: 2.42s\n",
            "121:\ttotal: 10.2s\tremaining: 2.34s\n",
            "122:\ttotal: 10.3s\tremaining: 2.26s\n",
            "123:\ttotal: 10.4s\tremaining: 2.17s\n",
            "124:\ttotal: 10.5s\tremaining: 2.09s\n",
            "125:\ttotal: 10.5s\tremaining: 2.01s\n",
            "126:\ttotal: 10.6s\tremaining: 1.92s\n",
            "127:\ttotal: 10.7s\tremaining: 1.84s\n",
            "128:\ttotal: 10.8s\tremaining: 1.76s\n",
            "129:\ttotal: 10.9s\tremaining: 1.68s\n",
            "130:\ttotal: 11s\tremaining: 1.59s\n",
            "131:\ttotal: 11.1s\tremaining: 1.51s\n",
            "132:\ttotal: 11.2s\tremaining: 1.43s\n",
            "133:\ttotal: 11.2s\tremaining: 1.34s\n",
            "134:\ttotal: 11.3s\tremaining: 1.25s\n",
            "135:\ttotal: 11.4s\tremaining: 1.17s\n",
            "136:\ttotal: 11.5s\tremaining: 1.09s\n",
            "137:\ttotal: 11.5s\tremaining: 1s\n",
            "138:\ttotal: 11.6s\tremaining: 921ms\n",
            "139:\ttotal: 11.7s\tremaining: 837ms\n",
            "140:\ttotal: 11.8s\tremaining: 754ms\n",
            "141:\ttotal: 11.9s\tremaining: 671ms\n",
            "142:\ttotal: 12s\tremaining: 588ms\n",
            "143:\ttotal: 12.1s\tremaining: 504ms\n",
            "144:\ttotal: 12.2s\tremaining: 420ms\n",
            "145:\ttotal: 12.3s\tremaining: 336ms\n",
            "146:\ttotal: 12.3s\tremaining: 252ms\n",
            "147:\ttotal: 12.4s\tremaining: 168ms\n",
            "148:\ttotal: 12.5s\tremaining: 83.9ms\n",
            "149:\ttotal: 12.6s\tremaining: 0us\n",
            "0:\ttotal: 68.7ms\tremaining: 10.2s\n",
            "1:\ttotal: 121ms\tremaining: 8.96s\n",
            "2:\ttotal: 199ms\tremaining: 9.75s\n",
            "3:\ttotal: 289ms\tremaining: 10.6s\n",
            "4:\ttotal: 349ms\tremaining: 10.1s\n",
            "5:\ttotal: 427ms\tremaining: 10.3s\n",
            "6:\ttotal: 512ms\tremaining: 10.5s\n",
            "7:\ttotal: 590ms\tremaining: 10.5s\n",
            "8:\ttotal: 644ms\tremaining: 10.1s\n",
            "9:\ttotal: 732ms\tremaining: 10.3s\n",
            "10:\ttotal: 823ms\tremaining: 10.4s\n",
            "11:\ttotal: 905ms\tremaining: 10.4s\n",
            "12:\ttotal: 1s\tremaining: 10.5s\n",
            "13:\ttotal: 1.08s\tremaining: 10.5s\n",
            "14:\ttotal: 1.16s\tremaining: 10.5s\n",
            "15:\ttotal: 1.25s\tremaining: 10.5s\n",
            "16:\ttotal: 1.34s\tremaining: 10.5s\n",
            "17:\ttotal: 1.42s\tremaining: 10.4s\n",
            "18:\ttotal: 1.51s\tremaining: 10.4s\n",
            "19:\ttotal: 1.59s\tremaining: 10.3s\n",
            "20:\ttotal: 1.67s\tremaining: 10.3s\n",
            "21:\ttotal: 1.76s\tremaining: 10.3s\n",
            "22:\ttotal: 1.85s\tremaining: 10.2s\n",
            "23:\ttotal: 1.94s\tremaining: 10.2s\n",
            "24:\ttotal: 2.03s\tremaining: 10.1s\n",
            "25:\ttotal: 2.11s\tremaining: 10.1s\n",
            "26:\ttotal: 2.19s\tremaining: 9.99s\n",
            "27:\ttotal: 2.28s\tremaining: 9.93s\n",
            "28:\ttotal: 2.36s\tremaining: 9.87s\n",
            "29:\ttotal: 2.45s\tremaining: 9.79s\n",
            "30:\ttotal: 2.53s\tremaining: 9.72s\n",
            "31:\ttotal: 2.62s\tremaining: 9.65s\n",
            "32:\ttotal: 2.67s\tremaining: 9.46s\n",
            "33:\ttotal: 2.75s\tremaining: 9.39s\n",
            "34:\ttotal: 2.85s\tremaining: 9.36s\n",
            "35:\ttotal: 2.93s\tremaining: 9.28s\n",
            "36:\ttotal: 3.02s\tremaining: 9.23s\n",
            "37:\ttotal: 3.11s\tremaining: 9.16s\n",
            "38:\ttotal: 3.19s\tremaining: 9.08s\n",
            "39:\ttotal: 3.28s\tremaining: 9.01s\n",
            "40:\ttotal: 3.36s\tremaining: 8.93s\n",
            "41:\ttotal: 3.44s\tremaining: 8.85s\n",
            "42:\ttotal: 3.53s\tremaining: 8.78s\n",
            "43:\ttotal: 3.59s\tremaining: 8.64s\n",
            "44:\ttotal: 3.67s\tremaining: 8.55s\n",
            "45:\ttotal: 3.75s\tremaining: 8.49s\n",
            "46:\ttotal: 3.86s\tremaining: 8.45s\n",
            "47:\ttotal: 3.94s\tremaining: 8.38s\n",
            "48:\ttotal: 4.03s\tremaining: 8.31s\n",
            "49:\ttotal: 4.08s\tremaining: 8.15s\n",
            "50:\ttotal: 4.16s\tremaining: 8.07s\n",
            "51:\ttotal: 4.25s\tremaining: 8s\n",
            "52:\ttotal: 4.33s\tremaining: 7.92s\n",
            "53:\ttotal: 4.41s\tremaining: 7.83s\n",
            "54:\ttotal: 4.5s\tremaining: 7.77s\n",
            "55:\ttotal: 4.58s\tremaining: 7.68s\n",
            "56:\ttotal: 4.63s\tremaining: 7.55s\n",
            "57:\ttotal: 4.71s\tremaining: 7.48s\n",
            "58:\ttotal: 4.8s\tremaining: 7.41s\n",
            "59:\ttotal: 4.89s\tremaining: 7.33s\n",
            "60:\ttotal: 4.98s\tremaining: 7.26s\n",
            "61:\ttotal: 5.06s\tremaining: 7.18s\n",
            "62:\ttotal: 5.16s\tremaining: 7.12s\n",
            "63:\ttotal: 5.25s\tremaining: 7.05s\n",
            "64:\ttotal: 5.33s\tremaining: 6.98s\n",
            "65:\ttotal: 5.42s\tremaining: 6.89s\n",
            "66:\ttotal: 5.5s\tremaining: 6.81s\n",
            "67:\ttotal: 5.58s\tremaining: 6.73s\n",
            "68:\ttotal: 5.66s\tremaining: 6.65s\n",
            "69:\ttotal: 5.75s\tremaining: 6.57s\n",
            "70:\ttotal: 5.85s\tremaining: 6.51s\n",
            "71:\ttotal: 5.93s\tremaining: 6.43s\n",
            "72:\ttotal: 6.03s\tremaining: 6.36s\n",
            "73:\ttotal: 6.11s\tremaining: 6.27s\n",
            "74:\ttotal: 6.19s\tremaining: 6.19s\n",
            "75:\ttotal: 6.28s\tremaining: 6.11s\n",
            "76:\ttotal: 6.36s\tremaining: 6.03s\n",
            "77:\ttotal: 6.44s\tremaining: 5.94s\n",
            "78:\ttotal: 6.53s\tremaining: 5.87s\n",
            "79:\ttotal: 6.61s\tremaining: 5.79s\n",
            "80:\ttotal: 6.7s\tremaining: 5.7s\n",
            "81:\ttotal: 6.78s\tremaining: 5.63s\n",
            "82:\ttotal: 6.87s\tremaining: 5.55s\n",
            "83:\ttotal: 6.96s\tremaining: 5.47s\n",
            "84:\ttotal: 7.05s\tremaining: 5.39s\n",
            "85:\ttotal: 7.13s\tremaining: 5.31s\n",
            "86:\ttotal: 7.22s\tremaining: 5.23s\n",
            "87:\ttotal: 7.27s\tremaining: 5.12s\n",
            "88:\ttotal: 7.35s\tremaining: 5.04s\n",
            "89:\ttotal: 7.43s\tremaining: 4.96s\n",
            "90:\ttotal: 7.52s\tremaining: 4.88s\n",
            "91:\ttotal: 7.6s\tremaining: 4.79s\n",
            "92:\ttotal: 7.68s\tremaining: 4.71s\n",
            "93:\ttotal: 7.78s\tremaining: 4.63s\n",
            "94:\ttotal: 7.88s\tremaining: 4.56s\n",
            "95:\ttotal: 7.97s\tremaining: 4.48s\n",
            "96:\ttotal: 8.06s\tremaining: 4.4s\n",
            "97:\ttotal: 8.14s\tremaining: 4.32s\n",
            "98:\ttotal: 8.22s\tremaining: 4.24s\n",
            "99:\ttotal: 8.31s\tremaining: 4.15s\n",
            "100:\ttotal: 8.39s\tremaining: 4.07s\n",
            "101:\ttotal: 8.48s\tremaining: 3.99s\n",
            "102:\ttotal: 8.57s\tremaining: 3.91s\n",
            "103:\ttotal: 8.65s\tremaining: 3.83s\n",
            "104:\ttotal: 8.73s\tremaining: 3.74s\n",
            "105:\ttotal: 8.82s\tremaining: 3.66s\n",
            "106:\ttotal: 8.91s\tremaining: 3.58s\n",
            "107:\ttotal: 9s\tremaining: 3.5s\n",
            "108:\ttotal: 9.05s\tremaining: 3.4s\n",
            "109:\ttotal: 9.14s\tremaining: 3.32s\n",
            "110:\ttotal: 9.22s\tremaining: 3.24s\n",
            "111:\ttotal: 9.31s\tremaining: 3.16s\n",
            "112:\ttotal: 9.39s\tremaining: 3.08s\n",
            "113:\ttotal: 9.47s\tremaining: 2.99s\n",
            "114:\ttotal: 9.56s\tremaining: 2.91s\n",
            "115:\ttotal: 9.65s\tremaining: 2.83s\n",
            "116:\ttotal: 9.73s\tremaining: 2.75s\n",
            "117:\ttotal: 9.82s\tremaining: 2.66s\n",
            "118:\ttotal: 9.92s\tremaining: 2.58s\n",
            "119:\ttotal: 10s\tremaining: 2.5s\n",
            "120:\ttotal: 10.1s\tremaining: 2.42s\n",
            "121:\ttotal: 10.2s\tremaining: 2.33s\n",
            "122:\ttotal: 10.3s\tremaining: 2.25s\n",
            "123:\ttotal: 10.3s\tremaining: 2.17s\n",
            "124:\ttotal: 10.4s\tremaining: 2.08s\n",
            "125:\ttotal: 10.5s\tremaining: 1.99s\n",
            "126:\ttotal: 10.6s\tremaining: 1.91s\n",
            "127:\ttotal: 10.6s\tremaining: 1.83s\n",
            "128:\ttotal: 10.7s\tremaining: 1.75s\n",
            "129:\ttotal: 10.8s\tremaining: 1.66s\n",
            "130:\ttotal: 10.9s\tremaining: 1.58s\n",
            "131:\ttotal: 11s\tremaining: 1.5s\n",
            "132:\ttotal: 11.1s\tremaining: 1.42s\n",
            "133:\ttotal: 11.2s\tremaining: 1.33s\n",
            "134:\ttotal: 11.2s\tremaining: 1.25s\n",
            "135:\ttotal: 11.3s\tremaining: 1.16s\n",
            "136:\ttotal: 11.4s\tremaining: 1.08s\n",
            "137:\ttotal: 11.5s\tremaining: 998ms\n",
            "138:\ttotal: 11.6s\tremaining: 915ms\n",
            "139:\ttotal: 11.7s\tremaining: 832ms\n",
            "140:\ttotal: 11.7s\tremaining: 749ms\n",
            "141:\ttotal: 11.8s\tremaining: 666ms\n",
            "142:\ttotal: 11.9s\tremaining: 583ms\n",
            "143:\ttotal: 12s\tremaining: 500ms\n",
            "144:\ttotal: 12.1s\tremaining: 417ms\n",
            "145:\ttotal: 12.2s\tremaining: 333ms\n",
            "146:\ttotal: 12.3s\tremaining: 250ms\n",
            "147:\ttotal: 12.3s\tremaining: 167ms\n",
            "148:\ttotal: 12.4s\tremaining: 83.4ms\n",
            "149:\ttotal: 12.5s\tremaining: 0us\n"
          ],
          "name": "stdout"
        }
      ]
    },
    {
      "cell_type": "code",
      "metadata": {
        "id": "VIru9uqe41bk"
      },
      "source": [
        "final_df = pd.DataFrame({\"ID\": test_data_id_list, target:y_pred})"
      ],
      "execution_count": 39,
      "outputs": []
    },
    {
      "cell_type": "code",
      "metadata": {
        "id": "enxtT1CxCN-m"
      },
      "source": [
        "final_df.to_csv('final_predictions.csv',index=False)"
      ],
      "execution_count": 40,
      "outputs": []
    },
    {
      "cell_type": "code",
      "metadata": {
        "id": "Gdr6lxtu1LfX"
      },
      "source": [
        ""
      ],
      "execution_count": null,
      "outputs": []
    }
  ]
}